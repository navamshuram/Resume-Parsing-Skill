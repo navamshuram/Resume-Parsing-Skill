{
 "cells": [
  {
   "cell_type": "code",
   "execution_count": 1,
   "metadata": {},
   "outputs": [
    {
     "name": "stderr",
     "output_type": "stream",
     "text": [
      "[nltk_data] Downloading package punkt to\n",
      "[nltk_data]     C:\\Users\\admin\\AppData\\Roaming\\nltk_data...\n",
      "[nltk_data]   Package punkt is already up-to-date!\n",
      "[nltk_data] Downloading package averaged_perceptron_tagger to\n",
      "[nltk_data]     C:\\Users\\admin\\AppData\\Roaming\\nltk_data...\n",
      "[nltk_data]   Package averaged_perceptron_tagger is already up-to-\n",
      "[nltk_data]       date!\n",
      "[nltk_data] Downloading package maxent_ne_chunker to\n",
      "[nltk_data]     C:\\Users\\admin\\AppData\\Roaming\\nltk_data...\n",
      "[nltk_data]   Package maxent_ne_chunker is already up-to-date!\n",
      "[nltk_data] Downloading package words to\n",
      "[nltk_data]     C:\\Users\\admin\\AppData\\Roaming\\nltk_data...\n",
      "[nltk_data]   Package words is already up-to-date!\n"
     ]
    },
    {
     "name": "stdout",
     "output_type": "stream",
     "text": [
      "Email--> ['Swiftk401@gmail.com']\n",
      "Skills--> ['windows', 'software', 'email marketing', 'databases', 'component', 'debugging', 'business process', 'database', 'support', 'tracking system', 'framework', 'data structures', 'deployment', 'languages', 'design', 'testing', 'business', 'bash', 'web service', 'data integration', 'command line interface', 'git', 'access control', 'metadata', 'javascript', 'schedule', 'library', 'correctness', 'amp', 'security', 'user interface', 'java', 'visual studio code', 'eclipse', 'operating systems', 'postman', 'workflow', 'marketing']\n",
      "Phone number--> 737-520-6996\n",
      "First name--> Karen\n"
     ]
    },
    {
     "name": "stderr",
     "output_type": "stream",
     "text": [
      "ERROR:root:'NoneType' object has no attribute 'group'\n"
     ]
    },
    {
     "name": "stdout",
     "output_type": "stream",
     "text": [
      "Full name--> Karen Swift\n",
      "\n",
      "Sr.\n",
      "Experience --> 0\n",
      "Designation--> []\n",
      "Education--> ['MS']\n",
      "Email--> ['harish.oracle@yandex.com']\n",
      "Skills--> ['queue', 'engineering', 'software', 'oracle', 'databases', 'business process', 'mobile computing', 'component', 'database', 'support', 'mobile', 'accounting', 'monitoring', 'languages', 'design', 'testing', 'business', 'linux', 'functional testing', 'release', 'git', 'cross validation', 'computer science', 'content management', 'library', 'finance', 'compass', 'publishing', 'payments', 'shell', 'github', 'workflow', 'specification']\n",
      "Phone number--> 732-344-3609\n",
      "First name--> Career Overview\n"
     ]
    },
    {
     "name": "stderr",
     "output_type": "stream",
     "text": [
      "ERROR:root:correct_year() missing 1 required positional argument: 'text'\n"
     ]
    },
    {
     "name": "stdout",
     "output_type": "stream",
     "text": [
      "Full name--> 344\n",
      "Experience --> 0\n",
      "Designation--> []\n",
      "Education--> []\n",
      "Email--> ['kalyantab99@gmail.com']\n",
      "Skills--> ['typescript', 'interaction', 'rest api', 'server', 'hibernate', 'mobile', 'libraries', 'data access', 'jenkins', 'web service', 'linux', 'jquery ui', 'bootstrap', 'application server', 'kubernetes', 'javascript', 'user interface', 'amazon web services', 'data processing', 'docker', 'selenium', 'karma', 'shell', 'apache tomcat', 'gulp', 'junit', 'high availability', 'authentication', 'oracle', 'flux', 'npm', 'spring boot', 'sass', 'design', 'testing', 'business', 'git', 'hapi', 'computer science', 'security', 'spring', 'java', 'continuous integration', 'node.js', 'eclipse', 'jquery', 'react', 'bamboo', 'software', 'databases', 'debugging', 'web server', 'support', 'chrome', 'monitoring', 'framework', 'fault tolerance', 'deployment', 'interconnection', 'backbone.js', 'continuous deployment', 'mysql', 'underscore', 'bower', 'node js', 'web servers', 'express js', 'jasmine', 'file uploads', 'bitbucket', 'router', 'workflow', 'ember js', 'mongodb', 'commerce', 'backbone js', 'database', 'beanstalk', 'cloud foundry', 'mocha', 'angularjs', 'spring cloud', 'angular', 'kafka', 'languages', 'nosql', 'release', 'library', 'mongoose', 'redux', 'docker machine', 'go cd', 'cucumber']\n",
      "Phone number--> 214-660-5515\n",
      "First name--> Agile Full Stack Developer\n"
     ]
    },
    {
     "name": "stderr",
     "output_type": "stream",
     "text": [
      "ERROR:root:'NoneType' object has no attribute 'group'\n"
     ]
    },
    {
     "name": "stdout",
     "output_type": "stream",
     "text": [
      "Full name--> #\n",
      "Experience --> 0\n",
      "Designation--> []\n",
      "Education--> ['X']\n",
      "Email--> ['Andrewc0204@gmail.com']\n"
     ]
    },
    {
     "name": "stderr",
     "output_type": "stream",
     "text": [
      "ERROR:root:correct_year() missing 1 required positional argument: 'text'\n"
     ]
    },
    {
     "name": "stdout",
     "output_type": "stream",
     "text": [
      "Skills--> ['android', 'libraries', 'gradle', 'git', 'gitkraken', 'design', 'play', 'material design', 'lottie']\n",
      "Phone number--> \n",
      "First name--> Andrew\n",
      "Full name--> Andrew Colon  \n",
      "\n",
      "Experience --> 0\n",
      "Designation--> []\n",
      "Education--> []\n",
      "Email--> ['Marine121212@live.com']\n",
      "Skills--> ['monitoring', 'windows', 'communications', 'support', 'deployment', 'software', 'testing', 'linux', 'router', 'server', 'documentation', 'business', 'encryption', 'security', 'operating systems', 'wireless', 'computer network']\n",
      "Phone number--> (480) 304-0505\n",
      "First name--> Richard\n"
     ]
    },
    {
     "name": "stderr",
     "output_type": "stream",
     "text": [
      "ERROR:root:correct_year() missing 1 required positional argument: 'text'\n"
     ]
    },
    {
     "name": "stdout",
     "output_type": "stream",
     "text": [
      "Full name--> Richard Joseph Christie\n",
      "Experience --> 0\n",
      "Designation--> []\n",
      "Education--> []\n",
      "Email--> ['4@gmail.com']\n",
      "Skills--> ['python', 'software', 'crashlytics', 'programming language', 'server', 'database', 'sqlite', 'machine learning', 'mobile', 'android', 'framework', 'deployment', 'design', 'testing', 'tensorflow', 'stripe', 'mysql', 'google maps', 'computer science', 'android sdk', 'pandas', 'deep learning', 'parsing']\n",
      "Phone number--> \n",
      "First name--> Steven\n",
      "Full name--> Steven Wang\n",
      "Experience --> None\n",
      "Designation--> []\n",
      "Education--> []\n",
      "Email--> ['a58@gmail.c']\n",
      "Skills--> ['communications', 'release', 'framework', 'software', 'scalability', 'scanner', 'business', 'spring', 'support']\n",
      "Phone number--> 973.609.3346\n",
      "First name--> Olamide\n"
     ]
    },
    {
     "name": "stderr",
     "output_type": "stream",
     "text": [
      "ERROR:root:correct_year() missing 1 required positional argument: 'text'\n"
     ]
    },
    {
     "name": "stdout",
     "output_type": "stream",
     "text": [
      "Full name--> Healthcare Industry\n",
      "Experience --> 0\n",
      "Designation--> []\n",
      "Education--> ['x']\n",
      "Email--> ['hr@epitomeri.com']\n",
      "Skills--> ['android', 'google', 'java', 'code review', 'paypal', 'git', 'data structures', 'software', 'design', 'library', 'rest api', 'memory management', 'mobile', 'android studio', 'database', 'source code', 'collaboration', 'kotlin']\n",
      "Phone number--> 734-272-6655\n",
      "First name--> Maniteja\n"
     ]
    },
    {
     "name": "stderr",
     "output_type": "stream",
     "text": [
      "ERROR:root:correct_year() missing 1 required positional argument: 'text'\n"
     ]
    },
    {
     "name": "stdout",
     "output_type": "stream",
     "text": [
      "Full name--> 734\n",
      "Experience --> 0\n",
      "Designation--> []\n",
      "Education--> []\n",
      "Email--> ['n.ikjainit88@gmail.com']\n",
      "Skills--> ['windows', 'middleware', 'code review', 'software', 'oracle', 'visual basic', 'databases', 'debugging', 'server', 'microsoft sql server', 'database', 'system testing', 'source code', 'project management', 'support', 'documentation', 'deployment', 'visual studio', 'languages', 'design', 'testing', 'business', 'data consistency', 'front end', 'utilities', 'diagram', 'specification', 'java', 'finance', 'data analysis', 'data stores', 'operating systems', 'marketing']\n",
      "Phone number--> \n",
      "First name--> Nishka\n"
     ]
    },
    {
     "name": "stderr",
     "output_type": "stream",
     "text": [
      "ERROR:root:correct_year() missing 1 required positional argument: 'text'\n"
     ]
    },
    {
     "name": "stdout",
     "output_type": "stream",
     "text": [
      "Full name--> Nishka Jain\n",
      "\n",
      "E.Mail:n.ikjainit88@gmail.com\n",
      "Experience --> 0\n",
      "Designation--> []\n",
      "Education--> ['MS']\n",
      "Email--> []\n",
      "Skills--> ['windows', 'junit', 'interaction', 'code review', 'engineering', 'authentication', 'oracle', 'firebase', 'software', 'debugging', 'server', 'database', 'sqlite', 'hibernate', 'mobile', 'xamarin', 'android', 'gradle', 'framework', 'angular', 'visual studio', 'deployment', 'languages', 'design', 'scanner', 'testing', 'data structure', 'jquery mobile', 'business', 'web service', 'mysql', 'invision', 'git', 'javascript', 'library', 'android sdk', 'issue tracking', 'user interface', 'java', 'bitbucket', 'continuous integration', 'twitter', 'sauce labs', 'parsing', 'eclipse', 'material design', 'android studio', 'source code', 'postman', 'github']\n",
      "Phone number--> (469)3290763\n",
      "First name--> Android Developer\n"
     ]
    },
    {
     "name": "stderr",
     "output_type": "stream",
     "text": [
      "ERROR:root:correct_year() missing 1 required positional argument: 'text'\n"
     ]
    },
    {
     "name": "stdout",
     "output_type": "stream",
     "text": [
      "Full name--> Android Developer\n",
      "Experience --> 0\n",
      "Designation--> []\n",
      "Education--> []\n",
      "Email--> ['smsachanandani@gmail.com']\n",
      "Skills--> ['engineering', 'algorithm', 'business process', 'project management', 'data modeling', 'variables', 'accounting', 'monitoring', 'tower', 'design', 'time series', 'business', 'echo', 'ml', 'finance', 'monitoring tools', 'segmentation', 'process management', 'analytics']\n",
      "Phone number--> 753-2000\n",
      "First name--> Bradenton\n"
     ]
    },
    {
     "name": "stderr",
     "output_type": "stream",
     "text": [
      "ERROR:root:correct_year() missing 1 required positional argument: 'text'\n"
     ]
    },
    {
     "name": "stdout",
     "output_type": "stream",
     "text": [
      "Full name--> 1/2\n",
      "Experience --> 0\n",
      "Designation--> []\n",
      "Education--> None\n",
      "Email--> ['freisy19@hotmail.com']\n"
     ]
    },
    {
     "name": "stderr",
     "output_type": "stream",
     "text": [
      "ERROR:root:'NoneType' object has no attribute 'group'\n"
     ]
    },
    {
     "name": "stdout",
     "output_type": "stream",
     "text": [
      "Skills--> ['design', 'data integrity', 'business', 'material', 'support', 'industrial engineering']\n",
      "Phone number--> \n",
      "First name--> Material Management\n",
      "Full name--> 646)•806•7675\n",
      "Experience --> 0\n",
      "Designation--> []\n",
      "Education--> []\n",
      "Email--> ['642-4010wconsulting@mac.comProfile', '642-4010wconsulting@mac.comSAP', '642-4010wconsulting@mac.comDAIRY', '642-4010wconsulting@mac.comABBOTT', '642-4010wconsulting@mac.comSCOTT', '642-4010wconsulting@mac.comSAUER-DANFOSS', '642-4010wconsulting@mac.comTRIQUINT', '642-4010wconsulting@mac.comDUPONT', '642-4010wconsulting@mac.comSCIENTIFIC', '642-4010wconsulting@mac.comOther', '642-4010wconsulting@mac.comEducationCONSULTANT']\n",
      "Skills--> ['interaction', 'software', 'oracle', 'component', 'business process', 'project management', 'database', 'support', 'tracking system', 'inspec', 'accounting', 'broadcasting', 'design', 'testing', 'business', 'front end', 'batch processing', 'certificate', 'release', 'schedule', 'business intelligence', 'material', 'ml', 'finance', 'conductor']\n",
      "Phone number--> (904) 219-7279\n",
      "First name--> Dewayne\n",
      "Full name--> Dewayne WesleySAP Finance &\n",
      "Experience --> None\n",
      "Designation--> []\n",
      "Education--> None\n",
      "Email--> ['michael.a.turner10@gmail.com', 'michael.a.turner10@gmail.com']\n",
      "Skills--> ['monitoring', 'operating system', 'communications', 'interaction', 'finance', 'software', 'wireless', 'payments', 'databases', 'debugging', 'documentation', 'business', 'support', 'mobile', 'workflow']\n",
      "Phone number--> 925-597-8025\n",
      "First name--> Michael\n"
     ]
    },
    {
     "name": "stderr",
     "output_type": "stream",
     "text": [
      "ERROR:root:correct_year() missing 1 required positional argument: 'text'\n"
     ]
    },
    {
     "name": "stdout",
     "output_type": "stream",
     "text": [
      "Full name--> Michael A. Turner Jr\n",
      "\n",
      "Tempe\n",
      "Experience --> 0\n",
      "Designation--> []\n",
      "Education--> ['MS']\n",
      "Email--> ['hchangizi99@gmail.com']\n",
      "Skills--> ['windows', 'python', 'databases', 'data integrity', 'server', 'documentation', 'database', 'support', 'accounting', 'languages', 'design', 'testing', 'business', 'mysql', 'computer program', 'javascript', 'computer science', 'utilities', 'specification', 'finance', 'data warehouse', 'operating systems', 'marketing']\n",
      "Phone number--> \n"
     ]
    },
    {
     "name": "stderr",
     "output_type": "stream",
     "text": [
      "ERROR:root:correct_year() missing 1 required positional argument: 'text'\n"
     ]
    },
    {
     "name": "stdout",
     "output_type": "stream",
     "text": [
      "First name--> Application Design\n",
      "Full name--> 1\n",
      "Experience --> 0\n",
      "Designation--> []\n",
      "Education--> ['MS', 'BS']\n",
      "Email--> ['professiona.l.s.ahe.ad@gmail.com']\n",
      "Skills--> ['apache tomcat', 'windows', 'junit', 'software', 'oracle', 'authentication', 'jquery', 'memory management', 'debugging', 'server', 'documentation', 'database', 'sqlite', 'data modeling', 'hibernate', 'mobile', 'terminal', 'accounting', 'android', 'libraries', 'data access', 'framework', 'google tag manager', 'deployment', 'languages', 'design', 'scanner', 'testing', 'telephony', 'play', 'analytics', 'business', 'google analytics', 'linux', 'functional testing', 'kotlin', 'mysql', 'release', 'google maps', 'git', 'application server', 'javascript', 'computer science', 'sorting', 'library', 'ubuntu', 'spring', 'parse', 'android sdk', 'user interface', 'java', 'google', 'continuous integration', 'twitter', 'parsing', 'eclipse', 'material design', 'message queue', 'android studio', 'intellij idea', 'operating systems', 'emulator', 'github']\n",
      "Phone number--> 4692772500\n",
      "First name--> Nikith\n"
     ]
    },
    {
     "name": "stderr",
     "output_type": "stream",
     "text": [
      "ERROR:root:correct_year() missing 1 required positional argument: 'text'\n"
     ]
    },
    {
     "name": "stdout",
     "output_type": "stream",
     "text": [
      "Full name--> Nikith Reddy\n",
      "\n",
      "professiona.l.s.ahe.ad@gmail.com\n",
      "Experience --> 0\n",
      "Designation--> []\n"
     ]
    },
    {
     "name": "stderr",
     "output_type": "stream",
     "text": [
      "WARNING:PyPDF2._reader:Xref table not zero-indexed. ID numbers for objects will be corrected.\n"
     ]
    },
    {
     "name": "stdout",
     "output_type": "stream",
     "text": [
      "Education--> []\n",
      "Email--> ['Wiserowl611@yahoo.com']\n",
      "Skills--> ['component', 'business', 'material', 'support', 'marketing']\n",
      "Phone number--> (949) 412-2523\n",
      "First name--> MILLER Wiserowl611\n"
     ]
    },
    {
     "name": "stderr",
     "output_type": "stream",
     "text": [
      "ERROR:root:correct_year() missing 1 required positional argument: 'text'\n"
     ]
    },
    {
     "name": "stdout",
     "output_type": "stream",
     "text": [
      "Full name--> 949\n",
      "Experience --> 0\n",
      "Designation--> []\n",
      "Education--> []\n",
      "Email--> ['brenrivers81@gmail.comCareer']\n"
     ]
    },
    {
     "name": "stderr",
     "output_type": "stream",
     "text": [
      "ERROR:root:correct_year() missing 1 required positional argument: 'text'\n"
     ]
    },
    {
     "name": "stdout",
     "output_type": "stream",
     "text": [
      "Skills--> ['android', 'windows', 'software', 'linux', 'business', 'security', 'operating systems', 'support']\n",
      "Phone number--> \n",
      "First name--> Brendon\n",
      "Full name--> Brendon RiversEmail\n",
      "Experience --> 0\n",
      "Designation--> []\n",
      "Education--> []\n",
      "Email--> ['Narmada1032@gmail.com']\n",
      "Skills--> ['windows', 'operating system', 'engineering', 'software', 'databases', 'debugging', 'documentation', 'database', 'support', 'monitoring', 'fusion', 'languages', 'design', 'testing', 'confluence', 'business', 'swift', 'schedule', 'system integration', 'utilities', 'time to market', 'security', 'ml', 'payments']\n",
      "Phone number--> 813-808-0639\n",
      "First name--> Narmada\n"
     ]
    },
    {
     "name": "stderr",
     "output_type": "stream",
     "text": [
      "ERROR:root:correct_year() missing 1 required positional argument: 'text'\n"
     ]
    },
    {
     "name": "stdout",
     "output_type": "stream",
     "text": [
      "Full name--> Narmada Yallapu\n",
      "Experience --> 0\n",
      "Designation--> []\n",
      "Education--> []\n",
      "Email--> ['dhineshkumart@gmail.com', 'dhineshkumart@gmail.com']\n",
      "Skills--> ['windows', 'engineering', 'git', 'software', 'testing', 'databases', 'linux', 'utilities', 'project management', 'business', 'database', 'operating systems', 'support', 'business administration']\n",
      "Phone number--> 813.217.3605\n"
     ]
    },
    {
     "name": "stderr",
     "output_type": "stream",
     "text": [
      "ERROR:root:correct_year() missing 1 required positional argument: 'text'\n"
     ]
    },
    {
     "name": "stdout",
     "output_type": "stream",
     "text": [
      "First name--> L5789911\n",
      "Full name--> DHINESHKUMAR\n",
      "Experience --> 0\n",
      "Designation--> []\n",
      "Education--> []\n",
      "Email--> []\n",
      "Skills--> ['windows', 'operating system', 'communications', 'computer programming', 'deployment', 'software', 'design', 'telecommunications', 'testing', 'server', 'relay', 'project management', 'operating systems', 'support']\n",
      "Phone number--> 859-6081\n",
      "First name--> Willie\n"
     ]
    },
    {
     "name": "stderr",
     "output_type": "stream",
     "text": [
      "ERROR:root:'NoneType' object has no attribute 'group'\n"
     ]
    },
    {
     "name": "stdout",
     "output_type": "stream",
     "text": [
      "Full name--> Willie B. Harrison Jr.\n",
      "\n",
      "6425\n",
      "Experience --> 0\n",
      "Designation--> []\n",
      "Education--> []\n",
      "Email--> ['samuelfitzgerald2011@yahoo.com']\n"
     ]
    },
    {
     "name": "stderr",
     "output_type": "stream",
     "text": [
      "ERROR:root:'NoneType' object has no attribute 'group'\n"
     ]
    },
    {
     "name": "stdout",
     "output_type": "stream",
     "text": [
      "Skills--> ['java', 'python', 'realm', 'javascript', 'linux', 'devops', 'security', 'wireless']\n",
      "Phone number--> \n",
      "First name--> Samuel\n",
      "Full name--> Samuel Fitzgerald             Network Automation\n",
      "Experience --> 0\n"
     ]
    },
    {
     "name": "stderr",
     "output_type": "stream",
     "text": [
      "WARNING:PyPDF2._reader:Xref table not zero-indexed. ID numbers for objects will be corrected.\n",
      "WARNING:PyPDF2._reader:Previous trailer can not be read (\"'NumberObject' object is not subscriptable\",)\n",
      "WARNING:PyPDF2._reader:Superfluous whitespace found in object header b'bj' b'<<'\n",
      "WARNING:PyPDF2._reader:Object ID 11,0 ref repaired\n",
      "WARNING:PyPDF2._reader:Object 8 0 found\n",
      "WARNING:PyPDF2._reader:Superfluous whitespace found in object header b'bj' b'<<'\n",
      "WARNING:PyPDF2._reader:Object ID 13,0 ref repaired\n",
      "WARNING:PyPDF2._reader:Object 1 0 found\n",
      "WARNING:PyPDF2._reader:Object 4 0 found\n",
      "WARNING:PyPDF2._reader:Superfluous whitespace found in object header b'bj' b'<<'\n",
      "WARNING:PyPDF2._reader:Object ID 20,0 ref repaired\n",
      "WARNING:PyPDF2._reader:Superfluous whitespace found in object header b'bj' b'<<'\n",
      "WARNING:PyPDF2._reader:Object ID 23,0 ref repaired\n",
      "WARNING:PyPDF2._reader:Superfluous whitespace found in object header b'bj' b'<<'\n",
      "WARNING:PyPDF2._reader:Object ID 19,0 ref repaired\n",
      "WARNING:PyPDF2._reader:Superfluous whitespace found in object header b'bj' b'<<'\n",
      "WARNING:PyPDF2._reader:Object ID 24,0 ref repaired\n",
      "WARNING:PyPDF2._reader:Superfluous whitespace found in object header b'bj' b'<<'\n",
      "WARNING:PyPDF2._reader:Object ID 18,0 ref repaired\n",
      "WARNING:PyPDF2._reader:Superfluous whitespace found in object header b'bj' b'<<'\n",
      "WARNING:PyPDF2._reader:Object ID 16,0 ref repaired\n",
      "WARNING:PyPDF2._reader:Superfluous whitespace found in object header b'bj' b'<<'\n",
      "WARNING:PyPDF2._reader:Object ID 15,0 ref repaired\n",
      "WARNING:PyPDF2._reader:Object 2 0 found\n",
      "WARNING:PyPDF2._reader:Object 3 0 found\n",
      "WARNING:PyPDF2._reader:Object 5 0 found\n",
      "WARNING:PyPDF2._reader:Object 6 0 found\n"
     ]
    },
    {
     "name": "stdout",
     "output_type": "stream",
     "text": [
      "Designation--> []\n",
      "Education--> []\n",
      "Email--> ['hugotinoco@icloud.com']\n",
      "Skills--> ['python', 'engineering', 'ethernet', 'database', 'support', 'libraries', 'github', 'deployment', 'design', 'testing', 'code quality', 'certificate', 'traffic engineering', 'security', 'help desk', 'ansible', 'google', 'realm', 'wireless network', 'docker', 'django', 'hugo']\n",
      "Phone number--> 503-347-6555\n",
      "First name--> Skills\n"
     ]
    },
    {
     "name": "stderr",
     "output_type": "stream",
     "text": [
      "ERROR:root:correct_year() missing 1 required positional argument: 'text'\n"
     ]
    },
    {
     "name": "stdout",
     "output_type": "stream",
     "text": [
      "Full name--> HUGO\n",
      "Experience --> 0\n",
      "Designation--> []\n",
      "Education--> []\n",
      "Email--> ['uuusa7@gmail.com']\n",
      "Skills--> ['windows', 'software', 'security', 'wireless', 'access control', 'linux', 'server', 'business', 'azure', 'encryption', 'operating systems', 'support', 'ios', 'help desk']\n",
      "Phone number--> 617-657-3190\n",
      "First name--> Fargo Bank Jacksonville\n"
     ]
    },
    {
     "name": "stderr",
     "output_type": "stream",
     "text": [
      "ERROR:root:correct_year() missing 1 required positional argument: 'text'\n"
     ]
    },
    {
     "name": "stdout",
     "output_type": "stream",
     "text": [
      "Full name--> Jacksonville\n",
      "Experience --> 0\n",
      "Designation--> []\n",
      "Education--> ['MS']\n",
      "Email--> ['cajenh@gmail.com']\n"
     ]
    },
    {
     "name": "stderr",
     "output_type": "stream",
     "text": [
      "ERROR:root:correct_year() missing 1 required positional argument: 'text'\n"
     ]
    },
    {
     "name": "stdout",
     "output_type": "stream",
     "text": [
      "Skills--> ['java', 'windows', 'python', 'database design', 'support', 'software', 'publishing', 'languages', 'server', 'security', 'wireless', 'image processing', 'graphic design']\n",
      "Phone number--> 603-438-4726\n",
      "First name--> Pine Lake\n",
      "Full name--> CHRISTIAN JACOBS\n",
      "Experience --> 0\n",
      "Designation--> []\n",
      "Education--> []\n",
      "Email--> ['Adrian.Krygowski@Gmail.com']\n",
      "Skills--> ['python', 'workload', 'flask', 'software', 'databases', 'ethernet', 'project management', 'system testing', 'support', 'wireless', 'deployment', 'trello', 'design', 'telephony', 'testing', 'devops', 'linux', 'release', 'library', 'telecommunications', 'relay', 'router', 'macos']\n",
      "Phone number--> 703-595-6695\n"
     ]
    },
    {
     "name": "stderr",
     "output_type": "stream",
     "text": [
      "ERROR:root:correct_year() missing 1 required positional argument: 'text'\n"
     ]
    },
    {
     "name": "stdout",
     "output_type": "stream",
     "text": [
      "First name--> Krygowski\n",
      "Full name--> Adrian Krygowski\n",
      "Experience --> 0\n",
      "Designation--> []\n",
      "Education--> []\n",
      "Email--> ['anthonylspitz@gmail.com', 'anthonylspitz@gmail.com', 'anthonylspitz@gmail.com', 'anthonylspitz@gmail.com', 'anthonylspitz@gmail.com']\n",
      "Skills--> ['windows', 'engineering', 'oracle', 'business process', 'server', 'project management', 'database', 'support', 'mobile', 'computer programming', 'deployment', 'design', 'business', 'robot', 'node js', 'security', 'help desk', 'java', 'network management', 'selenium', 'postman']\n",
      "Phone number--> (812) 518-0041\n"
     ]
    },
    {
     "name": "stderr",
     "output_type": "stream",
     "text": [
      "ERROR:root:correct_year() missing 1 required positional argument: 'text'\n"
     ]
    },
    {
     "name": "stdout",
     "output_type": "stream",
     "text": [
      "First name--> Anthony\n",
      "Full name--> Anthony L. Spitz\n",
      "Experience --> 0\n",
      "Designation--> []\n",
      "Education--> ['MS']\n",
      "Email--> ['bello@mtu.edu']\n",
      "Skills--> ['windows', 'python', 'communications', 'engineering', 'electrical engineering', 'software', 'authentication', 'network security', 'algorithm', 'server', 'database', 'azure', 'support', 'wireless', 'mobile', 'collaboration', 'accounting', 'libraries', 'visualization', 'design', 'linux', 'ios', 'wavefront', 'mysql', 'git', 'throughput', 'security', 'ansible', 'google', 'data center', 'key exchange', 'analytics', 'macos', 'specification']\n",
      "Phone number--> 9062818990\n",
      "First name--> Woodmar Drive Apt\n"
     ]
    },
    {
     "name": "stderr",
     "output_type": "stream",
     "text": [
      "ERROR:root:correct_year() missing 1 required positional argument: 'text'\n"
     ]
    },
    {
     "name": "stdout",
     "output_type": "stream",
     "text": [
      "Full name--> 2102\n",
      "Experience --> 0\n"
     ]
    },
    {
     "name": "stderr",
     "output_type": "stream",
     "text": [
      "WARNING:PyPDF2._reader:Superfluous whitespace found in object header b'1' b'0'\n"
     ]
    },
    {
     "name": "stdout",
     "output_type": "stream",
     "text": [
      "Designation--> []\n",
      "Education--> ['MS']\n"
     ]
    },
    {
     "name": "stderr",
     "output_type": "stream",
     "text": [
      "WARNING:PyPDF2._reader:Superfluous whitespace found in object header b'2' b'0'\n",
      "WARNING:PyPDF2._reader:Superfluous whitespace found in object header b'3' b'0'\n",
      "WARNING:PyPDF2._reader:Superfluous whitespace found in object header b'38' b'0'\n",
      "WARNING:PyPDF2._reader:Superfluous whitespace found in object header b'37' b'0'\n",
      "WARNING:PyPDF2._reader:Superfluous whitespace found in object header b'11' b'0'\n",
      "WARNING:PyPDF2._reader:Superfluous whitespace found in object header b'10' b'0'\n",
      "WARNING:PyPDF2._reader:Superfluous whitespace found in object header b'9' b'0'\n",
      "WARNING:PyPDF2._reader:Superfluous whitespace found in object header b'19' b'0'\n",
      "WARNING:PyPDF2._reader:Superfluous whitespace found in object header b'18' b'0'\n",
      "WARNING:PyPDF2._reader:Superfluous whitespace found in object header b'17' b'0'\n",
      "WARNING:PyPDF2._reader:Superfluous whitespace found in object header b'27' b'0'\n",
      "WARNING:PyPDF2._reader:Superfluous whitespace found in object header b'26' b'0'\n",
      "WARNING:PyPDF2._reader:Superfluous whitespace found in object header b'25' b'0'\n",
      "WARNING:PyPDF2._reader:Superfluous whitespace found in object header b'35' b'0'\n",
      "WARNING:PyPDF2._reader:Superfluous whitespace found in object header b'34' b'0'\n",
      "WARNING:PyPDF2._reader:Superfluous whitespace found in object header b'33' b'0'\n",
      "WARNING:PyPDF2._reader:Superfluous whitespace found in object header b'36' b'0'\n",
      "WARNING:PyPDF2._reader:Superfluous whitespace found in object header b'40' b'0'\n",
      "WARNING:PyPDF2._reader:Superfluous whitespace found in object header b'39' b'0'\n"
     ]
    },
    {
     "name": "stdout",
     "output_type": "stream",
     "text": [
      "Email--> ['2oglt1c@comcast.net']\n",
      "Skills--> ['communications', 'engineering', 'software', 'data integrity', 'algorithm', 'ethernet', 'wireless', 'deployment', 'design', 'testing', 'digital radio', 'business', 'network performance', 'telecommunications', 'traffic engineering', 'security', 'ansible', 'network management', 'router']\n",
      "Phone number--> 732.890.9062\n",
      "First name--> Robert L.\n"
     ]
    },
    {
     "name": "stderr",
     "output_type": "stream",
     "text": [
      "ERROR:root:'NoneType' object has no attribute 'group'\n"
     ]
    },
    {
     "name": "stdout",
     "output_type": "stream",
     "text": [
      "Full name--> 1\n",
      "Experience --> 0\n",
      "Designation--> []\n",
      "Education--> []\n",
      "Email--> []\n",
      "Skills--> ['domain knowledge', 'python', 'windows', 'software', 'scala', 'mode', 'databases', 'server', 'project management', 'database', 'data modeling', 'support', 'data validation', 'monitoring', 'tableau', 'snowflake', 'languages', 'design', 'nosql', 'testing', 'business', 'bash', 'data integration', 'workflow manager', 'data extraction', 'data quality', 'metadata', 'schedule', 'perl', 'business administration', 'java', 'finance', 'shell', 'analytics', 'workflow']\n",
      "Phone number--> \n",
      "First name--> Venkata\n"
     ]
    },
    {
     "name": "stderr",
     "output_type": "stream",
     "text": [
      "ERROR:root:correct_year() missing 1 required positional argument: 'text'\n"
     ]
    },
    {
     "name": "stdout",
     "output_type": "stream",
     "text": [
      "Full name--> Venkata Pavan\n",
      "Experience --> 0\n",
      "Designation--> []\n",
      "Education--> ['MS']\n",
      "Email--> ['suneetham367@gmail.com']\n",
      "Skills--> ['windows', 'python', 'junit', 'bamboo', 'software', 'oracle', 'databases', 'box', 'rest api', 'server', 'workflow', 'business process', 'database', 'web server', 'documentation', 'source code', 'support', 'mobile', 'compose', 'android', 'mocha', 'angularjs', 'framework', 'appium', 'angular', 'visual studio', 'languages', 'testing', 'business', 'devops', 'linux', 'ios', 'testing frameworks', 'functional testing', 'load and performance testing', 'mysql', 'front end', 'object model', 'release', 'git', 'kubernetes', 'javascript', 'library', 'jasmine', 'java', 'protractor', 'continuous integration', 'node.js', 'firefox', 'ruby', 'selenium', 'docker', 'shell', 'android studio', 'eclipse', 'operating systems', 'emulator', 'cucumber']\n",
      "Phone number--> 689-208-9207\n",
      "First name--> Suneetha\n"
     ]
    },
    {
     "name": "stderr",
     "output_type": "stream",
     "text": [
      "ERROR:root:'NoneType' object has no attribute 'end'\n"
     ]
    },
    {
     "name": "stdout",
     "output_type": "stream",
     "text": [
      "Full name--> Suneetha M\t\t\t\t                                 e\n",
      "Experience --> 0\n",
      "Designation--> []\n",
      "Education--> ['MS']\n",
      "Email--> ['anusha015staffing@gmail.com']\n",
      "Skills--> ['libraries', 'data consistency', 'windows', 'dash', 'framework', 'bot', 'robot', 'design', 'databases', 'server', 'business', 'database', 'system testing', 'workflow', 'mysql']\n",
      "Phone number--> 512-295-5557\n"
     ]
    },
    {
     "name": "stderr",
     "output_type": "stream",
     "text": [
      "ERROR:root:correct_year() missing 1 required positional argument: 'text'\n"
     ]
    },
    {
     "name": "stdout",
     "output_type": "stream",
     "text": [
      "First name--> Radhika\n",
      "Full name--> 512\n",
      "Experience --> 0\n",
      "Designation--> []\n",
      "Education--> None\n",
      "Email--> []\n",
      "Skills--> ['queue', 'windows', 'operating system', 'trend analysis', 'bamboo', 'software', 'authentication', 'oracle', 'mode', 'server', 'documentation', 'support', 'aws iam', 'fluentd', 'monitoring', 'framework', 'deployment', 'testing', 'business', 'bash', 'devops', 'linux', 'openshift', 'vmware vsphere', 'certificate', 'release', 'git', 'kubernetes', 'file system', 'centos', 'security', 'logstash', 'ansible', 'java', 'amazon web services', 'monitoring tools', 'prometheus', 'router', 'elasticsearch', 'docker', 'operating systems', 'datadog']\n",
      "Phone number--> \n",
      "First name--> Siva\n"
     ]
    },
    {
     "name": "stderr",
     "output_type": "stream",
     "text": [
      "ERROR:root:'NoneType' object has no attribute 'group'\n"
     ]
    },
    {
     "name": "stdout",
     "output_type": "stream",
     "text": [
      "Full name--> 15+ years\n",
      "Experience --> 0\n",
      "Designation--> []\n",
      "Education--> ['X']\n",
      "Email--> []\n",
      "Skills--> ['windows', 'python', 'middleware', 'react', 'software', 'jquery', 'vault', 'groovy', 'databases', 'flux', 'debugging', 'server', 'puma', 'documentation', 'database', 'azure', 'sqlite', 'npm', 'hibernate', 'support', 'mobile', 'sass', 'monitoring', 'angularjs', 'framework', 'deployment', 'languages', 'design', 'testing', 'rails', 'postgresql', 'atom', 'capybara', 'react native', 'business', 'bash', 'backbone.js', 'linux', 'mysql', 'bootstrap', 'front end', 'resque', 'redis', 'git', 'concurrency', 'kubernetes', 'javascript', 'web servers', 'library', 'rspec', 'medium', 'spring', 'parse', 'security', 'jasmine', 'user interface', 'peer to peer', 'java', 'rest api', 'bitbucket', 'amazon web services', 'ruby', 'shell', 'docker', 'operating systems', 'postman', 'github', 'cucumber']\n",
      "Phone number--> \n",
      "First name--> Scott\n"
     ]
    },
    {
     "name": "stderr",
     "output_type": "stream",
     "text": [
      "ERROR:root:correct_year() missing 1 required positional argument: 'text'\n"
     ]
    },
    {
     "name": "stdout",
     "output_type": "stream",
     "text": [
      "Full name--> Scott Smith\n",
      "Experience --> 0\n",
      "Designation--> []\n",
      "Education--> []\n",
      "Email--> ['pruthvi.jagadish12@gmail.com']\n",
      "Skills--> ['monitoring', 'engineering', 'software', 'design', 'mechanical engineering', 'testing', 'algorithm', 'documentation', 'business', 'support', 'specification']\n",
      "Phone number--> 980 474-0759\n",
      "First name--> Lawrenceville GA\n"
     ]
    },
    {
     "name": "stderr",
     "output_type": "stream",
     "text": [
      "ERROR:root:correct_year() missing 1 required positional argument: 'text'\n"
     ]
    },
    {
     "name": "stdout",
     "output_type": "stream",
     "text": [
      "Full name--> 980\n",
      "Experience --> 0\n",
      "Designation--> []\n",
      "Education--> ['MS']\n",
      "Email--> ['sidatauramedpro@gmail.com']\n",
      "Skills--> ['engineering', 'durability', 'design', 'mechanical engineering', 'testing', 'schedule', 'component', 'throughput', 'system integration', 'documentation', 'material', 'support']\n",
      "Phone number--> \n",
      "First name--> Change Control Manufacturing\n",
      "Full name--> SUSHEEL \n",
      "\n",
      "Corp-Corp\n"
     ]
    },
    {
     "name": "stderr",
     "output_type": "stream",
     "text": [
      "ERROR:root:correct_year() missing 1 required positional argument: 'text'\n"
     ]
    },
    {
     "name": "stdout",
     "output_type": "stream",
     "text": [
      "Experience --> 0\n",
      "Designation--> []\n",
      "Education--> []\n",
      "Email--> ['nathsfdc@gmail.com']\n",
      "Skills--> ['middleware', 'software', 'oracle', 'application and data', 'box', 'business process', 'server', 'database', 'system testing', 'support', 'mobile', 'deployment', 'design', 'testing', 'business', 'functional testing', 'metadata', 'security', 'data model', 'analytics', 'marketing']\n",
      "Phone number--> (469) 730-6912\n",
      "First name--> Nath\n",
      "Full name--> Dallas\n",
      "Experience --> None\n",
      "Designation--> []\n",
      "Education--> []\n",
      "Email--> ['mikeljorgensen@gmail.com', 'MikeLJorgensen@gmail.com']\n",
      "Skills--> ['communications', 'engineering', 'software', 'mechanical engineering', 'mobile', 'variables', 'xamarin', 'android', 'languages', 'design', 'testing', 'play', 'ios', 'kotlin', 'release', 'git', 'time tracking', 'security', 'java', 'google', 'android studio']\n",
      "Phone number--> 1801367274\n",
      "First name--> Michael\n"
     ]
    },
    {
     "name": "stderr",
     "output_type": "stream",
     "text": [
      "ERROR:root:'NoneType' object has no attribute 'group'\n"
     ]
    },
    {
     "name": "stdout",
     "output_type": "stream",
     "text": [
      "Full name--> Michael Jorgensen\n",
      "Experience --> 0\n",
      "Designation--> []\n",
      "Education--> []\n",
      "Email--> ['maripalli.s.786@gmail.com']\n",
      "Skills--> ['windows', 'operating system', 'python', 'software engineering', 'react', 'middleware', 'unicorn', 'junit', 'software', 'oracle', 'authentication', 'databases', 'box', 'debugging', 'server', 'component', 'database', 'chef', 'project management', 'support', 'mobile', 'hibernate', 'netbeans ide', 'chrome', 'monitoring', 'libraries', 'data access', 'angularjs', 'framework', 'github', 'fusion', 'deployment', 'angular', 'design', 'testing', 'rails', 'capybara', 'postgresql', 'heroku', 'file format', 'business', 'web service', 'jruby', 'vim', 'linux', 'functional testing', 'mysql', 'bootstrap', 'front end', 'git', 'concurrency', 'application server', 'javascript', 'library', 'computer science', 'rspec', 'redmine', 'amazon ec2', 'centos', 'perl', 'security', 'spring', 'deadlock', 'mercurial', 'java', 'continuous integration', 'amazon web services', 'ruby', 'selenium', 'shell', 'jquery', 'cucumber']\n",
      "Phone number--> 440 390 4995\n",
      "First name--> Ruby\n"
     ]
    },
    {
     "name": "stderr",
     "output_type": "stream",
     "text": [
      "ERROR:root:correct_year() missing 1 required positional argument: 'text'\n"
     ]
    },
    {
     "name": "stdout",
     "output_type": "stream",
     "text": [
      "Full name--> 440\n",
      "Experience --> 0\n",
      "Designation--> []\n",
      "Education--> []\n",
      "Email--> ['mukeshjuneja424@gmail.com']\n",
      "Skills--> ['queue', 'windows', 'python', 'software', 'oracle', 'authentication', 'databases', 'data validation', 'support', 'accounting', 'framework', 'deployment', 'design', 'business', 'front end', 'information management', 'release', 'git', 'javascript', 'library', 'perl', 'java', 'finance', 'residual', 'parsing', 'shell', 'workflow']\n",
      "Phone number--> \n",
      "First name--> Mukesh\n"
     ]
    },
    {
     "name": "stderr",
     "output_type": "stream",
     "text": [
      "ERROR:root:correct_year() missing 1 required positional argument: 'text'\n"
     ]
    },
    {
     "name": "stdout",
     "output_type": "stream",
     "text": [
      "Full name--> Mukesh Juneja\n",
      "Experience --> 0\n",
      "Designation--> []\n",
      "Education--> ['MS', 'BE']\n",
      "Email--> ['shelly.connrobinson@gmail.com', 'shelly.connrobinson@gmail.com']\n",
      "Skills--> ['data center', 'communications', 'engineering', 'framework', 'support', 'data analysis', 'schedule', 'telecommunications', 'design', 'business process', 'testing', 'relay', 'business', 'project management', 'tornado', 'data visualization', 'workflow', 'marketing']\n",
      "Phone number--> (512) 905-2930\n"
     ]
    },
    {
     "name": "stderr",
     "output_type": "stream",
     "text": [
      "ERROR:root:'NoneType' object has no attribute 'group'\n"
     ]
    },
    {
     "name": "stdout",
     "output_type": "stream",
     "text": [
      "First name--> Austin\n",
      "Full name--> Shelly Conn-Robinson\n",
      "\n",
      "Shelly\n",
      "Experience --> 0\n",
      "Designation--> []\n",
      "Education--> []\n",
      "Email--> ['j_ellis0212@yahoo.com', 'J_ellis0212@yahoo.com']\n",
      "Skills--> ['queue', 'windows', 'engineering', 'software', 'commerce', 'ethernet', 'signal strength', 'server', 'terminal', 'support', 'virtual machine', 'monitoring', 'scanner', 'business', 'linux', 'certificate', 'network performance', 'fingerprint', 'security', 'help desk', 'finance', 'firefox', 'computer engineering', 'router', 'operating systems', 'network interface']\n",
      "Phone number--> 214 434 8754\n",
      "First name--> John\n"
     ]
    },
    {
     "name": "stderr",
     "output_type": "stream",
     "text": [
      "ERROR:root:correct_year() missing 1 required positional argument: 'text'\n"
     ]
    },
    {
     "name": "stdout",
     "output_type": "stream",
     "text": [
      "Full name--> John Ellis\n",
      "Experience --> 0\n",
      "Designation--> []\n",
      "Education--> []\n",
      "Email--> ['sumangiri0916@gmail.com']\n",
      "Skills--> ['groovy', 'rest api', 'server', 'documentation', 'project management', 'mobile', 'package managers', 'tower', 'data structures', 'visualization', 'jenkins', 'nginx', 'devops', 'linux', 'application server', 'kubernetes', 'apache spark', 'amazon web services', 'elasticsearch', 'docker', 'shell', 'algorithms', 'code coverage', 'github', 'helm', 'apache tomcat', 'python', 'junit', 'buffer', 'high availability', 'authentication', 'oracle', 'gradle', 'design', 'testing', 'business', 'ios', 'maven', 'git', 'spring', 'perl', 'security', 'logstash', 'java', 'continuous integration', 'data center', 'monitoring tools', 'ruby', 'jquery', 'objective c', 'bamboo', 'software', 'databases', 'box', 'debugging', 'chef', 'support', 'sonar', 'monitoring', 'cassandra', 'framework', 'fault tolerance', 'deployment', 'bash', 'code quality', 'mysql', 'packer', 'vagrant', 'access control', 'web servers', 'xcode', 'ubuntu', 'file system', 'ansible', 'analytics', 'source code', 'workflow', 'virtual private cloud', 'terraform', 'windows', 'operating system', 'middleware', 'mongodb', 'database', 'beanstalk', 'cloud foundry', 'languages', 'confluence', 'release', 'schedule', 'debian', 'amazon ec2', 'centos', 'data management', 'sonarqube', 'cucumber']\n",
      "Phone number--> 337-466-9190\n",
      "First name--> Cloud Engineer\n"
     ]
    },
    {
     "name": "stderr",
     "output_type": "stream",
     "text": [
      "ERROR:root:correct_year() missing 1 required positional argument: 'text'\n"
     ]
    },
    {
     "name": "stdout",
     "output_type": "stream",
     "text": [
      "Full name--> 337\n",
      "Experience --> 0\n",
      "Designation--> []\n",
      "Education--> ['MS']\n",
      "Email--> ['olus.oluf@gmail.com']\n",
      "Skills--> ['terraform', 'windows', 'operating system', 'python', 'middleware', 'mongodb', 'apache tomcat', 'bamboo', 'software', 'network security', 'jquery', 'container tools', 'authentication', 'groovy', 'oracle', 'box', 'programming language', 'server', 'chef', 'database', 'web server', 'beanstalk', 'support', 'monitoring', 'gradle', 'framework', 'deployment', 'jenkins', 'rotation', 'nginx', 'analytics', 'devops', 'bash', 'code quality', 'confluence', 'linux', 'continuous deployment', 'openshift', 'mysql', 'packer', 'release', 'git', 'aws lambda', 'vagrant', 'node js', 'kubernetes', 'javascript', 'web servers', 'computer science', 'ubuntu', 'utilities', 'file system', 'security', 'perl', 'ansible', 'continuous integration', 'java', 'amazon web services', 'monitoring tools', 'ruby', 'data management', 'docker', 'shell', 'performance monitoring', 'source code', 'github', 'workflow', 'helm']\n",
      "Phone number--> 202 200 3683\n",
      "First name--> Cloud Automation\n"
     ]
    },
    {
     "name": "stderr",
     "output_type": "stream",
     "text": [
      "ERROR:root:correct_year() missing 1 required positional argument: 'text'\n"
     ]
    },
    {
     "name": "stdout",
     "output_type": "stream",
     "text": [
      "Full name--> 202\n",
      "Experience --> 0\n",
      "Designation--> []\n",
      "Education--> None\n",
      "Email--> ['mail2manilkotha@gmail.com']\n",
      "Skills--> ['windows', 'python', 'workload', 'engineering', 'operating system', 'software', 'network security', 'authentication', 'oracle', 'mode', 'databases', 'ethernet', 'server', 'documentation', 'database', 'web server', 'wireless', 'support', 'virtual machine', 'monitoring', 'tower', 'fault tolerance', 'deployment', 'jenkins', 'design', 'testing', 'nginx', 'devops', 'bash', 'openstack', 'linux', 'continuous deployment', 'openshift', 'mysql', 'scripting language', 'release', 'git', 'application server', 'kubernetes', 'ubuntu', 'file system', 'centos', 'security', 'perl', 'ansible', 'continuous integration', 'amazon web services', 'publishing', 'computer engineering', 'router', 'docker', 'shell', 'operating systems', 'github']\n",
      "Phone number--> 2098410146\n",
      "First name--> Mani\n"
     ]
    },
    {
     "name": "stderr",
     "output_type": "stream",
     "text": [
      "ERROR:root:correct_year() missing 1 required positional argument: 'text'\n"
     ]
    },
    {
     "name": "stdout",
     "output_type": "stream",
     "text": [
      "Full name--> Mani K\n",
      "\n",
      "Linux\n",
      "Experience --> 0\n",
      "Designation--> []\n",
      "Education--> []\n",
      "Email--> ['Eayalewbelay@gmail.com']\n",
      "Skills--> ['windows', 'operating system', 'high availability', 'software', 'databases', 'server', 'database', 'azure', 'data modeling', 'monitoring', 'database design', 'deployment', 'languages', 'encryption', 'security', 'database security', 'query optimization', 'data warehouse', 'microsoft azure', 'performance monitoring']\n",
      "Phone number--> 559-365-5147\n"
     ]
    },
    {
     "name": "stderr",
     "output_type": "stream",
     "text": [
      "ERROR:root:'NoneType' object has no attribute 'end'\n"
     ]
    },
    {
     "name": "stdout",
     "output_type": "stream",
     "text": [
      "First name--> Microsoft Azure\n",
      "Full name--> SQL Server\n",
      "Experience --> 0\n"
     ]
    },
    {
     "name": "stderr",
     "output_type": "stream",
     "text": [
      "WARNING:PyPDF2._reader:Xref table not zero-indexed. ID numbers for objects will be corrected.\n"
     ]
    },
    {
     "name": "stdout",
     "output_type": "stream",
     "text": [
      "Designation--> []\n",
      "Education--> ['MS']\n",
      "Email--> ['fguthrie1123@gmail.com']\n"
     ]
    },
    {
     "name": "stderr",
     "output_type": "stream",
     "text": [
      "ERROR:root:correct_year() missing 1 required positional argument: 'text'\n"
     ]
    },
    {
     "name": "stdout",
     "output_type": "stream",
     "text": [
      "Skills--> ['computer hardware', 'windows', 'network management', 'software', 'databases', 'testing', 'server', 'documentation', 'database', 'support']\n",
      "Phone number--> 609-221-6145\n",
      "First name--> Francis\n",
      "Full name--> Francis Guthrie\n",
      "Experience --> 0\n",
      "Designation--> []\n",
      "Education--> []\n",
      "Email--> []\n",
      "Skills--> ['queue', 'windows', 'engineering', 'software engineering', 'virtualbox', 'high availability', 'software', 'databases', 'data integrity', 'memory management', 'server', 'documentation', 'database', 'azure', 'support', 'variables', 'monitoring', 'data access', 'database design', 'deployment', 'complex system', 'design', 'testing', 'analytics', 'sentry', 'business', 'linux', 'release', 'data quality', 'schedule', 'deadlock', 'security', 'perl', 'resource allocation', 'data center', 'data warehouse', 'monitoring tools', 'scalability', 'microsoft azure', 'performance monitoring', 'operating systems']\n",
      "Phone number--> \n",
      "First name--> Performance Tuning\n"
     ]
    },
    {
     "name": "stderr",
     "output_type": "stream",
     "text": [
      "ERROR:root:'NoneType' object has no attribute 'group'\n"
     ]
    },
    {
     "name": "stdout",
     "output_type": "stream",
     "text": [
      "Full name--> 13+ years\n",
      "Experience --> 0\n",
      "Designation--> []\n",
      "Education--> ['MS']\n",
      "Email--> ['Cbeaugar@Masonlive.gmu.edu', 'BeaugardCD@state.gov']\n",
      "Skills--> ['monitoring', 'software', 'payments', 'data integrity', 'business', 'security', 'analytics', 'support', 'workflow', 'material']\n",
      "Phone number--> 757-234-1247\n",
      "First name--> Christopher\n"
     ]
    },
    {
     "name": "stderr",
     "output_type": "stream",
     "text": [
      "ERROR:root:correct_year() missing 1 required positional argument: 'text'\n"
     ]
    },
    {
     "name": "stdout",
     "output_type": "stream",
     "text": [
      "Full name--> Christopher Beaugard\n",
      "Experience --> 0\n",
      "Designation--> []\n",
      "Education--> []\n",
      "Email--> ['apoorvan@buffalo.edu']\n"
     ]
    },
    {
     "name": "stderr",
     "output_type": "stream",
     "text": [
      "ERROR:root:correct_year() missing 1 required positional argument: 'text'\n"
     ]
    },
    {
     "name": "stdout",
     "output_type": "stream",
     "text": [
      "Skills--> ['python', 'tableau', 'engineering', 'moving average', 'aeronautics', 'design', 'smoothing', 'project management', 'diagram', 'industrial engineering']\n",
      "Phone number--> (551) 273-8204\n",
      "First name--> Quality Engineer\n",
      "Full name--> 551\n",
      "Experience --> 0\n",
      "Designation--> []\n",
      "Education--> ['MS']\n",
      "Email--> ['97@fiu.edu']\n"
     ]
    },
    {
     "name": "stderr",
     "output_type": "stream",
     "text": [
      "ERROR:root:correct_year() missing 1 required positional argument: 'text'\n"
     ]
    },
    {
     "name": "stdout",
     "output_type": "stream",
     "text": [
      "Skills--> ['engineering', 'languages', 'design', 'mechanical engineering', 'programming language', 'material', 'collaboration']\n",
      "Phone number--> 802-9561\n",
      "First name--> Martinez Cmart4\n",
      "Full name--> Cesar A. Martinez\n",
      "Experience --> 0\n",
      "Designation--> []\n",
      "Education--> ['BS', 'X']\n",
      "Email--> ['abhishek.gouda@systemskills.com']\n",
      "Skills--> ['windows', 'operating system', 'middleware', 'workload', 'junit', 'communications', 'high availability', 'software', 'oracle', 'databases', 'box', 'heap', 'server', 'documentation', 'database', 'project management', 'web server', 'chef', 'support', 'tracking system', 'monitoring', 'deployment', 'languages', 'testing', 'nginx', 'rotation', 'devops', 'confluence', 'business', 'bash', 'linux', 'release', 'git', 'document management system', 'apache http server', 'vagrant', 'application server', 'web servers', 'ubuntu', 'file system', 'centos', 'security', 'database security', 'perl', 'ansible', 'continuous integration', 'data center', 'amazon web services', 'knowledge base', 'monitoring tools', 'payments', 'scalability', 'shell', 'performance monitoring', 'operating systems', 'postman', 'github', 'workflow']\n",
      "Phone number--> 781-569-1179\n",
      "First name--> Abhishek\n"
     ]
    },
    {
     "name": "stderr",
     "output_type": "stream",
     "text": [
      "ERROR:root:'NoneType' object has no attribute 'end'\n"
     ]
    },
    {
     "name": "stdout",
     "output_type": "stream",
     "text": [
      "Full name--> DIVYA \t\t\t\t\t\t\n",
      "\n",
      "Contact:\n",
      "Experience --> 0\n",
      "Designation--> []\n",
      "Education--> ['MS', 'x']\n",
      "Email--> ['Web@work']\n",
      "Skills--> ['windows', 'middleware', 'workload', 'software', 'authentication', 'oracle', 'databases', 'response time', 'heap', 'server', 'component', 'microsoft sql server', 'web server', 'database', 'box', 'support', 'tracking system', 'monitoring', 'libraries', 'load management', 'deployment', 'testing', 'business', 'linux', 'application server', 'access control', 'content management', 'web servers', 'security', 'java', 'data center', 'monitoring tools', 'shell', 'operating systems']\n",
      "Phone number--> \n",
      "First name--> Blade Logic\n"
     ]
    },
    {
     "name": "stderr",
     "output_type": "stream",
     "text": [
      "ERROR:root:'NoneType' object has no attribute 'group'\n"
     ]
    },
    {
     "name": "stdout",
     "output_type": "stream",
     "text": [
      "Full name--> IBM\n",
      "Experience --> 0\n",
      "Designation--> []\n",
      "Education--> ['MS', 'X']\n",
      "Email--> ['kedrick.stockman@gmail.com', 'nick.vanderwall@srf.navy.mil']\n",
      "Skills--> ['windows', 'communications', 'response time', 'server', 'documentation', 'project management', 'support', 'mobile', 'tracking system', 'accounting', 'deployment', 'rotation', 'business', 'certificate', 'release', 'schedule', 'library', 'yeoman', 'security', 'spring', 'ranking', 'material', 'business administration', 'computation', 'payments']\n",
      "Phone number--> 315-243-4545\n",
      "First name--> Schedule\n"
     ]
    },
    {
     "name": "stderr",
     "output_type": "stream",
     "text": [
      "ERROR:root:correct_year() missing 1 required positional argument: 'text'\n"
     ]
    },
    {
     "name": "stdout",
     "output_type": "stream",
     "text": [
      "Full name--> United States\n",
      "Experience --> 0\n",
      "Designation--> []\n",
      "Education--> []\n",
      "Email--> ['royvinay882@gmail.com']\n",
      "Skills--> ['windows', 'middleware', 'engineering', 'software', 'oracle', 'data integrity', 'databases', 'business process', 'microsoft sql server', 'database', 'documentation', 'support', 'monitoring', 'deployment', 'languages', 'design', 'testing', 'business', 'access control', 'javascript', 'system integration', 'utilities', 'security', 'business administration', 'publishing', 'data management', 'eclipse', 'shell', 'analytics', 'workflow', 'marketing']\n",
      "Phone number--> \n",
      "First name--> Vinay Roy Email\n"
     ]
    },
    {
     "name": "stderr",
     "output_type": "stream",
     "text": [
      "ERROR:root:'NoneType' object has no attribute 'group'\n"
     ]
    },
    {
     "name": "stdout",
     "output_type": "stream",
     "text": [
      "Full name--> Vinay Roy\n",
      "Experience --> 0\n",
      "Designation--> []\n",
      "Education--> []\n",
      "Email--> ['erash13@gmail.com']\n",
      "Skills--> ['data center', 'windows', 'software', 'schedule', 'customer relationship management', 'testing', 'documentation', 'project management', 'business', 'support', 'marketing', 'accounting']\n",
      "Phone number--> (916) 953-8238\n"
     ]
    },
    {
     "name": "stderr",
     "output_type": "stream",
     "text": [
      "ERROR:root:correct_year() missing 1 required positional argument: 'text'\n"
     ]
    },
    {
     "name": "stdout",
     "output_type": "stream",
     "text": [
      "First name--> Roseville\n",
      "Full name--> EDDIE RASH\n",
      "\n",
      "\n",
      "Experience --> 0\n",
      "Designation--> []\n",
      "Education--> ['MS', 'MBA']\n",
      "Email--> []\n",
      "Skills--> ['apache tomcat', 'windows', 'middleware', 'software engineering', 'workload', 'engineering', 'high availability', 'authentication', 'oracle', 'software', 'gitlab', 'rest api', 'heap', 'server', 'response time', 'documentation', 'web server', 'database', 'support', 'garbage collection', 'monitoring', 'libraries', 'fusion', 'deployment', 'jenkins', 'design', 'rotation', 'nginx', 'devops', 'business', 'linux', 'git', 'javascript', 'security', 'ansible', 'continuous integration', 'java', 'data center', 'shell', 'docker', 'operating systems']\n",
      "Phone number--> \n",
      "First name--> PAUL\n"
     ]
    },
    {
     "name": "stderr",
     "output_type": "stream",
     "text": [
      "ERROR:root:correct_year() missing 1 required positional argument: 'text'\n"
     ]
    },
    {
     "name": "stdout",
     "output_type": "stream",
     "text": [
      "Full name--> PAUL EVANS\n",
      "Experience --> 0\n",
      "Designation--> []\n"
     ]
    },
    {
     "name": "stderr",
     "output_type": "stream",
     "text": [
      "WARNING:PyPDF2._reader:Superfluous whitespace found in object header b'1' b'0'\n",
      "WARNING:PyPDF2._reader:Superfluous whitespace found in object header b'2' b'0'\n",
      "WARNING:PyPDF2._reader:Superfluous whitespace found in object header b'3' b'0'\n",
      "WARNING:PyPDF2._reader:Superfluous whitespace found in object header b'30' b'0'\n",
      "WARNING:PyPDF2._reader:Superfluous whitespace found in object header b'29' b'0'\n",
      "WARNING:PyPDF2._reader:Superfluous whitespace found in object header b'11' b'0'\n",
      "WARNING:PyPDF2._reader:Superfluous whitespace found in object header b'10' b'0'\n",
      "WARNING:PyPDF2._reader:Superfluous whitespace found in object header b'9' b'0'\n",
      "WARNING:PyPDF2._reader:Superfluous whitespace found in object header b'19' b'0'\n",
      "WARNING:PyPDF2._reader:Superfluous whitespace found in object header b'18' b'0'\n",
      "WARNING:PyPDF2._reader:Superfluous whitespace found in object header b'17' b'0'\n",
      "WARNING:PyPDF2._reader:Superfluous whitespace found in object header b'27' b'0'\n",
      "WARNING:PyPDF2._reader:Superfluous whitespace found in object header b'26' b'0'\n",
      "WARNING:PyPDF2._reader:Superfluous whitespace found in object header b'25' b'0'\n",
      "WARNING:PyPDF2._reader:Superfluous whitespace found in object header b'28' b'0'\n"
     ]
    },
    {
     "name": "stdout",
     "output_type": "stream",
     "text": [
      "Education--> []\n"
     ]
    },
    {
     "name": "stderr",
     "output_type": "stream",
     "text": [
      "WARNING:PyPDF2._reader:Superfluous whitespace found in object header b'32' b'0'\n",
      "WARNING:PyPDF2._reader:Superfluous whitespace found in object header b'31' b'0'\n"
     ]
    },
    {
     "name": "stdout",
     "output_type": "stream",
     "text": [
      "Email--> ['minjikang90@gmail.com']\n",
      "Skills--> ['certificate', 'engineering', 'release', 'operations management', 'languages', 'design', 'project management', 'business', 'business administration', 'front end']\n",
      "Phone number--> 408-316-4362\n",
      "First name--> Minji\n",
      "Full name--> Minji Kang\n"
     ]
    },
    {
     "name": "stderr",
     "output_type": "stream",
     "text": [
      "ERROR:root:correct_year() missing 1 required positional argument: 'text'\n"
     ]
    },
    {
     "name": "stdout",
     "output_type": "stream",
     "text": [
      "Experience --> 0\n",
      "Designation--> []\n",
      "Education--> []\n",
      "Email--> ['ratnesh.k.khandelwal@gmail.com']\n",
      "Skills--> ['windows', 'high availability', 'software', 'operations management', 'mode', 'databases', 'server', 'microsoft sql server', 'database', 'azure', 'data modeling', 'support', 'monitoring', 'database design', 'deployment', 'visual studio', 'design', 'testing', 'business', 'security', 'database security', 'query optimization', 'monitoring tools', 'microsoft azure', 'analytics', 'workflow']\n",
      "Phone number--> \n"
     ]
    },
    {
     "name": "stderr",
     "output_type": "stream",
     "text": [
      "ERROR:root:'NoneType' object has no attribute 'group'\n"
     ]
    },
    {
     "name": "stdout",
     "output_type": "stream",
     "text": [
      "First name--> System Analysis\n",
      "Full name--> RATNESH KHANDELWAL\t\t\t\tEmail\n",
      "Experience --> 0\n",
      "Designation--> []\n",
      "Education--> ['MS']\n",
      "Email--> ['kjwconsultant@gmail.com']\n",
      "Skills--> ['adobe photoshop', 'communications', 'software', 'project management', 'mobile', 'android', 'framework', 'deployment', 'broadcasting', 'wordpress', 'design', 'testing', 'confluence', 'business', 'data integration', 'ios', 'front end', 'schedule', 'drupal', 'security', 'business administration', 'resource allocation', 'twitter', 'data warehouse', 'adobe illustrator', 'workflow', 'marketing']\n",
      "Phone number--> 404.374.0780\n"
     ]
    },
    {
     "name": "stderr",
     "output_type": "stream",
     "text": [
      "ERROR:root:'NoneType' object has no attribute 'group'\n"
     ]
    },
    {
     "name": "stdout",
     "output_type": "stream",
     "text": [
      "First name--> Kimberly\n",
      "Full name--> Kimberly\tJames-Williams\n",
      "Experience --> 0\n",
      "Designation--> []\n",
      "Education--> ['MS']\n",
      "Email--> ['Ajschneider2@gmail.com']\n",
      "Skills--> ['engineering', 'software', 'email marketing', 'operations management', 'business process', 'project management', 'data modeling', 'support', 'wireless', 'framework', 'design', 'testing', 'business', 'issue tracking', 'data warehouse', 'segmentation', 'process management', 'analytics', 'marketing']\n",
      "Phone number--> 591-4241\n"
     ]
    },
    {
     "name": "stderr",
     "output_type": "stream",
     "text": [
      "ERROR:root:correct_year() missing 1 required positional argument: 'text'\n"
     ]
    },
    {
     "name": "stdout",
     "output_type": "stream",
     "text": [
      "First name--> Allison\n",
      "Full name--> Allison J. Schneider\n",
      "Experience --> 0\n",
      "Designation--> []\n",
      "Education--> []\n",
      "Email--> ['krrkm@aol.com']\n",
      "Skills--> ['communications', 'payments', 'design', 'business process', 'server', 'utilities', 'business administration', 'project management', 'business', 'security', 'analytics', 'azure', 'collaboration', 'watershed']\n",
      "Phone number--> 985-249-4441\n"
     ]
    },
    {
     "name": "stderr",
     "output_type": "stream",
     "text": [
      "ERROR:root:'NoneType' object has no attribute 'group'\n"
     ]
    },
    {
     "name": "stdout",
     "output_type": "stream",
     "text": [
      "First name--> Kimberley Kerr\n",
      "Full name--> Kimberley Kerr\n",
      "Experience --> 0\n",
      "Designation--> []\n",
      "Education--> ['MS']\n",
      "Email--> ['rayandumasia@gmail.com']\n",
      "Skills--> ['python', 'communications', 'engineering', 'software', 'oracle', 'commerce', 'business process', 'microsoft sql server', 'project management', 'database', 'support', 'monitoring', 'framework', 'design', 'business', 'confluence', 'ecommerce', 'invision', 'javascript', 'telecommunications', 'content management', 'medium', 'security', 'finance', 'marketing']\n",
      "Phone number--> \n",
      "First name--> Rayan\n",
      "Full name--> Rayan Dumasia\n"
     ]
    },
    {
     "name": "stderr",
     "output_type": "stream",
     "text": [
      "ERROR:root:correct_year() missing 1 required positional argument: 'text'\n"
     ]
    },
    {
     "name": "stdout",
     "output_type": "stream",
     "text": [
      "Experience --> 0\n",
      "Designation--> []\n",
      "Education--> ['MS']\n",
      "Email--> ['srikantp.apo@gmail.com']\n",
      "Skills--> ['windows', 'engineering', 'outlier', 'business process', 'component', 'documentation', 'support', 'monitoring', 'operating systems', 'tower', 'deployment', 'design', 'testing', 'time series', 'business', 'data integration', 'functional testing', 'release', 'computer science', 'segmentation', 'process management', 'analytics', 'specification']\n",
      "Phone number--> 312-877-7066\n",
      "First name--> Panigrahi C\n"
     ]
    },
    {
     "name": "stderr",
     "output_type": "stream",
     "text": [
      "ERROR:root:correct_year() missing 1 required positional argument: 'text'\n"
     ]
    },
    {
     "name": "stdout",
     "output_type": "stream",
     "text": [
      "Full name--> Panigrahi\n",
      "Experience --> 0\n",
      "Designation--> []\n",
      "Education--> []\n",
      "Email--> []\n",
      "Skills--> ['windows', 'communications', 'software', 'oracle', 'network security', 'business process', 'server', 'project management', 'azure', 'data modeling', 'support', 'mobile', 'accounting', 'monitoring', 'deployment', 'process engineering', 'task management', 'design', 'testing', 'play', 'business', 'confluence', 'ecommerce', 'certificate', 'release', 'schedule', 'library', 'business intelligence', 'content management', 'security', 'help desk', 'resource allocation', 'java', 'data center', 'finance', 'payments', 'publishing', 'analytics', 'workflow', 'marketing']\n",
      "Phone number--> \n",
      "First name--> Howard\n"
     ]
    },
    {
     "name": "stderr",
     "output_type": "stream",
     "text": [
      "ERROR:root:correct_year() missing 1 required positional argument: 'text'\n"
     ]
    },
    {
     "name": "stdout",
     "output_type": "stream",
     "text": [
      "Full name--> Howard W. Humphrey\n",
      "\n",
      "Johns Creek\n",
      "Experience --> 0\n",
      "Designation--> []\n",
      "Education--> None\n",
      "Email--> ['wesley.r.tucker@gmail.com']\n",
      "Skills--> ['segment', 'software', 'project management', 'web server', 'support', 'collaboration', 'monitoring', 'framework', 'telephony', 'design', 'testing', 'business', 'release', 'medium', 'data center', 'finance', 'data management', 'workflow', 'marketing']\n",
      "Phone number--> 904-566-2882\n",
      "First name--> Wesley\n"
     ]
    },
    {
     "name": "stderr",
     "output_type": "stream",
     "text": [
      "ERROR:root:correct_year() missing 1 required positional argument: 'text'\n"
     ]
    },
    {
     "name": "stdout",
     "output_type": "stream",
     "text": [
      "Full name--> Wesley Tucker\n",
      "Experience --> 0\n",
      "Designation--> []\n",
      "Education--> None\n",
      "Email--> []\n",
      "Skills--> ['grpc', 'typescript', 'rest api', 'server', 'payment services', 'project management', 'hibernate', 'mobile', 'libraries', 'fusion', 'jenkins', 'devops', 'react native', 'apigee', 'linux', 'bootstrap', 'aws lambda', 'application server', 'kubernetes', 'javascript', 'polymer', 'user interface', 'amazon web services', 'auth0', 'composer', 'elasticsearch', 'docker', 'postman', 'gulp', 'apache tomcat', 'python', 'junit', 'authentication', 'component', 'spring boot', 'sass', 'gradle', 'design', 'testing', 'business', 'ios', 'ecommerce', 'maven', 'git', 'blockchain', 'spring', 'security', 'perl', 'java', 'continuous integration', 'node.js', 'eclipse', 'jquery', 'react', 'serverless', 'software', 'android', 'framework', 'deployment', 'jest', 'javascript mvc frameworks', 'mysql', 'certificate', 'bower', 'node js', 'ubuntu', 'encryption', 'laravel', 'ansible', 'router', 'source code', 'workflow', 'grunt', 'windows', 'middleware', 'flask', 'rabbitmq', 'database', 'cloud foundry', 'mocha', 'angularjs', 'angular', 'release', 'graphical user interface', 'library', 'issue tracking', 'redux', 'scalability', 'django']\n",
      "Phone number--> \n",
      "First name--> Implementation\n"
     ]
    },
    {
     "name": "stderr",
     "output_type": "stream",
     "text": [
      "ERROR:root:correct_year() missing 1 required positional argument: 'text'\n"
     ]
    },
    {
     "name": "stdout",
     "output_type": "stream",
     "text": [
      "Full name--> all 8+ Years\n",
      "Experience --> 0\n",
      "Designation--> []\n",
      "Education--> ['MS']\n",
      "Email--> []\n",
      "Skills--> ['typescript', 'server', 'celery', 'hibernate', 'libraries', 'data access', 'aws fargate', 'data structures', 'zookeeper', 'big data', 'devops', 'linux', 'data retrieval', 'bootstrap', 'application server', 'kubernetes', 'javascript', 'yeoman', 'sorting', 'amazon web services', 'shell', 'docker', 'algorithms', 'karma', 'github', 'gulp', 'apache tomcat', 'python', 'junit', 'engineering', 'authentication', 'oracle', 'scala', 'flux', 'npm', 'azure', 'spring boot', 'aws elastic beanstalk', 'new relic', 'design', 'testing', 'business', 'git', 'spring', 'security', 'logstash', 'java', 'continuous integration', 'node.js', 'package manager', 'monitoring tools', 'ruby', 'eclipse', 'jquery', 'material ui', 'ember.js', 'react', 'software', 'databases', 'debugging', 'chef', 'cassandra', 'framework', 'fault tolerance', 'deployment', 'backbone.js', 'bower', 'node js', 'metadata', 'material', 'jasmine', 'google', 'bitbucket', 'source code', 'analytics', 'grunt', 'operating system', 'mongodb', 'rabbitmq', 'memory management', 'gitlab', 'database', 'variables', 'spring cloud', 'angular', 'nosql', 'languages', 'redis', 'release', 'dynamic data', 'schedule', 'library', 'hadoop', 'redux', 'specification']\n",
      "Phone number--> \n",
      "First name--> Streams\n"
     ]
    },
    {
     "name": "stderr",
     "output_type": "stream",
     "text": [
      "ERROR:root:correct_year() missing 1 required positional argument: 'text'\n"
     ]
    },
    {
     "name": "stdout",
     "output_type": "stream",
     "text": [
      "Full name--> 8+ years\n",
      "Experience --> 0\n",
      "Designation--> []\n",
      "Education--> []\n",
      "Email--> ['vivianomoke1@gmail.com']\n",
      "Skills--> ['release', 'amazon web services', 'framework', 'support', 'software', 'trello', 'design', 'testing', 'medium', 'business', 'project management', 'azure', 'confluence', 'documentation', 'collaboration', 'business administration']\n",
      "Phone number--> 682.804.3300\n",
      "First name--> Lewisville\n",
      "Full name--> Lewisville\n",
      "Experience --> None\n",
      "Designation--> []\n",
      "Education--> ['MS']\n",
      "Email--> ['gourav.middleware@outlook.com']\n",
      "Skills--> ['apache tomcat', 'windows', 'python', 'middleware', 'communications', 'queue', 'engineering', 'software', 'oracle', 'databases', 'debugging', 'server', 'project management', 'system testing', 'database', 'support', 'mobile', 'monitoring', 'framework', 'deployment', 'testing', 'business', 'linux', 'certificate', 'microsoft iis', 'release', 'git', 'application server', 'security', 'perl', 'business administration', 'java', 'version control system', 'monitoring tools', 'scalability', 'shell', 'operating systems', 'github']\n",
      "Phone number--> 732-884-4779\n",
      "First name--> Kumar\n"
     ]
    },
    {
     "name": "stderr",
     "output_type": "stream",
     "text": [
      "ERROR:root:correct_year() missing 1 required positional argument: 'text'\n"
     ]
    },
    {
     "name": "stdout",
     "output_type": "stream",
     "text": [
      "Full name--> Kumar Gaurav\n",
      "Experience --> 0\n",
      "Designation--> []\n",
      "Education--> []\n",
      "Email--> ['meenaqaautomation@gmail.com']\n",
      "Skills--> ['windows', 'junit', 'software', 'oracle', 'authentication', 'groovy', 'box', 'business process', 'server', 'database', 'system testing', 'project management', 'support', 'mobile', 'variables', 'android', 'libraries', 'framework', 'appium', 'deployment', 'trello', 'jenkins', 'languages', 'design', 'testing', 'business', 'linux', 'ios', 'browser testing', 'functional testing', 'front end', 'release', 'schedule', 'javascript', 'library', 'access control', 'security', 'java', 'continuous integration', 'ruby', 'selenium', 'eclipse', 'operating systems', 'emulator', 'github', 'cucumber', 'decision tree']\n",
      "Phone number--> \n",
      "First name--> Meena\n"
     ]
    },
    {
     "name": "stderr",
     "output_type": "stream",
     "text": [
      "ERROR:root:'NoneType' object has no attribute 'group'\n"
     ]
    },
    {
     "name": "stdout",
     "output_type": "stream",
     "text": [
      "Full name--> Meena P\n",
      "\n",
      "\n",
      "Experience --> 0\n",
      "Designation--> []\n",
      "Education--> None\n",
      "Email--> ['surabij1998@gmail.com']\n",
      "Skills--> ['rest api', 'server', 'documentation', 'mobile', 'fusion', 'jenkins', 'big data', 'devops', 'web service', 'google analytics', 'linux', 'javascript', 'drupal', 'amazon web services', 'sauce labs', 'search engine', 'selenium', 'postman', 'github', 'junit', 'python', 'engineering', 'azure', 'spring boot', 'gradle', 'design', 'testing', 'business', 'ios', 'ecommerce', 'object model', 'git', 'computer science', 'spring', 'java', 'protractor', 'continuous integration', 'firefox', 'ruby', 'eclipse', 'jquery', 'react', 'software', 'databases', 'response time', 'debugging', 'data modeling', 'support', 'chrome', 'android', 'monitoring', 'framework', 'jest', 'browser testing', 'mysql', 'certificate', 'teamcity', 'robot', 'node js', 'content management', 'business intelligence', 'landing pages', 'google', 'finance', 'data warehouse', 'emulator', 'windows', 'operating system', 'communications', 'commerce', 'database', 'terminal', 'appium', 'angular', 'snowflake', 'languages', 'confluence', 'release', 'schedule', 'library', 'hadoop', 'django', 'cucumber', 'specification']\n",
      "Phone number--> 201 627 3483\n",
      "First name--> Ektron\n"
     ]
    },
    {
     "name": "stderr",
     "output_type": "stream",
     "text": [
      "ERROR:root:'NoneType' object has no attribute 'group'\n"
     ]
    },
    {
     "name": "stdout",
     "output_type": "stream",
     "text": [
      "Full name--> 627\n",
      "Experience --> 0\n",
      "Designation--> []\n",
      "Education--> ['MS']\n",
      "Email--> []\n",
      "Skills--> ['queue', 'windows', 'python', 'middleware', 'engineering', 'high availability', 'software', 'oracle', 'visual basic', 'network security', 'databases', 'box', 'heap', 'server', 'database', 'support', 'garbage collection', 'monitoring', 'fusion', 'deployment', 'languages', 'design', 'rotation', 'testing', 'linux', 'mysql', 'git', 'application server', 'web servers', 'utilities', 'file system', 'security', 'java', 'monitoring tools', 'scalability', 'eclipse', 'shell', 'performance monitoring', 'algorithms', 'operating systems']\n",
      "Phone number--> \n",
      "First name--> Tomcat\n"
     ]
    },
    {
     "name": "stderr",
     "output_type": "stream",
     "text": [
      "ERROR:root:'NoneType' object has no attribute 'end'\n"
     ]
    },
    {
     "name": "stdout",
     "output_type": "stream",
     "text": [
      "Full name--> Around 9 years\n",
      "Experience --> 0\n",
      "Designation--> []\n",
      "Education--> ['MS']\n",
      "Email--> []\n",
      "Skills--> ['queue', 'windows', 'apache tomcat', 'workload', 'grunt', 'middleware', 'python', 'bamboo', 'operating system', 'authentication', 'oracle', 'software', 'rabbitmq', 'mode', 'high availability', 'programming language', 'server', 'heap', 'source code', 'chef', 'web server', 'database', 'documentation', 'support', 'project management', 'microsoft sql server', 'garbage collection', 'monitoring', 'gradle', 'deployment', 'languages', 'design', 'testing', 'devops', 'bash', 'business', 'linux', 'mysql', 'maven', 'release', 'sonatype nexus', 'git', 'engineering', 'vagrant', 'application server', 'javascript', 'web servers', 'utilities', 'file system', 'deadlock', 'security', 'resource allocation', 'ansible', 'continuous integration', 'java', 'amazon web services', 'monitoring tools', 'eclipse', 'docker', 'shell', 'performance monitoring', 'operating systems', 'cucumber']\n",
      "Phone number--> \n",
      "First name--> Joan\n"
     ]
    },
    {
     "name": "stderr",
     "output_type": "stream",
     "text": [
      "ERROR:root:correct_year() missing 1 required positional argument: 'text'\n"
     ]
    },
    {
     "name": "stdout",
     "output_type": "stream",
     "text": [
      "Full name--> Joan zhang\n",
      "Experience --> 0\n",
      "Designation--> []\n",
      "Education--> ['MS']\n",
      "Email--> ['nagus3545@gmail.com']\n",
      "Skills--> ['interaction', 'server', 'hibernate', 'mobile', 'zookeeper', 'jenkins', 'big data', 'postgresql', 'devops', 'web service', 'linux', 'bootstrap', 'concurrency', 'ember', 'application server', 'kubernetes', 'javascript', 'user profile', 'user interface', 'amazon web services', 'selenium', 'karma', 'docker', 'shell', 'postman', 'github', 'amazon s3', 'apache tomcat', 'junit', 'engineering', 'query language', 'authentication', 'oracle', 'flux', 'spring boot', 'sass', 'gradle', 'design', 'testing', 'business', 'google maps', 'git', 'computer science', 'spring', 'security', 'java', 'continuous integration', 'node.js', 'eclipse', 'jquery', 'react', 'bamboo', 'software', 'databases', 'debugging', 'relational database', 'microsoft sql server', 'chrome', 'monitoring', 'cassandra', 'framework', 'deployment', 'backbone.js', 'openshift', 'mysql', 'node js', 'web servers', 'jasmine', 'google', 'bitbucket', 'operating systems', 'terraform', 'windows', 'middleware', 'mongodb', 'rabbitmq', 'commerce', 'database', 'beanstalk', 'cloud foundry', 'angularjs', 'spring cloud', 'angular', 'kafka', 'nosql', 'languages', 'redis', 'amazon ec2', 'actuator', 'redux', 'scalability', 'cucumber']\n",
      "Phone number--> 571-513-4562\n",
      "First name--> Java\n",
      "Full name--> NAGENDRA\n",
      "Experience --> None\n",
      "Designation--> []\n",
      "Education--> []\n",
      "Email--> ['aaradhya.t22@gmail.com']\n",
      "Skills--> ['typescript', 'rest api', 'server', 'documentation', 'hibernate', 'mobile', 'libraries', 'zookeeper', 'postgresql', 'devops', 'web service', 'openstack', 'linux', 'babel', 'ajax', 'bootstrap', 'application server', 'javascript', 'skeleton', 'user interface', 'amazon web services', 'selenium', 'docker', 'postman', 'github', 'cryptography', 'apache tomcat', 'junit', 'query language', 'authentication', 'oracle', 'scala', 'flux', 'component', 'npm', 'spring boot', 'stream processing', 'sass', 'gradle', 'design', 'testing', 'business', 'front end', 'maven', 'git', 'security', 'spring', 'java', 'node.js', 'twitter', 'computer engineering', 'parsing', 'eclipse', 'jquery', 'unified modeling language', 'react', 'webpack', 'databases', 'debugging', 'sqlite', 'support', 'sonar', 'chrome', 'cassandra', 'framework', 'deployment', 'visual studio', 'jest', 'backbone.js', 'mysql', 'node js', 'metadata', 'web servers', 'express js', 'jasmine', 'enzyme', 'google', 'version control system', 'router', 'operating systems', 'virtual private cloud', 'swagger ui', 'asynchronous communication', 'grunt', 'windows', 'middleware', 'mongodb', 'backbone js', 'database', 'cloud foundry', 'angularjs', 'angular', 'kafka', 'nosql', 'languages', 'storm', 'confluence', 'library', 'mongoose', 'redux', 'scalability', 'cucumber']\n",
      "Phone number--> 734-480-8720\n",
      "First name--> Implementation\n"
     ]
    },
    {
     "name": "stderr",
     "output_type": "stream",
     "text": [
      "ERROR:root:correct_year() missing 1 required positional argument: 'text'\n"
     ]
    },
    {
     "name": "stdout",
     "output_type": "stream",
     "text": [
      "Full name--> 734\n",
      "Experience --> 0\n",
      "Designation--> []\n",
      "Education--> []\n",
      "Email--> ['rameshbabugolla4@gmail.com']\n",
      "Skills--> ['windows', 'middleware', 'engineering', 'bamboo', 'software', 'component', 'documentation', 'support', 'monitoring', 'deployment', 'testing', 'devops', 'confluence', 'business', 'linux', 'bootstrap', 'release', 'git', 'web servers', 'ubuntu', 'security', 'continuous integration', 'monitoring tools', 'shell', 'source code', 'github']\n",
      "Phone number--> 860-3678\n"
     ]
    },
    {
     "name": "stderr",
     "output_type": "stream",
     "text": [
      "ERROR:root:correct_year() missing 1 required positional argument: 'text'\n"
     ]
    },
    {
     "name": "stdout",
     "output_type": "stream",
     "text": [
      "First name--> Ramesh\n",
      "Full name--> Babu Golla\n",
      "Experience --> 0\n",
      "Designation--> []\n",
      "Education--> ['BTECH']\n",
      "Email--> []\n"
     ]
    },
    {
     "name": "stderr",
     "output_type": "stream",
     "text": [
      "ERROR:root:'NoneType' object has no attribute 'group'\n"
     ]
    },
    {
     "name": "stdout",
     "output_type": "stream",
     "text": [
      "Skills--> ['libraries', 'middleware', 'deployment', 'software', 'oracle', 'application server', 'languages', 'server', 'docker', 'security', 'support', 'github']\n",
      "Phone number--> \n",
      "First name--> Resume RESUME Resume Headline\n",
      "Full name--> Confidential Resume\n",
      "Experience --> 0\n",
      "Designation--> []\n",
      "Education--> []\n",
      "Email--> []\n",
      "Skills--> ['apache tomcat', 'windows', 'queue', 'middleware', 'engineering', 'interaction', 'high availability', 'software', 'oracle', 'authentication', 'databases', 'vault', 'heap', 'server', 'debugging', 'chef', 'database', 'support', 'garbage collection', 'monitoring', 'deployment', 'jenkins', 'design', 'testing', 'bash', 'linux', 'certificate', 'release', 'virtual memory', 'git', 'synchronization', 'apache http server', 'application server', 'encryption', 'perl', 'security', 'ansible', 'java', 'monitoring tools', 'shell', 'docker', 'performance monitoring', 'message queue', 'operating systems', 'github']\n",
      "Phone number--> \n",
      "First name--> Oracle\n"
     ]
    },
    {
     "name": "stderr",
     "output_type": "stream",
     "text": [
      "ERROR:root:'NoneType' object has no attribute 'group'\n"
     ]
    },
    {
     "name": "stdout",
     "output_type": "stream",
     "text": [
      "Full name--> Elisa veth\n",
      "\n",
      "\n",
      "\n",
      "\n",
      "\n",
      "\n",
      "\n",
      "\n",
      "\n",
      "\n",
      "\n",
      "PROFESSIONAL SUMMARY\n",
      "Experience --> 0\n",
      "Designation--> []\n",
      "Education--> ['MS', 'x']\n",
      "Email--> ['avinashsingh.recruiter@gmail.com']\n",
      "Skills--> ['monitoring', 'windows', 'data access', 'release', 'interaction', 'design', 'access control', 'testing', 'shell', 'documentation', 'project management', 'business', 'security', 'support', 'terminal', 'workflow', 'marketing']\n",
      "Phone number--> 469-888-5443\n",
      "First name--> Key\n"
     ]
    },
    {
     "name": "stderr",
     "output_type": "stream",
     "text": [
      "ERROR:root:correct_year() missing 1 required positional argument: 'text'\n"
     ]
    },
    {
     "name": "stdout",
     "output_type": "stream",
     "text": [
      "Full name--> nearly 9 years\n",
      "Experience --> 0\n",
      "Designation--> []\n",
      "Education--> None\n",
      "Email--> ['shellyoladele@gmail.com']\n"
     ]
    },
    {
     "name": "stderr",
     "output_type": "stream",
     "text": [
      "ERROR:root:correct_year() missing 1 required positional argument: 'text'\n"
     ]
    },
    {
     "name": "stdout",
     "output_type": "stream",
     "text": [
      "Skills--> ['release', 'software', 'testing', 'business', 'support', 'mobile']\n",
      "Phone number--> (469) 594-4247\n",
      "First name--> Richardson\n",
      "Full name--> SHELLY C. OLADELE\n",
      "Experience --> 0\n",
      "Designation--> []\n",
      "Education--> []\n",
      "Email--> ['manilasrestha26@gmail.com']\n",
      "Skills--> ['windows', 'software', 'databases', 'server', 'database', 'data modeling', 'support', 'monitoring', 'database design', 'deployment', 'languages', 'design', 'testing', 'business', 'data retrieval', 'business intelligence', 'deadlock', 'security', 'database security', 'database tools', 'shell', 'operating systems']\n",
      "Phone number--> (510)447-9306\n"
     ]
    },
    {
     "name": "stderr",
     "output_type": "stream",
     "text": [
      "ERROR:root:'NoneType' object has no attribute 'group'\n"
     ]
    },
    {
     "name": "stdout",
     "output_type": "stream",
     "text": [
      "First name--> Manila\n",
      "Full name--> Manila Shrestha\n",
      "Experience --> 0\n",
      "Designation--> []\n",
      "Education--> None\n",
      "Email--> ['careerrebahi@gmail.com']\n",
      "Skills--> ['windows', 'operating system', 'engineering', 'cloud storage', 'high availability', 'software', 'oracle', 'databases', 'data integrity', 'server', 'microsoft sql server', 'database', 'documentation', 'web server', 'data modeling', 'azure', 'support', 'monitoring', 'database design', 'deployment', 'snowflake', 'design', 'testing', 'rotation', 'sentry', 'business', 'mysql', 'access control', 'encryption', 'security', 'deadlock', 'diagram', 'database transaction', 'data management']\n",
      "Phone number--> 585 351 3287\n",
      "First name--> Server\n"
     ]
    },
    {
     "name": "stderr",
     "output_type": "stream",
     "text": [
      "ERROR:root:'NoneType' object has no attribute 'end'\n"
     ]
    },
    {
     "name": "stdout",
     "output_type": "stream",
     "text": [
      "Full name--> 585\n",
      "Experience --> 0\n",
      "Designation--> []\n"
     ]
    },
    {
     "name": "stderr",
     "output_type": "stream",
     "text": [
      "WARNING:PyPDF2._reader:Superfluous whitespace found in object header b'1' b'0'\n",
      "WARNING:PyPDF2._reader:Superfluous whitespace found in object header b'2' b'0'\n",
      "WARNING:PyPDF2._reader:Superfluous whitespace found in object header b'3' b'0'\n",
      "WARNING:PyPDF2._reader:Superfluous whitespace found in object header b'62' b'0'\n",
      "WARNING:PyPDF2._reader:Superfluous whitespace found in object header b'61' b'0'\n",
      "WARNING:PyPDF2._reader:Superfluous whitespace found in object header b'11' b'0'\n",
      "WARNING:PyPDF2._reader:Superfluous whitespace found in object header b'10' b'0'\n",
      "WARNING:PyPDF2._reader:Superfluous whitespace found in object header b'9' b'0'\n",
      "WARNING:PyPDF2._reader:Superfluous whitespace found in object header b'19' b'0'\n",
      "WARNING:PyPDF2._reader:Superfluous whitespace found in object header b'18' b'0'\n",
      "WARNING:PyPDF2._reader:Superfluous whitespace found in object header b'17' b'0'\n",
      "WARNING:PyPDF2._reader:Superfluous whitespace found in object header b'27' b'0'\n",
      "WARNING:PyPDF2._reader:Superfluous whitespace found in object header b'26' b'0'\n",
      "WARNING:PyPDF2._reader:Superfluous whitespace found in object header b'25' b'0'\n",
      "WARNING:PyPDF2._reader:Superfluous whitespace found in object header b'35' b'0'\n",
      "WARNING:PyPDF2._reader:Superfluous whitespace found in object header b'34' b'0'\n",
      "WARNING:PyPDF2._reader:Superfluous whitespace found in object header b'33' b'0'\n",
      "WARNING:PyPDF2._reader:Superfluous whitespace found in object header b'43' b'0'\n",
      "WARNING:PyPDF2._reader:Superfluous whitespace found in object header b'42' b'0'\n",
      "WARNING:PyPDF2._reader:Superfluous whitespace found in object header b'41' b'0'\n",
      "WARNING:PyPDF2._reader:Superfluous whitespace found in object header b'51' b'0'\n",
      "WARNING:PyPDF2._reader:Superfluous whitespace found in object header b'50' b'0'\n",
      "WARNING:PyPDF2._reader:Superfluous whitespace found in object header b'49' b'0'\n",
      "WARNING:PyPDF2._reader:Superfluous whitespace found in object header b'59' b'0'\n",
      "WARNING:PyPDF2._reader:Superfluous whitespace found in object header b'58' b'0'\n",
      "WARNING:PyPDF2._reader:Superfluous whitespace found in object header b'57' b'0'\n",
      "WARNING:PyPDF2._reader:Superfluous whitespace found in object header b'60' b'0'\n",
      "WARNING:PyPDF2._reader:Superfluous whitespace found in object header b'64' b'0'\n",
      "WARNING:PyPDF2._reader:Superfluous whitespace found in object header b'63' b'0'\n"
     ]
    },
    {
     "name": "stdout",
     "output_type": "stream",
     "text": [
      "Education--> ['MS']\n",
      "Email--> ['e.h.pumilia@gmail.com']\n",
      "Skills--> ['continuous integration', 'workload', 'software', 'slack', 'schedule', 'testing', 'throughput', 'confluence', 'support', 'collaboration', 'biometrics']\n",
      "Phone number--> (832) 489-0026\n",
      "First name--> Eric Pumilia Scrum Master Address Houston\n",
      "Full name--> Eric Pumilia\n",
      "Experience --> None\n",
      "Designation--> []\n",
      "Education--> ['MS']\n",
      "Email--> ['gessoadampeh@yahoo.com', 'gessoadampeh@yahoo.com', 'gessoadampeh@yahoo.com', 'gessoadampeh@yahoo.com']\n",
      "Skills--> ['engineering', 'software', 'shippable', 'documentation', 'chef', 'collaboration', 'monitoring', 'slack', 'confluence', 'devops', 'agile project management', 'business', 'release', 'skype', 'security', 'dependency management', 'google', 'continuous integration', 'workflow']\n",
      "Phone number--> 470.871.9570\n"
     ]
    },
    {
     "name": "stderr",
     "output_type": "stream",
     "text": [
      "ERROR:root:correct_year() missing 1 required positional argument: 'text'\n"
     ]
    },
    {
     "name": "stdout",
     "output_type": "stream",
     "text": [
      "First name--> Scrum Master\n",
      "Full name--> GREGORY ESSOADAMPEH\n",
      "Experience --> 0\n",
      "Designation--> []\n",
      "Education--> []\n",
      "Email--> ['adesalami28@gmail.com']\n",
      "Skills--> ['monitoring', 'continuous integration', 'windows', 'release', 'software', 'computer science', 'databases', 'postgresql', 'server', 'linux', 'documentation', 'business', 'redmine', 'confluence', 'operating systems', 'support', 'workflow', 'chrome']\n",
      "Phone number--> (214) 680-9910\n"
     ]
    },
    {
     "name": "stderr",
     "output_type": "stream",
     "text": [
      "ERROR:root:correct_year() missing 1 required positional argument: 'text'\n"
     ]
    },
    {
     "name": "stdout",
     "output_type": "stream",
     "text": [
      "First name--> Folake Salami\n",
      "Full name--> 214\n",
      "Experience --> 0\n",
      "Designation--> []\n"
     ]
    },
    {
     "name": "stderr",
     "output_type": "stream",
     "text": [
      "WARNING:PyPDF2._reader:Superfluous whitespace found in object header b'1' b'0'\n",
      "WARNING:PyPDF2._reader:Superfluous whitespace found in object header b'2' b'0'\n",
      "WARNING:PyPDF2._reader:Superfluous whitespace found in object header b'3' b'0'\n",
      "WARNING:PyPDF2._reader:Superfluous whitespace found in object header b'46' b'0'\n",
      "WARNING:PyPDF2._reader:Superfluous whitespace found in object header b'45' b'0'\n",
      "WARNING:PyPDF2._reader:Superfluous whitespace found in object header b'11' b'0'\n",
      "WARNING:PyPDF2._reader:Superfluous whitespace found in object header b'10' b'0'\n",
      "WARNING:PyPDF2._reader:Superfluous whitespace found in object header b'9' b'0'\n",
      "WARNING:PyPDF2._reader:Superfluous whitespace found in object header b'19' b'0'\n",
      "WARNING:PyPDF2._reader:Superfluous whitespace found in object header b'18' b'0'\n",
      "WARNING:PyPDF2._reader:Superfluous whitespace found in object header b'17' b'0'\n",
      "WARNING:PyPDF2._reader:Superfluous whitespace found in object header b'27' b'0'\n",
      "WARNING:PyPDF2._reader:Superfluous whitespace found in object header b'26' b'0'\n",
      "WARNING:PyPDF2._reader:Superfluous whitespace found in object header b'25' b'0'\n",
      "WARNING:PyPDF2._reader:Superfluous whitespace found in object header b'35' b'0'\n",
      "WARNING:PyPDF2._reader:Superfluous whitespace found in object header b'34' b'0'\n",
      "WARNING:PyPDF2._reader:Superfluous whitespace found in object header b'33' b'0'\n",
      "WARNING:PyPDF2._reader:Superfluous whitespace found in object header b'43' b'0'\n",
      "WARNING:PyPDF2._reader:Superfluous whitespace found in object header b'42' b'0'\n",
      "WARNING:PyPDF2._reader:Superfluous whitespace found in object header b'41' b'0'\n",
      "WARNING:PyPDF2._reader:Superfluous whitespace found in object header b'44' b'0'\n",
      "WARNING:PyPDF2._reader:Superfluous whitespace found in object header b'48' b'0'\n",
      "WARNING:PyPDF2._reader:Superfluous whitespace found in object header b'47' b'0'\n"
     ]
    },
    {
     "name": "stdout",
     "output_type": "stream",
     "text": [
      "Education--> None\n",
      "Email--> ['CHRISARCHESLEONCIO@GMAIL.COM']\n",
      "Skills--> ['monitoring', 'framework', 'design', 'testing', 'devops', 'business', 'analytics', 'support', 'marketing', 'accounting']\n",
      "Phone number--> (703)505-5013\n",
      "First name--> Scrum Master\n"
     ]
    },
    {
     "name": "stderr",
     "output_type": "stream",
     "text": [
      "ERROR:root:correct_year() missing 1 required positional argument: 'text'\n"
     ]
    },
    {
     "name": "stdout",
     "output_type": "stream",
     "text": [
      "Full name--> 21\n",
      "Experience --> 0\n",
      "Designation--> []\n",
      "Education--> []\n",
      "Email--> ['joyolayode38@gmail.com']\n",
      "Skills--> ['windows', 'python', 'engineering', 'software', 'operations management', 'documentation', 'project management', 'azure', 'support', 'collaboration', 'sass', 'framework', 'visualization', 'design', 'business', 'devops', 'data visualization', 'ios', 'lua', 'machine learning tools', 'release', 'schedule', 'javascript', 'selenium', 'shell', 'postman', 'workflow']\n",
      "Phone number--> (708) 573-4899\n"
     ]
    },
    {
     "name": "stderr",
     "output_type": "stream",
     "text": [
      "ERROR:root:correct_year() missing 1 required positional argument: 'text'\n"
     ]
    },
    {
     "name": "stdout",
     "output_type": "stream",
     "text": [
      "First name--> Scrum Master\n",
      "Full name--> Michigan\n",
      "Experience --> 0\n",
      "Designation--> []\n",
      "Education--> None\n",
      "Email--> ['zivaokeke@gmail.com']\n",
      "Skills--> ['monitoring', 'release', 'framework', 'confluence', 'project management', 'business']\n",
      "Phone number--> 571-315-2269\n",
      "First name--> Agile Framework\n",
      "Full name--> Mary-Ann\n"
     ]
    },
    {
     "name": "stderr",
     "output_type": "stream",
     "text": [
      "ERROR:root:correct_year() missing 1 required positional argument: 'text'\n"
     ]
    },
    {
     "name": "stdout",
     "output_type": "stream",
     "text": [
      "Experience --> 0\n",
      "Designation--> []\n",
      "Education--> []\n",
      "Email--> ['ddmwrites@gmail.com']\n",
      "Skills--> ['nlp', 'communications', 'software', 'trello', 'blockchain', 'confluence', 'business', 'project management', 'workflow', 'marketing']\n",
      "Phone number--> \n",
      "First name--> Calgary AB\n"
     ]
    },
    {
     "name": "stderr",
     "output_type": "stream",
     "text": [
      "ERROR:root:correct_year() missing 1 required positional argument: 'text'\n"
     ]
    },
    {
     "name": "stdout",
     "output_type": "stream",
     "text": [
      "Full name--> 403\n",
      "Experience --> 0\n",
      "Designation--> []\n",
      "Education--> []\n",
      "Email--> ['oluwasoladebisi@gmail.com']\n",
      "Skills--> ['communications', 'framework', 'software', 'commerce', 'customer relationship management', 'business intelligence', 'testing', 'devops', 'azure', 'support', 'mobile']\n",
      "Phone number--> 612 245 2701\n",
      "First name--> Mary\n"
     ]
    },
    {
     "name": "stderr",
     "output_type": "stream",
     "text": [
      "ERROR:root:correct_year() missing 1 required positional argument: 'text'\n"
     ]
    },
    {
     "name": "stdout",
     "output_type": "stream",
     "text": [
      "Full name--> Mary Adebisi\n",
      "Experience --> 0\n",
      "Designation--> []\n",
      "Education--> []\n",
      "Email--> ['kennyshey3@gmail.com']\n",
      "Skills--> ['engineering', 'software', 'data integrity', 'documentation', 'project management', 'azure', 'microsoft sql server', 'support', 'collaboration', 'mobile', 'tableau', 'framework', 'deployment', 'slack', 'testing', 'devops', 'confluence', 'business', 'continuous deployment', 'release', 'computer science', 'continuous integration']\n",
      "Phone number--> 832.760.4019\n"
     ]
    },
    {
     "name": "stderr",
     "output_type": "stream",
     "text": [
      "ERROR:root:correct_year() missing 1 required positional argument: 'text'\n"
     ]
    },
    {
     "name": "stdout",
     "output_type": "stream",
     "text": [
      "First name--> Houston\n",
      "Full name--> TX • CELL\n",
      "Experience --> 0\n",
      "Designation--> []\n",
      "Education--> ['MBA']\n",
      "Email--> ['isaiah.aguirre48@gmail.com']\n"
     ]
    },
    {
     "name": "stderr",
     "output_type": "stream",
     "text": [
      "ERROR:root:correct_year() missing 1 required positional argument: 'text'\n"
     ]
    },
    {
     "name": "stdout",
     "output_type": "stream",
     "text": [
      "Skills--> ['monitoring', 'server', 'security', 'support', 'image processing']\n",
      "Phone number--> (773) 569-0975\n",
      "First name--> Isaiah\n",
      "Full name--> Isaiah Aguirre\n",
      "Experience --> 0\n",
      "Designation--> []\n",
      "Education--> []\n",
      "Email--> ['angela.williams92@yahoo.com']\n",
      "Skills--> ['queue', 'release', 'payments', 'schedule', 'testing', 'back office', 'sorting', 'accounting']\n",
      "Phone number--> 469-785-8895\n"
     ]
    },
    {
     "name": "stderr",
     "output_type": "stream",
     "text": [
      "ERROR:root:'NoneType' object has no attribute 'group'\n"
     ]
    },
    {
     "name": "stdout",
     "output_type": "stream",
     "text": [
      "First name--> Angela\n",
      "Full name--> Angela D. Williams\n",
      "Experience --> 0\n",
      "Designation--> []\n",
      "Education--> None\n",
      "Email--> ['Andre.Wright482@gmail.com']\n",
      "Skills--> ['windows', 'software', 'terminal', 'linux', 'security', 'operating systems', 'support', 'network topology', 'help desk']\n",
      "Phone number--> 779-212-0460\n"
     ]
    },
    {
     "name": "stderr",
     "output_type": "stream",
     "text": [
      "ERROR:root:correct_year() missing 1 required positional argument: 'text'\n"
     ]
    },
    {
     "name": "stdout",
     "output_type": "stream",
     "text": [
      "First name--> Andre\n",
      "Full name--> Andre Wright\n",
      "Experience --> 0\n",
      "Designation--> []\n",
      "Education--> []\n",
      "Email--> ['mvnunezn@gmail.com']\n",
      "Skills--> ['monitoring', 'communications', 'wireless', 'design', 'business', 'project management', 'security', 'support']\n",
      "Phone number--> 234-5829\n",
      "First name--> Network Administrator\n"
     ]
    },
    {
     "name": "stderr",
     "output_type": "stream",
     "text": [
      "ERROR:root:'NoneType' object has no attribute 'group'\n"
     ]
    },
    {
     "name": "stdout",
     "output_type": "stream",
     "text": [
      "Full name--> MARCELO\n",
      "Experience --> 0\n",
      "Designation--> []\n",
      "Education--> ['MS']\n",
      "Email--> ['lsabbat@gmail.com']\n"
     ]
    },
    {
     "name": "stderr",
     "output_type": "stream",
     "text": [
      "ERROR:root:correct_year() missing 1 required positional argument: 'text'\n"
     ]
    },
    {
     "name": "stdout",
     "output_type": "stream",
     "text": [
      "Skills--> ['windows', 'operating system', 'workload', 'spring', 'software', 'wireless', 'languages', 'linux', 'server', 'business', 'security', 'support', 'ios']\n",
      "Phone number--> 1813419085\n",
      "First name--> Lionel\n",
      "Full name--> Palm Beach\n",
      "Experience --> 0\n",
      "Designation--> []\n",
      "Education--> []\n",
      "Email--> ['yuan_sun@sbcglobal.net']\n",
      "Skills--> ['windows', 'data transmission', 'high availability', 'authentication', 'software', 'network security', 'databases', 'ethernet', 'server', 'database', 'support', 'monitoring', 'design', 'business', 'certificate', 'web servers', 'encryption', 'security', 'data center', 'network management', 'computer engineering', 'router', 'shell', 'performance monitoring', 'operating systems']\n",
      "Phone number--> 847-800-5931\n"
     ]
    },
    {
     "name": "stderr",
     "output_type": "stream",
     "text": [
      "ERROR:root:'NoneType' object has no attribute 'group'\n"
     ]
    },
    {
     "name": "stdout",
     "output_type": "stream",
     "text": [
      "First name--> Yuan\n",
      "Full name--> Yuan Sun\n",
      "Experience --> 0\n",
      "Designation--> []\n",
      "Education--> ['MS', 'BS']\n",
      "Email--> ['nimeshshah1030@gmail.com']\n",
      "Skills--> ['windows', 'operating system', 'python', 'engineering', 'high availability', 'software', 'network security', 'authentication', 'mode', 'ethernet', 'server', 'documentation', 'web server', 'azure', 'support', 'wireless', 'mobile', 'multicast', 'virtual machine', 'monitoring', 'point to point', 'deployment', 'core network', 'languages', 'design', 'wide area network', 'testing', 'business', 'linux', 'ios', 'ecommerce', 'access control', 'network architecture', 'relay', 'routing protocol', 'traffic engineering', 'security', 'perl', 'encryption', 'data center', 'network management', 'monitoring tools', 'wireless network', 'router', 'shell']\n",
      "Phone number--> 224-325-5057\n",
      "First name--> Nimesh\n"
     ]
    },
    {
     "name": "stderr",
     "output_type": "stream",
     "text": [
      "ERROR:root:'NoneType' object has no attribute 'end'\n"
     ]
    },
    {
     "name": "stdout",
     "output_type": "stream",
     "text": [
      "Full name--> 224\n",
      "Experience --> 0\n",
      "Designation--> []\n",
      "Education--> ['X', 'MS']\n",
      "Email--> ['junaidmak2808@gmail.com']\n",
      "Skills--> ['windows', 'engineering', 'high availability', 'software', 'network security', 'commerce', 'databases', 'vault', 'web server', 'database', 'support', 'mobile', 'wireless', 'monitoring', 'deployment', 'design', 'testing', 'business', 'computer science', 'telecommunications', 'encryption', 'security', 'operating systems']\n",
      "Phone number--> 706-1573\n"
     ]
    },
    {
     "name": "stderr",
     "output_type": "stream",
     "text": [
      "ERROR:root:correct_year() missing 1 required positional argument: 'text'\n"
     ]
    },
    {
     "name": "stdout",
     "output_type": "stream",
     "text": [
      "First name--> Network/ Infrastructure\n",
      "Full name--> 630)-706-1573\n",
      "Experience --> 0\n",
      "Designation--> []\n",
      "Education--> []\n",
      "Email--> ['contact@rr']\n",
      "Skills--> ['monitoring', 'windows', 'crystal', 'deployment', 'software', 'network security', 'wireless', 'design', 'schedule', 'router', 'mode', 'linux', 'server', 'business', 'azure', 'security', 'support', 'mysql']\n",
      "Phone number--> 7879187474\n"
     ]
    },
    {
     "name": "stderr",
     "output_type": "stream",
     "text": [
      "ERROR:root:correct_year() missing 1 required positional argument: 'text'\n"
     ]
    },
    {
     "name": "stdout",
     "output_type": "stream",
     "text": [
      "First name--> José\n",
      "Full name--> Ramirez  \n",
      "\n",
      "Experience --> 0\n",
      "Designation--> []\n",
      "Education--> ['MS']\n",
      "Email--> ['cheryllynnwatson@hotmail.com']\n",
      "Skills--> ['communications', 'engineering', 'software', 'oracle', 'operations management', 'business process', 'project management', 'database', 'support', 'collaboration', 'framework', 'testing', 'play', 'business', 'certificate', 'schedule', 'telecommunications', 'finance', 'customer relationship management']\n",
      "Phone number--> 727-470-0275\n"
     ]
    },
    {
     "name": "stderr",
     "output_type": "stream",
     "text": [
      "ERROR:root:'NoneType' object has no attribute 'group'\n"
     ]
    },
    {
     "name": "stdout",
     "output_type": "stream",
     "text": [
      "First name--> Cheryl\n",
      "Full name--> Cheryl Watson\n",
      "Experience --> 0\n",
      "Designation--> []\n",
      "Education--> []\n",
      "Email--> ['anyanwubabauche@gmail.com']\n",
      "Skills--> ['certificate', 'engineering', 'electrical engineering', 'deployment', 'software', 'wireless network', 'testing', 'network architecture', 'router', 'box', 'server', 'ethernet', 'business', 'database', 'support', 'mobile']\n",
      "Phone number--> (872) 235-5995\n"
     ]
    },
    {
     "name": "stderr",
     "output_type": "stream",
     "text": [
      "ERROR:root:correct_year() missing 1 required positional argument: 'text'\n"
     ]
    },
    {
     "name": "stdout",
     "output_type": "stream",
     "text": [
      "First name--> Emmanuel\n",
      "Full name--> Emmanuel Uche\n",
      "Experience --> 0\n",
      "Designation--> []\n",
      "Education--> []\n",
      "Email--> ['valikhan412@gmail.com']\n",
      "Skills--> ['terraform', 'windows', 'operating system', 'python', 'engineering', 'high availability', 'bamboo', 'software', 'oracle', 'databases', 'box', 'ethernet', 'server', 'documentation', 'chef', 'web server', 'database', 'source code', 'support', 'beanstalk', 'spring boot', 'cloud foundry', 'monitoring', 'framework', 'tower', 'new relic', 'deployment', 'languages', 'design', 'testing', 'devops', 'bash', 'openstack', 'linux', 'openshift', 'mysql', 'release', 'git', 'vagrant', 'kubernetes', 'access control', 'javascript', 'web servers', 'access network', 'utilities', 'file system', 'centos', 'security', 'perl', 'ansible', 'bitbucket', 'continuous integration', 'docker swarm', 'wireless network', 'data analysis', 'ruby', 'docker', 'shell', 'operating systems']\n",
      "Phone number--> 872-760-3334\n",
      "First name--> Valiullah\n"
     ]
    },
    {
     "name": "stderr",
     "output_type": "stream",
     "text": [
      "ERROR:root:'NoneType' object has no attribute 'group'\n"
     ]
    },
    {
     "name": "stdout",
     "output_type": "stream",
     "text": [
      "Full name--> Valiullah Khan\n",
      "\n",
      "Email\n",
      "Experience --> 0\n",
      "Designation--> []\n",
      "Education--> ['MS']\n",
      "Email--> []\n",
      "Skills--> ['windows', 'operating system', 'code review', 'software', 'debugging', 'server', 'documentation', 'virtual machine', 'mobile', 'deployment', 'jenkins', 'design', 'testing', 'nginx', 'devops', 'linux', 'minecraft', 'debian', 'telecommunications', 'ubuntu', 'centos', 'security', 'fedora', 'encryption', 'ansible', 'data center', 'continuous integration', 'shell', 'docker', 'operating systems']\n",
      "Phone number--> \n"
     ]
    },
    {
     "name": "stderr",
     "output_type": "stream",
     "text": [
      "ERROR:root:correct_year() missing 1 required positional argument: 'text'\n"
     ]
    },
    {
     "name": "stdout",
     "output_type": "stream",
     "text": [
      "First name--> Certified Linux Network\n",
      "Full name--> A Z  \n",
      "Experience --> 0\n",
      "Designation--> []\n",
      "Education--> ['x']\n",
      "Email--> None\n",
      "Skills--> None\n",
      "Phone number--> \n",
      "First name--> None\n",
      "Full name--> None\n",
      "Experience --> None\n",
      "Designation--> None\n",
      "Education--> None\n",
      "Email--> ['as@auburn.edu']\n",
      "Skills--> ['windows', 'python', 'engineering', 'software', 'commerce', 'server', 'documentation', 'github', 'fusion', 'design', 'testing', 'business', 'markdown', 'bash', 'linux', 'git', 'javascript', 'computer science', 'ubuntu', 'security', 'jquery']\n",
      "Phone number--> 334-399-2285\n",
      "First name--> Kyle\n"
     ]
    },
    {
     "name": "stderr",
     "output_type": "stream",
     "text": [
      "ERROR:root:correct_year() missing 1 required positional argument: 'text'\n"
     ]
    },
    {
     "name": "stdout",
     "output_type": "stream",
     "text": [
      "Full name--> Kyle Ash Searle\n",
      "Experience --> 0\n",
      "Designation--> []\n",
      "Education--> []\n"
     ]
    },
    {
     "name": "stderr",
     "output_type": "stream",
     "text": [
      "WARNING:PyPDF2._reader:Xref table not zero-indexed. ID numbers for objects will be corrected.\n"
     ]
    },
    {
     "name": "stdout",
     "output_type": "stream",
     "text": [
      "Email--> ['joshua.yoak@mail.comWWW.LinkedIn.Com']\n"
     ]
    },
    {
     "name": "stderr",
     "output_type": "stream",
     "text": [
      "ERROR:root:'NoneType' object has no attribute 'group'\n"
     ]
    },
    {
     "name": "stdout",
     "output_type": "stream",
     "text": [
      "Skills--> ['knowledge base', 'publishing', 'project management']\n",
      "Phone number--> 2020162\n",
      "First name--> Joshua\n",
      "Full name--> Joshua Yoak\n",
      "Experience --> 0\n",
      "Designation--> []\n",
      "Education--> []\n",
      "Email--> ['Lstegall34@yahoo.com']\n",
      "Skills--> ['microcomputer', 'windows', 'communications', 'software', 'authentication', 'terminal', 'testing', 'server', 'security', 'support', 'computer network', 'vmware vsphere', 'accounting']\n",
      "Phone number--> (847) 340-5649\n"
     ]
    },
    {
     "name": "stderr",
     "output_type": "stream",
     "text": [
      "ERROR:root:'NoneType' object has no attribute 'group'\n"
     ]
    },
    {
     "name": "stdout",
     "output_type": "stream",
     "text": [
      "First name--> LARRY\n",
      "Full name--> LARRY L. STEGALL\n",
      "Experience --> 0\n",
      "Designation--> []\n",
      "Education--> []\n",
      "Email--> ['MichaelTColbert@gmail.com', 'MichaelTColbert@gmail.com', 'MichaelTColbert@gmail.com', 'MichaelTColbert@gmail.com', 'MichaelTColbert@gmail.com', 'MichaelTColbert@gmail.com', 'MichaelTColbert@gmail.com']\n",
      "Skills--> ['windows', 'engineering', 'software', 'authentication', 'network security', 'mode', 'server', 'documentation', 'database', 'support', 'collaboration', 'mobile', 'network topology', 'wireless', 'android', 'libraries', 'fault tolerance', 'testing', 'business', 'linux', 'ios', 'schedule', 'ubuntu', 'file system', 'security', 'help desk', 'google', 'internet of things', 'operating systems']\n",
      "Phone number--> (773) 504-8301\n",
      "First name--> Autonomy\n"
     ]
    },
    {
     "name": "stderr",
     "output_type": "stream",
     "text": [
      "ERROR:root:correct_year() missing 1 required positional argument: 'text'\n"
     ]
    },
    {
     "name": "stdout",
     "output_type": "stream",
     "text": [
      "Full name--> Michael T.  \n",
      "Experience --> 0\n",
      "Designation--> []\n",
      "Education--> ['Me']\n",
      "Email--> ['marc.morrell@gmail.com']\n",
      "Skills--> ['communications', 'release', 'framework', 'software', 'business', 'project management', 'support']\n",
      "Phone number--> 267-968-6506\n"
     ]
    },
    {
     "name": "stderr",
     "output_type": "stream",
     "text": [
      "ERROR:root:correct_year() missing 1 required positional argument: 'text'\n"
     ]
    },
    {
     "name": "stdout",
     "output_type": "stream",
     "text": [
      "First name--> Marc\n",
      "Full name--> Marc Morrell\n",
      "\n",
      "Experience --> 0\n"
     ]
    },
    {
     "name": "stderr",
     "output_type": "stream",
     "text": [
      "WARNING:PyPDF2._reader:Superfluous whitespace found in object header b'1' b'0'\n"
     ]
    },
    {
     "name": "stdout",
     "output_type": "stream",
     "text": [
      "Designation--> []\n",
      "Education--> []\n"
     ]
    },
    {
     "name": "stderr",
     "output_type": "stream",
     "text": [
      "WARNING:PyPDF2._reader:Superfluous whitespace found in object header b'2' b'0'\n",
      "WARNING:PyPDF2._reader:Superfluous whitespace found in object header b'3' b'0'\n",
      "WARNING:PyPDF2._reader:Superfluous whitespace found in object header b'139' b'0'\n",
      "WARNING:PyPDF2._reader:Superfluous whitespace found in object header b'138' b'0'\n",
      "WARNING:PyPDF2._reader:Superfluous whitespace found in object header b'11' b'0'\n",
      "WARNING:PyPDF2._reader:Superfluous whitespace found in object header b'10' b'0'\n",
      "WARNING:PyPDF2._reader:Superfluous whitespace found in object header b'9' b'0'\n",
      "WARNING:PyPDF2._reader:Superfluous whitespace found in object header b'90' b'0'\n",
      "WARNING:PyPDF2._reader:Superfluous whitespace found in object header b'89' b'0'\n",
      "WARNING:PyPDF2._reader:Superfluous whitespace found in object header b'88' b'0'\n",
      "WARNING:PyPDF2._reader:Superfluous whitespace found in object header b'98' b'0'\n",
      "WARNING:PyPDF2._reader:Superfluous whitespace found in object header b'97' b'0'\n",
      "WARNING:PyPDF2._reader:Superfluous whitespace found in object header b'96' b'0'\n",
      "WARNING:PyPDF2._reader:Superfluous whitespace found in object header b'106' b'0'\n",
      "WARNING:PyPDF2._reader:Superfluous whitespace found in object header b'105' b'0'\n",
      "WARNING:PyPDF2._reader:Superfluous whitespace found in object header b'104' b'0'\n",
      "WARNING:PyPDF2._reader:Superfluous whitespace found in object header b'114' b'0'\n",
      "WARNING:PyPDF2._reader:Superfluous whitespace found in object header b'113' b'0'\n",
      "WARNING:PyPDF2._reader:Superfluous whitespace found in object header b'112' b'0'\n",
      "WARNING:PyPDF2._reader:Superfluous whitespace found in object header b'136' b'0'\n",
      "WARNING:PyPDF2._reader:Superfluous whitespace found in object header b'135' b'0'\n",
      "WARNING:PyPDF2._reader:Superfluous whitespace found in object header b'134' b'0'\n",
      "WARNING:PyPDF2._reader:Superfluous whitespace found in object header b'19' b'0'\n",
      "WARNING:PyPDF2._reader:Superfluous whitespace found in object header b'18' b'0'\n",
      "WARNING:PyPDF2._reader:Superfluous whitespace found in object header b'17' b'0'\n",
      "WARNING:PyPDF2._reader:Superfluous whitespace found in object header b'27' b'0'\n",
      "WARNING:PyPDF2._reader:Superfluous whitespace found in object header b'26' b'0'\n",
      "WARNING:PyPDF2._reader:Superfluous whitespace found in object header b'25' b'0'\n",
      "WARNING:PyPDF2._reader:Superfluous whitespace found in object header b'35' b'0'\n",
      "WARNING:PyPDF2._reader:Superfluous whitespace found in object header b'34' b'0'\n",
      "WARNING:PyPDF2._reader:Superfluous whitespace found in object header b'33' b'0'\n",
      "WARNING:PyPDF2._reader:Superfluous whitespace found in object header b'43' b'0'\n",
      "WARNING:PyPDF2._reader:Superfluous whitespace found in object header b'42' b'0'\n",
      "WARNING:PyPDF2._reader:Superfluous whitespace found in object header b'41' b'0'\n",
      "WARNING:PyPDF2._reader:Superfluous whitespace found in object header b'51' b'0'\n",
      "WARNING:PyPDF2._reader:Superfluous whitespace found in object header b'50' b'0'\n",
      "WARNING:PyPDF2._reader:Superfluous whitespace found in object header b'49' b'0'\n",
      "WARNING:PyPDF2._reader:Superfluous whitespace found in object header b'59' b'0'\n",
      "WARNING:PyPDF2._reader:Superfluous whitespace found in object header b'58' b'0'\n",
      "WARNING:PyPDF2._reader:Superfluous whitespace found in object header b'57' b'0'\n",
      "WARNING:PyPDF2._reader:Superfluous whitespace found in object header b'74' b'0'\n",
      "WARNING:PyPDF2._reader:Superfluous whitespace found in object header b'73' b'0'\n",
      "WARNING:PyPDF2._reader:Superfluous whitespace found in object header b'72' b'0'\n",
      "WARNING:PyPDF2._reader:Superfluous whitespace found in object header b'82' b'0'\n",
      "WARNING:PyPDF2._reader:Superfluous whitespace found in object header b'81' b'0'\n",
      "WARNING:PyPDF2._reader:Superfluous whitespace found in object header b'80' b'0'\n",
      "WARNING:PyPDF2._reader:Superfluous whitespace found in object header b'137' b'0'\n",
      "WARNING:PyPDF2._reader:Superfluous whitespace found in object header b'156' b'0'\n",
      "WARNING:PyPDF2._reader:Superfluous whitespace found in object header b'147' b'0'\n",
      "WARNING:PyPDF2._reader:Superfluous whitespace found in object header b'146' b'0'\n",
      "WARNING:PyPDF2._reader:Superfluous whitespace found in object header b'145' b'0'\n",
      "WARNING:PyPDF2._reader:Superfluous whitespace found in object header b'155' b'0'\n"
     ]
    },
    {
     "name": "stdout",
     "output_type": "stream",
     "text": [
      "Email--> ['private_lee@yahoo.com']\n",
      "Skills--> ['windows', 'certificate', 'computer science', 'linux', 'business', 'support', 'biomedical engineering', 'resource allocation']\n",
      "Phone number--> 720-810-0124\n",
      "First name--> Richard\n"
     ]
    },
    {
     "name": "stderr",
     "output_type": "stream",
     "text": [
      "ERROR:root:'NoneType' object has no attribute 'group'\n"
     ]
    },
    {
     "name": "stdout",
     "output_type": "stream",
     "text": [
      "Full name--> Richard Lee\n",
      "Experience --> 0\n",
      "Designation--> []\n",
      "Education--> None\n",
      "Email--> ['gjh117@gmail.com', 'Greg.Harris4@icloud.com']\n",
      "Skills--> ['java', 'windows', 'framework', 'support', 'software', 'raspberry pi', 'publishing', 'languages', 'design', 'visual studio', 'computer science', 'server', 'data processing', 'business administration', 'linux', 'help desk']\n",
      "Phone number--> 630-708-0394\n",
      "First name--> Applications\n"
     ]
    },
    {
     "name": "stderr",
     "output_type": "stream",
     "text": [
      "ERROR:root:'NoneType' object has no attribute 'group'\n"
     ]
    },
    {
     "name": "stdout",
     "output_type": "stream",
     "text": [
      "Full name--> Greg Harris                                                             \n",
      "Experience --> 0\n",
      "Designation--> []\n",
      "Education--> []\n",
      "Email--> []\n",
      "Skills--> ['windows', 'operating system', 'software', 'server', 'project management', 'database', 'support', 'terminal', 'android', 'design', 'testing', 'certificate', 'library', 'security', 'material', 'data center', 'google', 'g suite', 'operating systems']\n",
      "Phone number--> 618-570-2020\n"
     ]
    },
    {
     "name": "stderr",
     "output_type": "stream",
     "text": [
      "ERROR:root:correct_year() missing 1 required positional argument: 'text'\n"
     ]
    },
    {
     "name": "stdout",
     "output_type": "stream",
     "text": [
      "First name--> Bethel Road\n",
      "Full name--> 247\n",
      "Experience --> 0\n",
      "Designation--> []\n",
      "Education--> ['MS']\n",
      "Email--> ['Oneghengis@gmail.com']\n",
      "Skills--> ['windows', 'communications', 'engineering', 'buffer', 'software', 'databases', 'ethernet', 'server', 'documentation', 'project management', 'database', 'support', 'wireless', 'terminal', 'mobile', 'monitoring', 'tower', 'fusion', 'deployment', 'design', 'telephony', 'testing', 'slack', 'business', 'unity', 'access control', 'schedule', 'telecommunications', 'materialize', 'throughput', 'relay', 'utilities', 'material', 'security', 'network management', 'payments', 'router', 'line of sight', 'operating systems', 'workflow', 'conductor']\n",
      "Phone number--> \n",
      "First name--> Ghengis\n"
     ]
    },
    {
     "name": "stderr",
     "output_type": "stream",
     "text": [
      "ERROR:root:correct_year() missing 1 required positional argument: 'text'\n"
     ]
    },
    {
     "name": "stdout",
     "output_type": "stream",
     "text": [
      "Full name--> 30 years of Technical\n",
      "Experience --> 0\n",
      "Designation--> []\n",
      "Education--> ['Be']\n",
      "Email--> ['johnfcaso@gmail.com', 'johnfcaso@gmail.com']\n",
      "Skills--> ['component', 'engineering', 'schedule', 'support']\n",
      "Phone number--> (303)808-3179\n",
      "First name--> John\n"
     ]
    },
    {
     "name": "stderr",
     "output_type": "stream",
     "text": [
      "ERROR:root:'NoneType' object has no attribute 'group'\n"
     ]
    },
    {
     "name": "stdout",
     "output_type": "stream",
     "text": [
      "Full name--> John Caso\n",
      "Experience --> 0\n",
      "Designation--> []\n",
      "Education--> []\n",
      "Email--> ['geffrey.braun@gmail.com']\n",
      "Skills--> ['windows', 'communications', 'engineering', 'software', 'visual basic', 'oracle', 'databases', 'server', 'database', 'support', 'terminal', 'accounting', 'monitoring', 'libraries', 'database design', 'computer programming', 'visual studio', 'languages', 'scanner', 'design', 'linux', 'vmware vsphere', 'data extraction', 'front end', 'security', 'help desk', 'peer to peer', 'data center', 'data processing', 'marketing']\n",
      "Phone number--> (805) 807-2150\n"
     ]
    },
    {
     "name": "stderr",
     "output_type": "stream",
     "text": [
      "ERROR:root:'NoneType' object has no attribute 'group'\n"
     ]
    },
    {
     "name": "stdout",
     "output_type": "stream",
     "text": [
      "First name--> Geffrey\n",
      "Full name--> Geffrey W. Braun\n",
      "Experience --> 0\n",
      "Designation--> []\n",
      "Education--> ['MS']\n",
      "Email--> ['Gill.akhtar@outlook.com']\n",
      "Skills--> ['queue', 'windows', 'operating system', 'virtualbox', 'high availability', 'software', 'oracle', 'databases', 'ethernet', 'business process', 'server', 'chef', 'azure', 'project management', 'database', 'support', 'virtual machine', 'monitoring', 'operating systems', 'design', 'rotation', 'testing', 'devops', 'bash', 'confluence', 'continuous deployment', 'linux', 'mysql', 'git', 'kubernetes', 'schedule', 'web servers', 'ubuntu', 'file system', 'centos', 'security', 'ansible', 'continuous integration', 'data center', 'bitbucket', 'java', 'amazon web services', 'router', 'docker', 'shell', 'performance monitoring', 'source code', 'github', 'workflow']\n",
      "Phone number--> \n",
      "First name--> Akhtar\n"
     ]
    },
    {
     "name": "stderr",
     "output_type": "stream",
     "text": [
      "ERROR:root:'NoneType' object has no attribute 'group'\n"
     ]
    },
    {
     "name": "stdout",
     "output_type": "stream",
     "text": [
      "Full name--> 9+ Years\n",
      "Experience --> 0\n",
      "Designation--> []\n",
      "Education--> []\n",
      "Email--> ['mark.mccully@gmail.com']\n",
      "Skills--> ['windows', 'communications', 'engineering', 'high availability', 'server', 'database', 'azure', 'support', 'cloud foundry', 'monitoring', 'decision support system', 'framework', 'design', 'business', 'devops', 'vmware vsphere', 'ai', 'hadoop', 'encryption', 'security', 'help desk', 'data center', 'ansible', 'ml', 'analytics']\n",
      "Phone number--> 630-272-0543\n"
     ]
    },
    {
     "name": "stderr",
     "output_type": "stream",
     "text": [
      "ERROR:root:'NoneType' object has no attribute 'group'\n"
     ]
    },
    {
     "name": "stdout",
     "output_type": "stream",
     "text": [
      "First name--> Mark\n",
      "Full name--> Mark McCully\n",
      "Experience --> 0\n",
      "Designation--> []\n",
      "Education--> []\n",
      "Email--> []\n",
      "Skills--> ['engineering', 'mechanical engineering']\n",
      "Phone number--> \n",
      "First name--> Work\n",
      "Full name--> Mechanical Engineering Technician \n",
      "Cytomation\n",
      "Experience --> None\n",
      "Designation--> []\n",
      "Education--> []\n",
      "Email--> ['sparamesha@hawk.iit.edu']\n",
      "Skills--> ['monitoring', 'python', 'engineering', 'collision', 'wireless', 'design', 'signal strength', 'linux']\n",
      "Phone number--> (872)  600-1881\n",
      "First name--> Matlab\n"
     ]
    },
    {
     "name": "stderr",
     "output_type": "stream",
     "text": [
      "ERROR:root:correct_year() missing 1 required positional argument: 'text'\n"
     ]
    },
    {
     "name": "stdout",
     "output_type": "stream",
     "text": [
      "Full name--> 872\n",
      "Experience --> 0\n",
      "Designation--> []\n",
      "Education--> []\n",
      "Email--> ['kskalber@mix.wvu.edu']\n"
     ]
    },
    {
     "name": "stderr",
     "output_type": "stream",
     "text": [
      "ERROR:root:correct_year() missing 1 required positional argument: 'text'\n"
     ]
    },
    {
     "name": "stdout",
     "output_type": "stream",
     "text": [
      "Skills--> ['engineering', 'software', 'visual basic', 'languages', 'systems engineering', 'discrete event simulation', 'manufacturing engineering']\n",
      "Phone number--> (276) 239-0655\n",
      "First name--> Karl\n",
      "Full name--> Karl S. Kalber\n",
      "Experience --> 0\n",
      "Designation--> []\n",
      "Education--> []\n",
      "Email--> []\n",
      "Skills--> ['operating system', 'communications', 'engineering', 'process engineering', 'design', 'schedule', 'component', 'medium', 'project management', 'documentation', 'material', 'support', 'specification']\n",
      "Phone number--> 719-358-6008\n"
     ]
    },
    {
     "name": "stderr",
     "output_type": "stream",
     "text": [
      "ERROR:root:'NoneType' object has no attribute 'group'\n"
     ]
    },
    {
     "name": "stdout",
     "output_type": "stream",
     "text": [
      "First name--> William\n",
      "Full name--> William Van Syckel\n",
      "Experience --> 0\n",
      "Designation--> []\n",
      "Education--> None\n",
      "Email--> ['Aniwaya93@gmail.com']\n",
      "Skills--> ['engineering', 'software', 'airflow', 'documentation', 'business', 'security', 'support']\n",
      "Phone number--> 618 641 7286\n",
      "First name--> Niles\n"
     ]
    },
    {
     "name": "stderr",
     "output_type": "stream",
     "text": [
      "ERROR:root:correct_year() missing 1 required positional argument: 'text'\n"
     ]
    },
    {
     "name": "stdout",
     "output_type": "stream",
     "text": [
      "Full name--> Niles Bell\n",
      "Collinsville\n",
      "Experience --> 0\n"
     ]
    },
    {
     "name": "stderr",
     "output_type": "stream",
     "text": [
      "WARNING:PyPDF2._reader:Superfluous whitespace found in object header b'1' b'0'\n",
      "WARNING:PyPDF2._reader:Superfluous whitespace found in object header b'2' b'0'\n",
      "WARNING:PyPDF2._reader:Superfluous whitespace found in object header b'3' b'0'\n",
      "WARNING:PyPDF2._reader:Superfluous whitespace found in object header b'46' b'0'\n",
      "WARNING:PyPDF2._reader:Superfluous whitespace found in object header b'57' b'0'\n",
      "WARNING:PyPDF2._reader:Superfluous whitespace found in object header b'45' b'0'\n",
      "WARNING:PyPDF2._reader:Superfluous whitespace found in object header b'11' b'0'\n",
      "WARNING:PyPDF2._reader:Superfluous whitespace found in object header b'10' b'0'\n",
      "WARNING:PyPDF2._reader:Superfluous whitespace found in object header b'9' b'0'\n",
      "WARNING:PyPDF2._reader:Superfluous whitespace found in object header b'19' b'0'\n",
      "WARNING:PyPDF2._reader:Superfluous whitespace found in object header b'18' b'0'\n",
      "WARNING:PyPDF2._reader:Superfluous whitespace found in object header b'17' b'0'\n",
      "WARNING:PyPDF2._reader:Superfluous whitespace found in object header b'27' b'0'\n",
      "WARNING:PyPDF2._reader:Superfluous whitespace found in object header b'26' b'0'\n",
      "WARNING:PyPDF2._reader:Superfluous whitespace found in object header b'25' b'0'\n",
      "WARNING:PyPDF2._reader:Superfluous whitespace found in object header b'35' b'0'\n",
      "WARNING:PyPDF2._reader:Superfluous whitespace found in object header b'34' b'0'\n",
      "WARNING:PyPDF2._reader:Superfluous whitespace found in object header b'33' b'0'\n"
     ]
    },
    {
     "name": "stdout",
     "output_type": "stream",
     "text": [
      "Designation--> []\n",
      "Education--> []\n"
     ]
    },
    {
     "name": "stderr",
     "output_type": "stream",
     "text": [
      "WARNING:PyPDF2._reader:Superfluous whitespace found in object header b'43' b'0'\n",
      "WARNING:PyPDF2._reader:Superfluous whitespace found in object header b'42' b'0'\n",
      "WARNING:PyPDF2._reader:Superfluous whitespace found in object header b'41' b'0'\n",
      "WARNING:PyPDF2._reader:Superfluous whitespace found in object header b'44' b'0'\n",
      "WARNING:PyPDF2._reader:Superfluous whitespace found in object header b'56' b'0'\n",
      "WARNING:PyPDF2._reader:Superfluous whitespace found in object header b'54' b'0'\n",
      "WARNING:PyPDF2._reader:Superfluous whitespace found in object header b'53' b'0'\n",
      "WARNING:PyPDF2._reader:Superfluous whitespace found in object header b'52' b'0'\n",
      "WARNING:PyPDF2._reader:Superfluous whitespace found in object header b'55' b'0'\n",
      "WARNING:PyPDF2._reader:Superfluous whitespace found in object header b'59' b'0'\n",
      "WARNING:PyPDF2._reader:Superfluous whitespace found in object header b'58' b'0'\n"
     ]
    },
    {
     "name": "stdout",
     "output_type": "stream",
     "text": [
      "Email--> ['JWJW1998@gmail.com']\n",
      "Skills--> ['monitoring', 'windows', 'certificate', 'deployment', 'wireless', 'publishing', 'rotation', 'time tracking', 'server', 'medium', 'business', 'azure', 'security', 'support', 'material']\n",
      "Phone number--> (309) 453-8712\n",
      "First name--> Jason Whittaker\n"
     ]
    },
    {
     "name": "stderr",
     "output_type": "stream",
     "text": [
      "ERROR:root:correct_year() missing 1 required positional argument: 'text'\n"
     ]
    },
    {
     "name": "stdout",
     "output_type": "stream",
     "text": [
      "Full name--> Jason Whittaker\n",
      "Experience --> 0\n",
      "Designation--> []\n",
      "Education--> []\n",
      "Email--> ['zamananika18@gmail.com']\n",
      "Skills--> ['windows', 'adobe photoshop', 'software', 'commerce', 'server', 'documentation', 'database', 'mobile', 'collaboration', 'framework', 'visual studio', 'languages', 'design', 'testing', 'business', 'confluence', 'agile project management', 'linux', 'release', 'javascript', 'content management', 'google', 'shopify', 'amazon web services', 'adobe illustrator', 'selenium', 'magento', 'operating systems', 'workflow']\n",
      "Phone number--> (571) 399-6557\n"
     ]
    },
    {
     "name": "stderr",
     "output_type": "stream",
     "text": [
      "ERROR:root:correct_year() missing 1 required positional argument: 'text'\n"
     ]
    },
    {
     "name": "stdout",
     "output_type": "stream",
     "text": [
      "First name--> San Francisco\n",
      "Full name--> 571\n",
      "Experience --> 0\n",
      "Designation--> []\n",
      "Education--> ['MS']\n",
      "Email--> ['satheesh.hingoli@gmail.com']\n",
      "Skills--> ['domain knowledge', 'operating system', 'windows', 'engineering', 'software', 'oracle', 'databases', 'business process', 'server', 'debugging', 'documentation', 'project management', 'database', 'microsoft sql server', 'support', 'mobile', 'devise', 'marketing', 'collaboration', 'aws elastic beanstalk', 'database design', 'framework', 'angular', 'deployment', 'visual studio', 'design', 'testing', 'business', 'confluence', 'code quality', 'linux', 'ecommerce', 'mysql', 'front end', 'release', 'git', 'knowledge management', 'node js', 'javascript', 'web servers', 'content management', 'web forms', 'material', 'security', 'knowledge base', 'computer engineering', 'data analysis', 'eclipse', 'analytics', 'postman', 'jquery', 'specification']\n",
      "Phone number--> (714)866-8616\n",
      "First name--> Module Lead\n"
     ]
    },
    {
     "name": "stderr",
     "output_type": "stream",
     "text": [
      "ERROR:root:correct_year() missing 1 required positional argument: 'text'\n"
     ]
    },
    {
     "name": "stdout",
     "output_type": "stream",
     "text": [
      "Full name--> KUMAR HINGOLI\n",
      "Experience --> 0\n",
      "Designation--> []\n",
      "Education--> None\n",
      "Email--> ['baresume1990@gmail.com']\n",
      "Skills--> ['domain knowledge', 'operating system', 'windows', 'engineering', 'software', 'databases', 'debugging', 'server', 'documentation', 'project management', 'database', 'microsoft sql server', 'data modeling', 'support', 'mobile', 'devise', 'marketing', 'collaboration', 'aws elastic beanstalk', 'database design', 'deployment', 'visual studio', 'languages', 'design', 'testing', 'business', 'confluence', 'code quality', 'linux', 'ecommerce', 'mysql', 'front end', 'release', 'data quality', 'git', 'node js', 'knowledge management', 'javascript', 'web servers', 'content management', 'web forms', 'material', 'security', 'query optimization', 'java', 'knowledge base', 'computer engineering', 'data analysis', 'eclipse', 'analytics', 'postman', 'jquery', 'specification']\n",
      "Phone number--> 724-631-4516\n",
      "First name--> Module Lead\n"
     ]
    },
    {
     "name": "stderr",
     "output_type": "stream",
     "text": [
      "ERROR:root:correct_year() missing 1 required positional argument: 'text'\n"
     ]
    },
    {
     "name": "stdout",
     "output_type": "stream",
     "text": [
      "Full name--> 724\n",
      "Experience --> 0\n",
      "Designation--> []\n",
      "Education--> None\n",
      "Email--> ['3@gmail.com']\n",
      "Skills--> ['engineering', 'software', 'programming language', 'documentation', 'project management', 'azure', 'support', 'mobile', 'handover', 'monitoring', 'framework', 'testing', 'business', 'devops', 'confluence', 'release', 'javascript', 'computer science', 'drupal', 'security', 'user interface', 'performance monitoring']\n",
      "Phone number--> 217-220-7462\n",
      "First name--> Microsoft Certified\n",
      "Full name--> 217\n",
      "Experience --> None\n",
      "Designation--> []\n",
      "Education--> []\n",
      "Email--> []\n",
      "Skills--> ['software', 'shippable', 'server', 'documentation', 'project management', 'support', 'collaboration', 'mobile', 'framework', 'design', 'testing', 'digital signature', 'business', 'ecommerce', 'functional testing', 'release', 'schedule', 'security', 'continuous integration', 'publishing', 'analytics']\n",
      "Phone number--> 281-673-9958\n",
      "First name--> Scrum\n"
     ]
    },
    {
     "name": "stderr",
     "output_type": "stream",
     "text": [
      "ERROR:root:'NoneType' object has no attribute 'group'\n"
     ]
    },
    {
     "name": "stdout",
     "output_type": "stream",
     "text": [
      "Full name--> RAJIB AHMED\n",
      "Experience --> 0\n",
      "Designation--> []\n",
      "Education--> []\n",
      "Email--> ['njitinoumbano@gmail.com']\n",
      "Skills--> ['middleware', 'engineering', 'software engineering', 'code review', 'software', 'server', 'documentation', 'project management', 'database', 'system testing', 'support', 'mobile', 'collaboration', 'variables', 'accounting', 'tableau', 'deployment', 'design', 'testing', 'devops', 'business', 'confluence', 'continuous deployment', 'data retrieval', 'release', 'synchronization', 'security', 'business administration', 'specification', 'google', 'continuous integration', 'finance', 'publishing', 'workflow', 'marketing']\n",
      "Phone number--> 832-571-5903\n"
     ]
    },
    {
     "name": "stderr",
     "output_type": "stream",
     "text": [
      "ERROR:root:correct_year() missing 1 required positional argument: 'text'\n"
     ]
    },
    {
     "name": "stdout",
     "output_type": "stream",
     "text": [
      "First name--> Noumbano\n",
      "Full name--> Noumbano F. Njiti\n",
      "Experience --> 0\n",
      "Designation--> []\n",
      "Education--> []\n",
      "Email--> ['m.asifsid85@gmail.com']\n",
      "Skills--> ['windows', 'interaction', 'software', 'commerce', 'server', 'documentation', 'project management', 'support', 'collaboration', 'framework', 'deployment', 'visual studio', 'languages', 'testing', 'business', 'confluence', 'release', 'schedule', 'javascript', 'skype', 'resource allocation', 'network management', 'finance', 'knowledge base', 'publishing', 'composer', 'shell', 'operating systems', 'specification']\n",
      "Phone number--> \n"
     ]
    },
    {
     "name": "stderr",
     "output_type": "stream",
     "text": [
      "ERROR:root:correct_year() missing 1 required positional argument: 'text'\n"
     ]
    },
    {
     "name": "stdout",
     "output_type": "stream",
     "text": [
      "First name--> Siddiqui New Jersey Email\n",
      "Full name--> Scrum\n",
      "Experience --> 0\n",
      "Designation--> []\n",
      "Education--> ['MS', 'Be']\n"
     ]
    },
    {
     "name": "stderr",
     "output_type": "stream",
     "text": [
      "WARNING:PyPDF2._reader:Superfluous whitespace found in object header b'1' b'0'\n",
      "WARNING:PyPDF2._reader:Superfluous whitespace found in object header b'2' b'0'\n",
      "WARNING:PyPDF2._reader:Superfluous whitespace found in object header b'3' b'0'\n",
      "WARNING:PyPDF2._reader:Superfluous whitespace found in object header b'38' b'0'\n",
      "WARNING:PyPDF2._reader:Superfluous whitespace found in object header b'49' b'0'\n",
      "WARNING:PyPDF2._reader:Superfluous whitespace found in object header b'52' b'0'\n",
      "WARNING:PyPDF2._reader:Superfluous whitespace found in object header b'37' b'0'\n",
      "WARNING:PyPDF2._reader:Superfluous whitespace found in object header b'11' b'0'\n",
      "WARNING:PyPDF2._reader:Superfluous whitespace found in object header b'10' b'0'\n",
      "WARNING:PyPDF2._reader:Superfluous whitespace found in object header b'9' b'0'\n",
      "WARNING:PyPDF2._reader:Superfluous whitespace found in object header b'19' b'0'\n",
      "WARNING:PyPDF2._reader:Superfluous whitespace found in object header b'18' b'0'\n",
      "WARNING:PyPDF2._reader:Superfluous whitespace found in object header b'17' b'0'\n",
      "WARNING:PyPDF2._reader:Superfluous whitespace found in object header b'27' b'0'\n",
      "WARNING:PyPDF2._reader:Superfluous whitespace found in object header b'26' b'0'\n",
      "WARNING:PyPDF2._reader:Superfluous whitespace found in object header b'25' b'0'\n",
      "WARNING:PyPDF2._reader:Superfluous whitespace found in object header b'35' b'0'\n",
      "WARNING:PyPDF2._reader:Superfluous whitespace found in object header b'34' b'0'\n",
      "WARNING:PyPDF2._reader:Superfluous whitespace found in object header b'33' b'0'\n",
      "WARNING:PyPDF2._reader:Superfluous whitespace found in object header b'36' b'0'\n",
      "WARNING:PyPDF2._reader:Superfluous whitespace found in object header b'48' b'0'\n",
      "WARNING:PyPDF2._reader:Superfluous whitespace found in object header b'46' b'0'\n",
      "WARNING:PyPDF2._reader:Superfluous whitespace found in object header b'45' b'0'\n",
      "WARNING:PyPDF2._reader:Superfluous whitespace found in object header b'44' b'0'\n",
      "WARNING:PyPDF2._reader:Superfluous whitespace found in object header b'47' b'0'\n",
      "WARNING:PyPDF2._reader:Superfluous whitespace found in object header b'51' b'0'\n",
      "WARNING:PyPDF2._reader:Superfluous whitespace found in object header b'50' b'0'\n",
      "WARNING:PyPDF2._reader:Superfluous whitespace found in object header b'54' b'0'\n",
      "WARNING:PyPDF2._reader:Superfluous whitespace found in object header b'53' b'0'\n"
     ]
    },
    {
     "name": "stdout",
     "output_type": "stream",
     "text": [
      "Email--> []\n",
      "Skills--> ['windows', 'software', 'business process', 'server', 'microsoft sql server', 'project management', 'database', 'civil engineering', 'documentation', 'support', 'mobile', 'collaboration', 'framework', 'deployment', 'design', 'testing', 'confluence', 'business', 'devops', 'agile project management', 'ios', 'ai', 'mysql', 'release', 'schedule', 'business intelligence', 'library', 'security', 'java', 'google', 'data management', 'workflow']\n",
      "Phone number--> 0708699454\n",
      "First name--> Alex O Olatunde Alex\n"
     ]
    },
    {
     "name": "stderr",
     "output_type": "stream",
     "text": [
      "ERROR:root:'NoneType' object has no attribute 'end'\n"
     ]
    },
    {
     "name": "stdout",
     "output_type": "stream",
     "text": [
      "Full name--> ALEX || CSM ||\n",
      "Experience --> 0\n",
      "Designation--> []\n",
      "Education--> ['MS', 'BTech']\n",
      "Email--> ['matthewscraigm@gmail.com']\n"
     ]
    },
    {
     "name": "stderr",
     "output_type": "stream",
     "text": [
      "ERROR:root:'NoneType' object has no attribute 'group'\n"
     ]
    },
    {
     "name": "stdout",
     "output_type": "stream",
     "text": [
      "Skills--> ['windows', 'response time', 'server', 'mobile', 'security', 'support', 'ios', 'help desk', 'marketing']\n",
      "Phone number--> (203) 275-9532\n",
      "First name--> Craig\n",
      "Full name--> Craig Matthews\n",
      "Experience --> 0\n",
      "Designation--> []\n",
      "Education--> ['X']\n",
      "Email--> ['rdanius15@Gmail.com']\n",
      "Skills--> ['windows', 'engineering', 'software', 'oracle', 'commerce', 'databases', 'box', 'business process', 'server', 'documentation', 'project management', 'microsoft sql server', 'machine learning', 'database', 'support', 'collaboration', 'mobile', 'decision rule', 'marketing', 'accounting', 'monitoring', 'android', 'framework', 'deployment', 'visual studio', 'design', 'testing', 'analytics', 'business', 'devops', 'confluence', 'linux', 'ios', 'functional testing', 'ai', 'biometrics', 'certificate', 'release', 'document management system', 'content management', 'system integration', 'back office', 'time tracking', 'business intelligence', 'security', 'database security', 'diagram', 'data analysis', 'process management', 'microsoft azure', 'eclipse', 'operating systems', 'postman', 'workflow', 'specification']\n",
      "Phone number--> (336) 493-3823\n",
      "First name--> Robyn\n"
     ]
    },
    {
     "name": "stderr",
     "output_type": "stream",
     "text": [
      "ERROR:root:correct_year() missing 1 required positional argument: 'text'\n"
     ]
    },
    {
     "name": "stdout",
     "output_type": "stream",
     "text": [
      "Full name--> 336\n",
      "Experience --> 0\n",
      "Designation--> []\n",
      "Education--> ['MS']\n",
      "Email--> ['patelaakanksha71@gmail.com']\n",
      "Skills--> ['grunt', 'windows', 'gulp', 'workload', 'software engineering', 'react', 'webpack', 'mongodb', 'code review', 'software', 'jquery', 'gitlab', 'box', 'component', 'server', 'documentation', 'npm', 'support', 'collaboration', 'cloud foundry', 'monitoring', 'sass', 'mocha', 'angularjs', 'lodash', 'framework', 'deployment', 'angular', 'design', 'testing', 'heroku', 'business', 'confluence', 'jquery ui', 'ajax', 'bootstrap', 'front end', 'bower', 'release', 'git', 'node js', 'schedule', 'javascript', 'computer science', 'polymer', 'd3 js', 'express js', 'material', 'jasmine', 'user interface', 'bitbucket', 'scalability', 'data model', 'github']\n",
      "Phone number--> 520-445-9936\n"
     ]
    },
    {
     "name": "stderr",
     "output_type": "stream",
     "text": [
      "ERROR:root:correct_year() missing 1 required positional argument: 'text'\n"
     ]
    },
    {
     "name": "stdout",
     "output_type": "stream",
     "text": [
      "First name--> Rich Internet\n",
      "Full name--> Scrum Master /Application\n",
      "Experience --> 0\n",
      "Designation--> []\n",
      "Education--> []\n",
      "Email--> ['phanindra_vemuri@yahoo.com']\n",
      "Skills--> ['queue', 'windows', 'python', 'middleware', 'engineering', 'electrical engineering', 'mongodb', 'junit', 'software', 'oracle', 'groovy', 'box', 'debugging', 'server', 'documentation', 'database', 'support', 'hibernate', 'mobile', 'mocha', 'angularjs', 'framework', 'deployment', 'languages', 'design', 'scanner', 'testing', 'confluence', 'web service', 'business', 'graphite', 'linux', 'biometrics', 'front end', 'git', 'paypal', 'application server', 'metadata', 'javascript', 'fingerprint', 'security', 'spring', 'java', 'publishing', 'ruby', 'eclipse']\n",
      "Phone number--> \n",
      "First name--> Phanindra\n"
     ]
    },
    {
     "name": "stderr",
     "output_type": "stream",
     "text": [
      "ERROR:root:correct_year() missing 1 required positional argument: 'text'\n"
     ]
    },
    {
     "name": "stdout",
     "output_type": "stream",
     "text": [
      "Full name--> Phanindra Vemuri\n",
      "Experience --> 0\n",
      "Designation--> []\n",
      "Education--> []\n",
      "Email--> ['hari.scmaster@gmail.com']\n",
      "Skills--> ['windows', 'operating system', 'python', 'engineering', 'mongodb', 'communications', 'software', 'databases', 'business process', 'server', 'relational database', 'documentation', 'database', 'project management', 'system testing', 'support', 'collaboration', 'monitoring', 'framework', 'deployment', 'languages', 'design', 'comprehension', 'testing', 'slack', 'postgresql', 'business', 'confluence', 'linux', 'ecommerce', 'bootstrap', 'mysql', 'release', 'git', 'javascript', 'content management', 'skype', 'material', 'crystal', 'data warehouse', 'payments', 'data analysis', 'ruby', 'jquery']\n",
      "Phone number--> (908) 818 1763\n",
      "First name--> Krishna\n"
     ]
    },
    {
     "name": "stderr",
     "output_type": "stream",
     "text": [
      "ERROR:root:correct_year() missing 1 required positional argument: 'text'\n"
     ]
    },
    {
     "name": "stdout",
     "output_type": "stream",
     "text": [
      "Full name--> 908\n",
      "Experience --> 0\n",
      "Designation--> []\n",
      "Education--> None\n",
      "Email--> ['chascrummaster@gmail.com']\n",
      "Skills--> ['communications', 'interaction', 'software', 'databases', 'business process', 'server', 'project management', 'support', 'mobile', 'collaboration', 'marketing', 'xamarin', 'tableau', 'framework', 'deployment', 'visualization', 'languages', 'design', 'testing', 'business', 'confluence', 'ios', 'mysql', 'release', 'data quality', 'business intelligence', 'xcode', 'content management', 'security', 'spring', 'diagram', 'java', 'continuous integration', 'finance', 'payments', 'data management', 'shell', 'android studio', 'workflow', 'specification']\n",
      "Phone number--> 469 455 1751\n",
      "First name--> Arora\n"
     ]
    },
    {
     "name": "stderr",
     "output_type": "stream",
     "text": [
      "ERROR:root:correct_year() missing 1 required positional argument: 'text'\n"
     ]
    },
    {
     "name": "stdout",
     "output_type": "stream",
     "text": [
      "Full name--> Chetan Arora\n",
      "Experience --> 0\n",
      "Designation--> []\n",
      "Education--> None\n",
      "Email--> ['JimW@weiskopfconsulting.com']\n",
      "Skills--> ['windows', 'crystal', 'engineering', 'dart', 'software', 'security', 'skype', 'play', 'project management', 'business', 'file system', 'azure', 'support', 'mobile']\n",
      "Phone number--> (847)456-6936\n"
     ]
    },
    {
     "name": "stderr",
     "output_type": "stream",
     "text": [
      "ERROR:root:'NoneType' object has no attribute 'group'\n"
     ]
    },
    {
     "name": "stdout",
     "output_type": "stream",
     "text": [
      "First name--> Jim\n",
      "Full name--> Jim Weiskopf\n",
      "Experience --> 0\n",
      "Designation--> []\n",
      "Education--> []\n",
      "Email--> ['vidhigandhi99@gmail.com']\n",
      "Skills--> ['middleware', 'software engineering', 'engineering', 'software', 'server', 'documentation', 'project management', 'support', 'collaboration', 'mobile', 'monitoring', 'framework', 'visualization', 'languages', 'design', 'testing', 'business', 'confluence', 'agile project management', 'mysql', 'release', 'schedule', 'javascript', 'computer science', 'utilities', 'logstash', 'jquery']\n",
      "Phone number--> (630) 822 5073\n",
      "First name--> Vidhi\n"
     ]
    },
    {
     "name": "stderr",
     "output_type": "stream",
     "text": [
      "ERROR:root:'NoneType' object has no attribute 'end'\n"
     ]
    },
    {
     "name": "stdout",
     "output_type": "stream",
     "text": [
      "Full name--> Vidhi Gandhi\n",
      "Experience --> 0\n",
      "Designation--> []\n",
      "Education--> ['MS', 'Be']\n",
      "Email--> ['Dennis.little.ii@gmail.com', 'daniel.w.sanford@leidos.com', 'jay.w.gardner@leidos.com']\n",
      "Skills--> ['windows', 'certificate', 'communications', 'engineering', 'network management', 'software', 'network security', 'virtual machine management', 'security', 'monitoring tools', 'linux', 'server', 'encryption', 'asynchronous transfer mode', 'support', 'ios', 'telecommunications service']\n",
      "Phone number--> 708-420-5460\n"
     ]
    },
    {
     "name": "stderr",
     "output_type": "stream",
     "text": [
      "ERROR:root:'NoneType' object has no attribute 'end'\n"
     ]
    },
    {
     "name": "stdout",
     "output_type": "stream",
     "text": [
      "First name--> DENNIS\n",
      "Full name--> DENNIS A. LITTLE II\n",
      "Experience --> 0\n",
      "Designation--> []\n",
      "Education--> []\n",
      "Email--> ['kedarkunalm@gmail.com']\n",
      "Skills--> ['unified modeling language', 'windows', 'communications', 'engineering', 'software', 'commerce', 'databases', 'business process', 'server', 'documentation', 'database', 'project management', 'mobile', 'dash', 'deployment', 'languages', 'design', 'testing', 'business', 'confluence', 'conceptual model', 'google analytics', 'information management', 'release', 'git', 'schedule', 'content management', 'computer science', 'system integration', 'material', 'figma', 'security', 'java', 'google', 'crystal', 'bitbucket', 'data analysis', 'magento', 'operating systems', 'postman', 'workflow', 'specification']\n",
      "Phone number--> 9893518809\n",
      "First name--> Airlines\n"
     ]
    },
    {
     "name": "stderr",
     "output_type": "stream",
     "text": [
      "ERROR:root:'NoneType' object has no attribute 'end'\n"
     ]
    },
    {
     "name": "stdout",
     "output_type": "stream",
     "text": [
      "Full name--> US\n",
      "Experience --> 0\n",
      "Designation--> []\n",
      "Education--> None\n",
      "Email--> ['shivdave216@gmail.com']\n",
      "Skills--> ['windows', 'junit', 'communications', 'engineering', 'software', 'oracle', 'databases', 'box', 'server', 'workflow', 'documentation', 'project management', 'system testing', 'database', 'data validation', 'support', 'mobile', 'tracking system', 'chrome', 'android', 'framework', 'appium', 'deployment', 'visual studio', 'languages', 'design', 'testing', 'postman', 'business', 'confluence', 'bash', 'browser testing', 'ios', 'functional testing', 'mysql', 'release', 'graphical user interface', 'git', 'schedule', 'javascript', 'system integration', 'solr', 'correctness', 'security', 'diagram', 'java', 'continuous integration', 'selenium', 'eclipse', 'operating systems', 'emulator', 'cucumber', 'level of detail']\n",
      "Phone number--> 6102031200\n",
      "First name--> Shivani\n"
     ]
    },
    {
     "name": "stderr",
     "output_type": "stream",
     "text": [
      "ERROR:root:correct_year() missing 1 required positional argument: 'text'\n"
     ]
    },
    {
     "name": "stdout",
     "output_type": "stream",
     "text": [
      "Full name--> Shivani K\n",
      "\n",
      "\n",
      "Experience --> 0\n",
      "Designation--> []\n",
      "Education--> ['MS']\n",
      "Email--> []\n",
      "Skills--> ['query language', 'software', 'oracle', 'data exchange', 'documentation', 'project management', 'database', 'support', 'mobile', 'collaboration', 'advertising', 'android', 'data access', 'dash', 'framework', 'google sheets', 'deployment', 'design', 'testing', 'digital signature', 'confluence', 'business', 'ios', 'front end', 'release', 'schedule', 'telecommunications', 'back office', 'sorting', 'time tracking', 'library', 'content management', 'security', 'material', 'surge', 'google', 'amazon web services', 'finance', 'publishing', 'data analysis', 'data management', 'performance monitoring', 'github', 'marketing']\n",
      "Phone number--> 703-832-5007\n",
      "First name--> Shruti\n"
     ]
    },
    {
     "name": "stderr",
     "output_type": "stream",
     "text": [
      "ERROR:root:correct_year() missing 1 required positional argument: 'text'\n"
     ]
    },
    {
     "name": "stdout",
     "output_type": "stream",
     "text": [
      "Full name--> Shruti Kothari\tSr\n",
      "Experience --> 0\n",
      "Designation--> []\n",
      "Education--> ['MS', 'BS']\n",
      "Email--> []\n",
      "Skills--> ['windows', 'engineering', 'software', 'oracle', 'databases', 'business process', 'server', 'relational database', 'documentation', 'database', 'wireless', 'mobile', 'support', 'chrome', 'android', 'tableau', 'dash', 'framework', 'deployment', 'languages', 'design', 'testing', 'analytics', 'business', 'confluence', 'linux', 'ios', 'functional testing', 'mysql', 'data extraction', 'graphical user interface', 'schedule', 'javascript', 'content management', 'system integration', 'diagram', 'finance', 'firefox', 'monitoring tools', 'payments', 'electron', 'data analysis', 'data management', 'operating systems', 'postman', 'workflow', 'specification']\n",
      "Phone number--> \n",
      "First name--> Master\n"
     ]
    },
    {
     "name": "stderr",
     "output_type": "stream",
     "text": [
      "ERROR:root:correct_year() missing 1 required positional argument: 'text'\n"
     ]
    },
    {
     "name": "stdout",
     "output_type": "stream",
     "text": [
      "Full name--> Kevin scott\t\t\t\t\t\t\t\t\t\t\t            \n",
      "Experience --> 0\n",
      "Designation--> []\n",
      "Education--> ['MS']\n",
      "Email--> ['tawanajones10@sbcglobal.net', 'tawanajones10@sbcglobal.net', 'tawanajones10@sbcglobal.net', 'tawanajones10@sbcglobal.net', 'tawanajones10@sbcglobal.net', 'tawanajones10@sbcglobal.net', 'tawanajones10@sbcglobal.net', 'tawanajones10@sbcglobal.net', 'tawanajones10@sbcglobal.net']\n",
      "Skills--> ['workload', 'software', 'business process', 'server', 'documentation', 'project management', 'azure', 'support', 'collaboration', 'mobile', 'accounting', 'monitoring', 'framework', 'testing', 'business', 'confluence', 'release', 'schedule', 'redmine', 'medium', 'material', 'business administration', 'knowledge base', 'payments', 'data management', 'enterprise system', 'marketing']\n",
      "Phone number--> 708.606.2442\n",
      "First name--> Tawana\n"
     ]
    },
    {
     "name": "stderr",
     "output_type": "stream",
     "text": [
      "ERROR:root:correct_year() missing 1 required positional argument: 'text'\n"
     ]
    },
    {
     "name": "stdout",
     "output_type": "stream",
     "text": [
      "Full name--> Tawana Hopkins -Bey-Jones\n",
      "Experience --> 0\n",
      "Designation--> []\n",
      "Education--> ['x', 'MBA']\n",
      "Email--> []\n",
      "Skills--> ['queue', 'windows', 'python', 'communications', 'engineering', 'software', 'oracle', 'databases', 'business process', 'server', 'documentation', 'project management', 'data validation', 'support', 'data modeling', 'monitoring', 'tableau', 'framework', 'deployment', 'languages', 'design', 'testing', 'business', 'agile project management', 'linux', 'release', 'knowledge management', 'business intelligence', 'file system', 'security', 'material', 'diagram', 'continuous integration', 'data analysis', 'process management', 'shell', 'operating systems', 'workflow', 'specification']\n",
      "Phone number--> \n",
      "First name--> Sudha\n"
     ]
    },
    {
     "name": "stderr",
     "output_type": "stream",
     "text": [
      "ERROR:root:correct_year() missing 1 required positional argument: 'text'\n"
     ]
    },
    {
     "name": "stdout",
     "output_type": "stream",
     "text": [
      "Full name--> Sudha\n",
      "Business\n",
      "Experience --> 0\n",
      "Designation--> []\n",
      "Education--> ['MS']\n",
      "Email--> []\n",
      "Skills--> ['windows', 'operating system', 'middleware', 'engineering', 'communications', 'software', 'business process', 'server', 'documentation', 'project management', 'support', 'mobile', 'framework', 'deployment', 'languages', 'design', 'testing', 'devops', 'business', 'confluence', 'platform as a service', 'linux', 'data integration', 'mysql', 'computer hardware', 'information management', 'release', 'metadata', 'telecommunications', 'computer science', 'utilities', 'security', 'resource allocation', 'crystal', 'finance', 'data analysis', 'data management', 'self organization', 'operating systems']\n",
      "Phone number--> \n",
      "First name--> Sarah\n"
     ]
    },
    {
     "name": "stderr",
     "output_type": "stream",
     "text": [
      "ERROR:root:correct_year() missing 1 required positional argument: 'text'\n"
     ]
    },
    {
     "name": "stdout",
     "output_type": "stream",
     "text": [
      "Full name--> Sarah E. Poindexter\n",
      "\n",
      "\n",
      "\n",
      "\n",
      "Experience --> 0\n",
      "Designation--> []\n",
      "Education--> ['MS']\n",
      "Email--> ['sandeep.sanexpert@gmail.com']\n",
      "Skills--> ['windows', 'operating system', 'buffer', 'engineering', 'high availability', 'software', 'mode', 'digital signal processing', 'server', 'digital filter', 'support', 'monitoring', 'libraries', 'amplitude', 'fabric', 'linux', 'command line interface', 'security', 'perl', 'frequency domain', 'data center', 'monitoring tools', 'shell']\n",
      "Phone number--> 203-572-2028\n",
      "First name--> Sandeep\n"
     ]
    },
    {
     "name": "stderr",
     "output_type": "stream",
     "text": [
      "ERROR:root:'NoneType' object has no attribute 'group'\n"
     ]
    },
    {
     "name": "stdout",
     "output_type": "stream",
     "text": [
      "Full name--> Reddy Thaireddy\n",
      "Experience --> 0\n",
      "Designation--> []\n",
      "Education--> ['X']\n",
      "Email--> ['vkkompelli@gmail.com']\n",
      "Skills--> ['systems management', 'software', 'oracle', 'rest api', 'business process', 'server', 'documentation', 'database', 'support', 'marketing', 'monitoring', 'tableau', 'cassandra', 'database design', 'framework', 'angular', 'design', 'slack', 'testing', 'business', 'devops', 'confluence', 'release', 'schedule', 'security', 'issue tracking', 'continuous integration', 'open data', 'data analysis', 'analytics', 'postman', 'specification']\n",
      "Phone number--> 662-276-1115\n",
      "First name--> Vamshi\n"
     ]
    },
    {
     "name": "stderr",
     "output_type": "stream",
     "text": [
      "ERROR:root:'NoneType' object has no attribute 'group'\n"
     ]
    },
    {
     "name": "stdout",
     "output_type": "stream",
     "text": [
      "Full name--> Vamshi Krishna\t\t\t\t\t\n",
      "\n",
      "Irving\n",
      "Experience --> 0\n",
      "Designation--> []\n",
      "Education--> ['MS', 'BTech']\n",
      "Email--> ['johnadams478_rsa@indeedemail.com']\n",
      "Skills--> ['windows', 'communications', 'engineering', 'software engineering', 'interaction', 'software', 'ethernet', 'component', 'documentation', 'wireless', 'multicast', 'support', 'monitoring', 'design', 'telephony', 'testing', 'rotation', 'fabric', 'business', 'linux', 'ios', 'network performance', 'schedule', 'telecommunications', 'wireless network']\n",
      "Phone number--> 314 277 6822\n",
      "First name--> John\n"
     ]
    },
    {
     "name": "stderr",
     "output_type": "stream",
     "text": [
      "ERROR:root:correct_year() missing 1 required positional argument: 'text'\n"
     ]
    },
    {
     "name": "stdout",
     "output_type": "stream",
     "text": [
      "Full name--> John Adams\n",
      "St. Louis\n",
      "Experience --> 0\n",
      "Designation--> []\n",
      "Education--> ['MS']\n",
      "Email--> ['nejads12@gmail.com']\n",
      "Skills--> ['python', 'operating system', 'engineering', 'communications', 'spread spectrum', 'software', 'sketch', 'mode', 'microcontroller', 'server', 'simulation', 'wireless', 'terminal', 'support', 'mobile', 'languages', 'design', 'testing', 'microprocessor', 'business', 'bash', 'arduino', 'linux', 'mysql', 'fortran', 'multimedia', 'schedule', 'telecommunications', 'ubuntu', 'security', 'systems engineering', 'navigation system', 'computation', 'data analysis', 'internet of things', 'marketing', 'rocket', 'conductor']\n",
      "Phone number--> 719-210-9285\n",
      "First name--> Active Secret Clearance\n"
     ]
    },
    {
     "name": "stderr",
     "output_type": "stream",
     "text": [
      "ERROR:root:correct_year() missing 1 required positional argument: 'text'\n"
     ]
    },
    {
     "name": "stdout",
     "output_type": "stream",
     "text": [
      "Full name--> SHAH A. NEJAD\n",
      "Experience --> 0\n",
      "Designation--> []\n",
      "Education--> ['MS', 'X']\n",
      "Email--> ['squalls@wi.rr.com', 'steven_Qualls@hotmail.com']\n",
      "Skills--> ['windows', 'python', 'communications', 'middleware', 'electrical engineering', 'software', 'oracle', 'mode', 'databases', 'vault', 'server', 'documentation', 'microsoft sql server', 'database', 'support', 'mobile', 'terminal', 'monitoring', 'libraries', 'nim', 'framework', 'fault tolerance', 'design', 'testing', 'fabric', 'business', 'unity', 'linux', 'mysql', 'business intelligence', 'library', 'computer science', 'file system', 'perl', 'data center', 'data warehouse']\n",
      "Phone number--> (414) 353-8311\n",
      "First name--> Steven\n"
     ]
    },
    {
     "name": "stderr",
     "output_type": "stream",
     "text": [
      "ERROR:root:correct_year() missing 1 required positional argument: 'text'\n"
     ]
    },
    {
     "name": "stdout",
     "output_type": "stream",
     "text": [
      "Full name--> Steven Qualls\n",
      "Experience --> 0\n",
      "Designation--> []\n",
      "Education--> ['MS']\n",
      "Email--> ['manoj20.kec@gmail.com']\n",
      "Skills--> ['domain knowledge', 'operating system', 'windows', 'engineering', 'communications', 'browserstack', 'workload', 'software', 'oracle', 'databases', 'box', 'business process', 'server', 'documentation', 'project management', 'system testing', 'database', 'support', 'mobile', 'monitoring', 'android', 'languages', 'design', 'testing', 'business', 'confluence', 'embedded system', 'ios', 'functional testing', 'release', 'schedule', 'system integration', 'utilities', 'medium', 'user interface', 'java', 'continuous integration', 'business tools', 'publishing', 'payments', 'data management', 'selenium', 'postman', 'workflow', 'specification']\n",
      "Phone number--> (786) 403 9766\n",
      "First name--> Manoj\n"
     ]
    },
    {
     "name": "stderr",
     "output_type": "stream",
     "text": [
      "ERROR:root:correct_year() missing 1 required positional argument: 'text'\n"
     ]
    },
    {
     "name": "stdout",
     "output_type": "stream",
     "text": [
      "Full name--> Kumar                                                                                                                                                                                    \n",
      "\n",
      "Mobile\n",
      "Experience --> 0\n",
      "Designation--> []\n",
      "Education--> ['MS']\n",
      "Email--> ['analystsubash@gmail.com']\n",
      "Skills--> ['windows', 'software', 'visual basic', 'oracle', 'databases', 'business process', 'server', 'documentation', 'database', 'missing data', 'data validation', 'support', 'collaboration', 'mobile', 'data modeling', 'marketing', 'accounting', 'monitoring', 'tableau', 'visual studio', 'languages', 'design', 'testing', 'analytics', 'business', 'web service', 'functional testing', 'release', 'knowledge management', 'schedule', 'javascript', 'business intelligence', 'system integration', 'security', 'business administration', 'diagram', 'user interface', 'finance', 'data warehouse', 'payments', 'data analysis', 'eclipse', 'operating systems', 'workflow', 'specification']\n",
      "Phone number--> 336-848-7427\n",
      "First name--> Subash\n"
     ]
    },
    {
     "name": "stderr",
     "output_type": "stream",
     "text": [
      "ERROR:root:correct_year() missing 1 required positional argument: 'text'\n"
     ]
    },
    {
     "name": "stdout",
     "output_type": "stream",
     "text": [
      "Full name--> 336\n",
      "Experience --> 0\n",
      "Designation--> []\n",
      "Education--> ['MS']\n",
      "Email--> ['sandrahlewis@yahoo.com']\n",
      "Skills--> ['monitoring', 'communications', 'release', 'framework', 'deployment', 'software', 'data warehouse', 'payments', 'security', 'design', 'testing', 'server', 'documentation', 'project management', 'business', 'hadoop', 'data validation', 'support']\n",
      "Phone number--> 4699644444\n",
      "First name--> Sandra\n",
      "Full name--> Sandra Lewis\n"
     ]
    },
    {
     "name": "stderr",
     "output_type": "stream",
     "text": [
      "ERROR:root:correct_year() missing 1 required positional argument: 'text'\n"
     ]
    },
    {
     "name": "stdout",
     "output_type": "stream",
     "text": [
      "Experience --> 0\n",
      "Designation--> []\n",
      "Education--> ['MS']\n",
      "Email--> ['shossan2018@gmail.com']\n",
      "Skills--> ['windows', 'high availability', 'software', 'commerce', 'mode', 'databases', 'server', 'documentation', 'database', 'support', 'monitoring', 'database design', 'languages', 'design', 'testing', 'data integration', 'sentry', 'business', 'synchronization', 'access control', 'security', 'data warehouse', 'scalability', 'shell', 'performance monitoring', 'operating systems']\n",
      "Phone number--> 203-539-1847\n",
      "First name--> Design Development\n"
     ]
    },
    {
     "name": "stderr",
     "output_type": "stream",
     "text": [
      "ERROR:root:'NoneType' object has no attribute 'group'\n"
     ]
    },
    {
     "name": "stdout",
     "output_type": "stream",
     "text": [
      "Full name--> SAJJAD\n",
      "Experience --> 0\n",
      "Designation--> []\n",
      "Education--> ['MS', 'X']\n",
      "Email--> ['adilfarooqsaudager@gmail.com']\n",
      "Skills--> ['unified modeling language', 'interaction', 'software', 'oracle', 'operations management', 'databases', 'server', 'documentation', 'project management', 'database', 'data modeling', 'support', 'mobile', 'data validation', 'variables', 'accounting', 'monitoring', 'tableau', 'framework', 'deployment', 'design', 'testing', 'business', 'confluence', 'web service', 'devops', 'front end', 'information management', 'release', 'schedule', 'business intelligence', 'encryption', 'security', 'material', 'continuous integration', 'amazon web services', 'data warehouse', 'payments', 'data model', 'postman', 'workflow', 'specification']\n",
      "Phone number--> 424-213-8009\n",
      "First name--> Adil\n"
     ]
    },
    {
     "name": "stderr",
     "output_type": "stream",
     "text": [
      "ERROR:root:correct_year() missing 1 required positional argument: 'text'\n"
     ]
    },
    {
     "name": "stdout",
     "output_type": "stream",
     "text": [
      "Full name--> Adil Farooq Saudager\n",
      "\n",
      "Certified\n",
      "Experience --> 0\n",
      "Designation--> []\n",
      "Education--> ['MS']\n",
      "Email--> ['naveen@itsyntax.com']\n",
      "Skills--> ['windows', 'operating system', 'engineering', 'high availability', 'software', 'oracle', 'mode', 'databases', 'data integrity', 'debugging', 'server', 'microsoft sql server', 'database', 'azure', 'data modeling', 'support', 'monitoring', 'framework', 'visual studio', 'languages', 'design', 'testing', 'sentry', 'business', 'mysql', 'front end', 'distributed database', 'utilities', 'encryption', 'security', 'data compression', 'deadlock', 'database security', 'diagram', 'query optimization', 'java', 'continuous integration', 'data warehouse', 'scalability', 'shell', 'message queue', 'performance monitoring', 'github', 'marketing']\n",
      "Phone number--> 571 595 3158\n",
      "First name--> Sri\n"
     ]
    },
    {
     "name": "stderr",
     "output_type": "stream",
     "text": [
      "ERROR:root:'NoneType' object has no attribute 'group'\n"
     ]
    },
    {
     "name": "stdout",
     "output_type": "stream",
     "text": [
      "Full name--> Sri Lakshmi G\n",
      "\n",
      "Email\n",
      "Experience --> 0\n",
      "Designation--> []\n",
      "Education--> ['MS']\n",
      "Email--> ['nickson@zaidanstaffing.com', 'syed.adil090988@gmail.com']\n",
      "Skills--> ['windows', 'high availability', 'software', 'network security', 'ethernet', 'debugging', 'server', 'documentation', 'wireless', 'multicast', 'mobile', 'support', 'monitoring', 'deployment', 'design', 'wide area network', 'testing', 'nginx', 'fabric', 'quality of service', 'linux', 'ios', 'access control', 'library', 'network architecture', 'relay', 'routing protocol', 'traffic engineering', 'security', 'file system', 'ansible', 'network management', 'local area network', 'router', 'docker', 'operating systems']\n",
      "Phone number--> 3313565347\n",
      "First name--> Phone\n"
     ]
    },
    {
     "name": "stderr",
     "output_type": "stream",
     "text": [
      "ERROR:root:correct_year() missing 1 required positional argument: 'text'\n"
     ]
    },
    {
     "name": "stdout",
     "output_type": "stream",
     "text": [
      "Full name--> nickson@zaidanstaffing.com/ syed.adil090988@gmail.com\n",
      "\n",
      "Work Authorization\n",
      "Experience --> 0\n",
      "Designation--> []\n",
      "Education--> []\n",
      "Email--> ['mrithwikbusiness99@gmail.com']\n",
      "Skills--> ['windows', 'adobe photoshop', 'software', 'oracle', 'databases', 'box', 'business process', 'server', 'relational database', 'documentation', 'database', 'project management', 'data validation', 'support', 'collaboration', 'data acquisition', 'mobile', 'monitoring', 'android', 'tableau', 'framework', 'deployment', 'visual studio', 'design', 'testing', 'analytics', 'business', 'confluence', 'ios', 'mysql', 'front end', 'release', 'robot', 'schedule', 'computer science', 'business intelligence', 'user interface', 'crystal', 'data mining', 'finance', 'data warehouse', 'publishing', 'payments', 'data analysis', 'operating systems', 'workflow', 'specification']\n",
      "Phone number--> 614-219-9428\n",
      "First name--> Rithwik\n"
     ]
    },
    {
     "name": "stderr",
     "output_type": "stream",
     "text": [
      "ERROR:root:correct_year() missing 1 required positional argument: 'text'\n"
     ]
    },
    {
     "name": "stdout",
     "output_type": "stream",
     "text": [
      "Full name--> Rithwik M \n",
      "\n",
      "\t\t\tmrithwikbusiness99@gmail.com\n",
      "Experience --> 0\n",
      "Designation--> []\n",
      "Education--> None\n",
      "Email--> ['adambmaas@gmail.comProfile', 'adambmaas@gmail.comPROFESSIONAL', 'adambmaas@gmail.comTechnology']\n",
      "Skills--> ['data center', 'google', 'framework', 'network management', 'deployment', 'network security', 'wireless', 'commerce', 'design', 'data classification', 'server', 'business', 'azure', 'security', 'ios', 'support', 'collaboration']\n",
      "Phone number--> 309 363 5468\n"
     ]
    },
    {
     "name": "stderr",
     "output_type": "stream",
     "text": [
      "ERROR:root:'NoneType' object has no attribute 'group'\n"
     ]
    },
    {
     "name": "stdout",
     "output_type": "stream",
     "text": [
      "First name--> Adam\n",
      "Full name--> Adam B. Maas Geneseo\n",
      "Experience --> 0\n",
      "Designation--> []\n",
      "Education--> []\n",
      "Email--> ['vanshtrehan@gmail.com']\n",
      "Skills--> ['google', 'framework', 'network management', 'software', 'confluence', 'project management', 'business', 'google analytics', 'agile project management', 'collaboration']\n",
      "Phone number--> 216-309-3001\n"
     ]
    },
    {
     "name": "stderr",
     "output_type": "stream",
     "text": [
      "ERROR:root:correct_year() missing 1 required positional argument: 'text'\n"
     ]
    },
    {
     "name": "stdout",
     "output_type": "stream",
     "text": [
      "First name--> Project Management\n",
      "Full name--> 216\n",
      "Experience --> 0\n",
      "Designation--> []\n",
      "Education--> ['MBA']\n",
      "Email--> ['07akshayprasad@gmail.com']\n",
      "Skills--> ['unified modeling language', 'software', 'shippable', 'databases', 'business process', 'server', 'documentation', 'collaboration', 'chrome', 'monitoring', 'tableau', 'framework', 'deployment', 'design', 'testing', 'business', 'devops', 'confluence', 'continuous deployment', 'functional testing', 'mysql', 'release', 'reverse engineering', 'schedule', 'business intelligence', 'histogram', 'ranking', 'issue tracking', 'continuous integration', 'bitbucket', 'firefox', 'scalability', 'ambiguity', 'process management', 'workflow', 'specification']\n",
      "Phone number--> 469-300-9698\n",
      "First name--> Akshay\n"
     ]
    },
    {
     "name": "stderr",
     "output_type": "stream",
     "text": [
      "ERROR:root:correct_year() missing 1 required positional argument: 'text'\n"
     ]
    },
    {
     "name": "stdout",
     "output_type": "stream",
     "text": [
      "Full name--> Akshay Prasad \n",
      "\n",
      "Scrum Master/BA\n",
      "\n",
      "E-Mail\n",
      "Experience --> 0\n",
      "Designation--> []\n",
      "Education--> ['MS']\n",
      "Email--> ['r.ea.chmeforusacandidates@gmail.com', 'r.ea.chmeforusacandidates@gmail.com']\n",
      "Skills--> ['windows', 'operating system', 'communications', 'engineering', 'python', 'electrical engineering', 'high availability', 'authentication', 'network security', 'ethernet', 'box', 'server', 'documentation', 'database', 'azure', 'support', 'terminal', 'wireless', 'monitoring', 'deployment', 'design', 'rotation', 'fabric', 'business', 'linux', 'ios', 'network performance', 'intrusion detection system', 'access control', 'relay', 'medium', 'routing protocol', 'security', 'data center', 'network management', 'scalability', 'router', 'shell', 'operating systems', 'postman']\n",
      "Phone number--> 732-481-1972\n",
      "First name--> Certified\n"
     ]
    },
    {
     "name": "stderr",
     "output_type": "stream",
     "text": [
      "ERROR:root:correct_year() missing 1 required positional argument: 'text'\n"
     ]
    },
    {
     "name": "stdout",
     "output_type": "stream",
     "text": [
      "Full name--> 1972\n",
      "Experience --> 0\n",
      "Designation--> []\n",
      "Education--> ['MS']\n",
      "Email--> ['urcellesonia@gmail.com']\n",
      "Skills--> ['workload', 'release', 'framework', 'support', 'software', 'devise', 'languages', 'schedule', 'ubuntu', 'throughput', 'documentation', 'project management', 'business', 'confluence', 'analytics', 'linux', 'collaboration', 'chemical engineering']\n",
      "Phone number--> \n"
     ]
    },
    {
     "name": "stderr",
     "output_type": "stream",
     "text": [
      "ERROR:root:correct_year() missing 1 required positional argument: 'text'\n"
     ]
    },
    {
     "name": "stdout",
     "output_type": "stream",
     "text": [
      "First name--> Zebaze Senior Scrum Master U.S.\n",
      "Full name--> Sonia Zebaze\n",
      "Experience --> 0\n",
      "Designation--> []\n",
      "Education--> None\n",
      "Email--> []\n",
      "Skills--> ['certificate', 'finance', 'software', 'design', 'business', 'support', 'workflow', 'advertising', 'accounting']\n",
      "Phone number--> (773)  960 7590\n"
     ]
    },
    {
     "name": "stderr",
     "output_type": "stream",
     "text": [
      "ERROR:root:'NoneType' object has no attribute 'group'\n"
     ]
    },
    {
     "name": "stdout",
     "output_type": "stream",
     "text": [
      "First name--> Hreed13\n",
      "Full name--> 15+ years\n",
      "Experience --> 0\n",
      "Designation--> []\n",
      "Education--> ['MS', 'X']\n",
      "Email--> ['chimaolcode@gmail.com']\n",
      "Skills--> ['release', 'framework', 'software', 'schedule', 'testing', 'business process', 'documentation', 'project management', 'business', 'azure', 'devops', 'support', 'collaboration', 'confluence']\n",
      "Phone number--> 806-382-3712\n"
     ]
    },
    {
     "name": "stderr",
     "output_type": "stream",
     "text": [
      "ERROR:root:correct_year() missing 1 required positional argument: 'text'\n"
     ]
    },
    {
     "name": "stdout",
     "output_type": "stream",
     "text": [
      "First name--> Scrum Master\n",
      "Full name--> CHIMA OZUAH\n",
      "Experience --> 0\n",
      "Designation--> []\n",
      "Education--> []\n",
      "Email--> []\n",
      "Skills--> ['monitoring', 'windows', 'computer hardware', 'systems management', 'cloud storage', 'deployment', 'software', 'network security', 'wireless', 'design', 'schedule', 'server', 'project management', 'business', 'security', 'support', 'help desk', 'marketing']\n",
      "Phone number--> (718)637-0578\n"
     ]
    },
    {
     "name": "stderr",
     "output_type": "stream",
     "text": [
      "ERROR:root:correct_year() missing 1 required positional argument: 'text'\n"
     ]
    },
    {
     "name": "stdout",
     "output_type": "stream",
     "text": [
      "First name--> James\n",
      "Full name--> James Clark\n",
      "Experience --> 0\n",
      "Designation--> []\n",
      "Education--> []\n",
      "Email--> ['mi2100462@gmail.com']\n",
      "Skills--> ['communications', 'release', 'software', 'schedule', 'documentation', 'project management', 'confluence', 'business', 'agile project management', 'business administration']\n",
      "Phone number--> 2100462\n"
     ]
    },
    {
     "name": "stderr",
     "output_type": "stream",
     "text": [
      "ERROR:root:correct_year() missing 1 required positional argument: 'text'\n"
     ]
    },
    {
     "name": "stdout",
     "output_type": "stream",
     "text": [
      "First name--> Scope\n",
      "Full name--> Scrum Master\n",
      "Experience --> 0\n",
      "Designation--> []\n",
      "Education--> ['MS']\n",
      "Email--> ['noordeenkhaja@hotmail.com']\n",
      "Skills--> ['windows', 'communications', 'software engineering', 'middleware', 'code review', 'bamboo', 'software', 'oracle', 'databases', 'business process', 'debugging', 'server', 'support', 'collaboration', 'marketing', 'monitoring', 'fusion', 'languages', 'design', 'testing', 'business', 'ecommerce', 'certificate', 'release', 'knowledge management', 'javascript', 'business administration', 'data analysis', 'operating systems', 'specification']\n",
      "Phone number--> 614-390-7256\n",
      "First name--> Khaja\n"
     ]
    },
    {
     "name": "stderr",
     "output_type": "stream",
     "text": [
      "ERROR:root:correct_year() missing 1 required positional argument: 'text'\n"
     ]
    },
    {
     "name": "stdout",
     "output_type": "stream",
     "text": [
      "Full name--> Khaja Noordeen\n",
      "Experience --> 0\n",
      "Designation--> []\n",
      "Education--> ['MS']\n",
      "Email--> ['Paulalex1680@gmail.com']\n",
      "Skills--> ['communications', 'engineering', 'software', 'visual basic', 'languages', 'design', 'testing', 'router', 'server', 'microprocessor', 'business', 'support', 'signal processing']\n",
      "Phone number--> 954-756-4688\n",
      "First name--> Pablo\n"
     ]
    },
    {
     "name": "stderr",
     "output_type": "stream",
     "text": [
      "ERROR:root:correct_year() missing 1 required positional argument: 'text'\n"
     ]
    },
    {
     "name": "stdout",
     "output_type": "stream",
     "text": [
      "Full name--> 5881\n",
      "Experience --> 0\n",
      "Designation--> []\n",
      "Education--> []\n",
      "Email--> ['james.ramirez45@aol.com']\n",
      "Skills--> ['communications', 'engineering', 'support', 'security', 'languages', 'design', 'customer relationship management', 'telecommunications', 'network architecture', 'business process', 'testing', 'documentation', 'project management', 'business', 'confluence', 'linux', 'collaboration']\n",
      "Phone number--> 1720951747\n"
     ]
    },
    {
     "name": "stderr",
     "output_type": "stream",
     "text": [
      "ERROR:root:'NoneType' object has no attribute 'group'\n"
     ]
    },
    {
     "name": "stdout",
     "output_type": "stream",
     "text": [
      "First name--> James\n",
      "Full name--> James Ramirez\n",
      "\n",
      "\n",
      "\n",
      "\n",
      "\n",
      "Phone\n",
      "Experience --> 0\n",
      "Designation--> []\n",
      "Education--> ['MS', 'ms']\n",
      "Email--> ['beauboeufg@outlook.com']\n",
      "Skills--> ['windows', 'operating system', 'software', 'business process', 'server', 'documentation', 'project management', 'azure', 'support', 'collaboration', 'mobile', 'monitoring', 'deployment', 'design', 'testing', 'business', 'linux', 'library', 'computer science', 'security', 'business administration', 'macos', 'marketing']\n",
      "Phone number--> 857 406 9118\n"
     ]
    },
    {
     "name": "stderr",
     "output_type": "stream",
     "text": [
      "ERROR:root:correct_year() missing 1 required positional argument: 'text'\n"
     ]
    },
    {
     "name": "stdout",
     "output_type": "stream",
     "text": [
      "First name--> H1B\n",
      "Full name--> CARD\n",
      "Experience --> 0\n",
      "Designation--> []\n",
      "Education--> ['ME', 'MS']\n",
      "Email--> ['Chanedawit1@gmail.com', 'David.Marling@CapitalOne.com', 'Austin.dix@gmail.com', 'jamar.ali@nih.gov', 'yared@ebstv.tv']\n",
      "Skills--> ['windows', 'operating system', 'engineering', 'high availability', 'distributed file system', 'authentication', 'software', 'databases', 'server', 'documentation', 'azure', 'support', 'virtual machine', 'monitoring', 'deployment', 'complex system', 'languages', 'design', 'rotation', 'business', 'unity', 'linux', 'virtual reality', 'multimedia', 'schedule', 'library', 'web servers', 'computer science', 'relay', 'encryption', 'security', 'systems engineering', 'material', 'echo', 'help desk', 'operating systems', 'marketing']\n",
      "Phone number--> 202-709-1332\n",
      "First name--> Dawit\n"
     ]
    },
    {
     "name": "stderr",
     "output_type": "stream",
     "text": [
      "ERROR:root:'NoneType' object has no attribute 'group'\n"
     ]
    },
    {
     "name": "stdout",
     "output_type": "stream",
     "text": [
      "Full name--> 202\n",
      "Experience --> 0\n",
      "Designation--> []\n",
      "Education--> []\n",
      "Email--> ['page_castle@yahoo.com']\n",
      "Skills--> ['windows', 'communications', 'engineering', 'software', 'ethernet', 'component', 'debugging', 'server', 'documentation', 'database', 'project management', 'simulation', 'support', 'mobile', 'wireless', 'monitoring', 'framework', 'fusion', 'design', 'telephony', 'testing', 'business', 'ios', 'computer hardware', 'release', 'telecommunications', 'blockchain', 'encryption', 'security', 'help desk', 'data center', 'network layer', 'router', 'data processing', 'analytics']\n",
      "Phone number--> (813) 514-3261\n",
      "First name--> Pedro\n"
     ]
    },
    {
     "name": "stderr",
     "output_type": "stream",
     "text": [
      "ERROR:root:correct_year() missing 1 required positional argument: 'text'\n"
     ]
    },
    {
     "name": "stdout",
     "output_type": "stream",
     "text": [
      "Full name--> Pedro Emilio Castillo\n",
      "\n",
      "\n",
      "Experience --> 0\n",
      "Designation--> []\n",
      "Education--> ['MS']\n",
      "Email--> ['sandeepsachinist@gmail.com', 'sandeepsachinist@gmail.com']\n",
      "Skills--> ['terraform', 'windows', 'engineering', 'mongodb', 'software', 'databases', 'server', 'documentation', 'database', 'azure', 'support', 'monitoring', 'deployment', 'languages', 'postgresql', 'devops', 'mysql', 'git', 'hadoop', 'deadlock', 'security', 'google', 'scalability', 'analytics']\n",
      "Phone number--> 813-540-1112\n",
      "First name--> Sandeep\n"
     ]
    },
    {
     "name": "stderr",
     "output_type": "stream",
     "text": [
      "ERROR:root:correct_year() missing 1 required positional argument: 'text'\n"
     ]
    },
    {
     "name": "stdout",
     "output_type": "stream",
     "text": [
      "Full name--> Sandeep\tSiddhi\n",
      "Experience --> 0\n",
      "Designation--> []\n",
      "Education--> ['MS']\n",
      "Email--> []\n"
     ]
    },
    {
     "name": "stderr",
     "output_type": "stream",
     "text": [
      "ERROR:root:correct_year() missing 1 required positional argument: 'text'\n"
     ]
    },
    {
     "name": "stdout",
     "output_type": "stream",
     "text": [
      "Skills--> ['engineering', 'tower', 'design', 'mechanical engineering', 'testing', 'database', 'support']\n",
      "Phone number--> (517) 331-2670\n",
      "First name--> Colorado\n",
      "Full name--> 2181\n",
      "Experience --> 0\n",
      "Designation--> []\n",
      "Education--> None\n"
     ]
    },
    {
     "name": "stderr",
     "output_type": "stream",
     "text": [
      "WARNING:PyPDF2._reader:Superfluous whitespace found in object header b'1' b'0'\n",
      "WARNING:PyPDF2._reader:Superfluous whitespace found in object header b'2' b'0'\n",
      "WARNING:PyPDF2._reader:Superfluous whitespace found in object header b'3' b'0'\n",
      "WARNING:PyPDF2._reader:Superfluous whitespace found in object header b'53' b'0'\n",
      "WARNING:PyPDF2._reader:Superfluous whitespace found in object header b'11' b'0'\n",
      "WARNING:PyPDF2._reader:Superfluous whitespace found in object header b'10' b'0'\n",
      "WARNING:PyPDF2._reader:Superfluous whitespace found in object header b'9' b'0'\n",
      "WARNING:PyPDF2._reader:Superfluous whitespace found in object header b'19' b'0'\n",
      "WARNING:PyPDF2._reader:Superfluous whitespace found in object header b'18' b'0'\n",
      "WARNING:PyPDF2._reader:Superfluous whitespace found in object header b'17' b'0'\n",
      "WARNING:PyPDF2._reader:Superfluous whitespace found in object header b'27' b'0'\n",
      "WARNING:PyPDF2._reader:Superfluous whitespace found in object header b'26' b'0'\n",
      "WARNING:PyPDF2._reader:Superfluous whitespace found in object header b'25' b'0'\n",
      "WARNING:PyPDF2._reader:Superfluous whitespace found in object header b'35' b'0'\n",
      "WARNING:PyPDF2._reader:Superfluous whitespace found in object header b'34' b'0'\n",
      "WARNING:PyPDF2._reader:Superfluous whitespace found in object header b'33' b'0'\n",
      "WARNING:PyPDF2._reader:Superfluous whitespace found in object header b'43' b'0'\n",
      "WARNING:PyPDF2._reader:Superfluous whitespace found in object header b'42' b'0'\n",
      "WARNING:PyPDF2._reader:Superfluous whitespace found in object header b'41' b'0'\n",
      "WARNING:PyPDF2._reader:Superfluous whitespace found in object header b'51' b'0'\n",
      "WARNING:PyPDF2._reader:Superfluous whitespace found in object header b'50' b'0'\n",
      "WARNING:PyPDF2._reader:Superfluous whitespace found in object header b'49' b'0'\n",
      "WARNING:PyPDF2._reader:Superfluous whitespace found in object header b'52' b'0'\n"
     ]
    },
    {
     "name": "stdout",
     "output_type": "stream",
     "text": [
      "Email--> ['larry.brooks16688@gmail.com']\n"
     ]
    },
    {
     "name": "stderr",
     "output_type": "stream",
     "text": [
      "ERROR:root:correct_year() missing 1 required positional argument: 'text'\n"
     ]
    },
    {
     "name": "stdout",
     "output_type": "stream",
     "text": [
      "Skills--> ['python', 'engineering', 'software', 'design', 'digital signal processing', 'security', 'specification']\n",
      "Phone number--> (478) 954-5387\n",
      "First name--> Larry\n",
      "Full name--> Larry Brooks Jr.\n",
      "Experience --> 0\n",
      "Designation--> []\n",
      "Education--> []\n",
      "Email--> ['Amen.mulesoft88@gmail.com']\n",
      "Skills--> ['apache tomcat', 'python', 'junit', 'software', 'oracle', 'databases', 'server', 'documentation', 'database', 'support', 'deployment', 'languages', 'design', 'testing', 'business', 'web service', 'mysql', 'front end', 'git', 'javascript', 'utilities', 'security', 'spring', 'ansible', 'bitbucket', 'java', 'publishing', 'ruby', 'eclipse', 'jquery', 'specification']\n",
      "Phone number--> 240-550-3630\n"
     ]
    },
    {
     "name": "stderr",
     "output_type": "stream",
     "text": [
      "ERROR:root:correct_year() missing 1 required positional argument: 'text'\n"
     ]
    },
    {
     "name": "stdout",
     "output_type": "stream",
     "text": [
      "First name--> Mule\n",
      "Full name--> 240\n",
      "Experience --> 0\n",
      "Designation--> []\n",
      "Education--> ['MS']\n",
      "Email--> ['Iraj.Zanganeh@gmail.com']\n",
      "Skills--> ['communications', 'mechanical engineering', 'design', 'support', 'mobile']\n",
      "Phone number--> 231-2142\n",
      "First name--> Colorado Springs Co\n"
     ]
    },
    {
     "name": "stderr",
     "output_type": "stream",
     "text": [
      "ERROR:root:correct_year() missing 1 required positional argument: 'text'\n"
     ]
    },
    {
     "name": "stdout",
     "output_type": "stream",
     "text": [
      "Full name--> Iraj Zanganeh\n",
      "Experience --> 0\n",
      "Designation--> []\n",
      "Education--> []\n",
      "Email--> []\n",
      "Skills--> ['queue', 'windows', 'high availability', 'software', 'databases', 'business process', 'server', 'microsoft sql server', 'database', 'medical imaging', 'support', 'monitoring', 'database design', 'framework', 'visual studio', 'languages', 'design', 'testing', 'business', 'data integration', 'schedule', 'javascript', 'business intelligence', 'security', 'query optimization', 'database tools']\n",
      "Phone number--> 017-2020\n"
     ]
    },
    {
     "name": "stderr",
     "output_type": "stream",
     "text": [
      "ERROR:root:'NoneType' object has no attribute 'group'\n"
     ]
    },
    {
     "name": "stdout",
     "output_type": "stream",
     "text": [
      "First name--> Design Development\n",
      "Full name--> 10 years\n",
      "Experience --> 0\n",
      "Designation--> []\n",
      "Education--> ['MS']\n",
      "Email--> ['ambarish1607@gmail.com']\n",
      "Skills--> ['windows', 'software', 'mechanical engineering', 'databases', 'business process', 'server', 'documentation', 'project management', 'database', 'data validation', 'support', 'mobile', 'monitoring', 'database design', 'tower', 'deployment', 'design', 'testing', 'play', 'business', 'release', 'swift', 'access control', 'javascript', 'schedule', 'telecommunications', 'resource allocation', 'finance', 'payments', 'shell', 'workflow']\n",
      "Phone number--> (213) 550-4090\n"
     ]
    },
    {
     "name": "stderr",
     "output_type": "stream",
     "text": [
      "ERROR:root:'NoneType' object has no attribute 'group'\n"
     ]
    },
    {
     "name": "stdout",
     "output_type": "stream",
     "text": [
      "First name--> Built\n",
      "Full name--> Ambarish Pote\n",
      "Experience --> 0\n",
      "Designation--> []\n",
      "Education--> ['MS', 'BE']\n",
      "Email--> ['danjakubik4@gmail.com']\n",
      "Skills--> ['certificate', 'engineering', 'virtual reality', 'design', 'testing', 'component', 'documentation', 'business', 'functional testing', 'security', 'mobile', 'electronic engineering']\n",
      "Phone number--> 312-882-7753\n"
     ]
    },
    {
     "name": "stderr",
     "output_type": "stream",
     "text": [
      "ERROR:root:correct_year() missing 1 required positional argument: 'text'\n"
     ]
    },
    {
     "name": "stdout",
     "output_type": "stream",
     "text": [
      "First name--> DANIEL\n",
      "Full name--> DANIEL ALAN JAKUBIK\n",
      "Experience --> 0\n",
      "Designation--> []\n",
      "Education--> []\n",
      "Email--> ['glbrt.bar@me.com']\n",
      "Skills--> ['certificate', 'communications', 'workload', 'data quality', 'finance', 'design', 'schedule', 'metadata', 'testing', 'business process', 'documentation', 'project management', 'business', 'analytics', 'support', 'workflow', 'user interface']\n",
      "Phone number--> (213) 359-3349\n"
     ]
    },
    {
     "name": "stderr",
     "output_type": "stream",
     "text": [
      "ERROR:root:'NoneType' object has no attribute 'group'\n"
     ]
    },
    {
     "name": "stdout",
     "output_type": "stream",
     "text": [
      "First name--> Guilbert\n",
      "Full name--> Guilbert Baradas\n",
      "\n",
      "\t\t\t\t\tPage\n",
      "Experience --> 0\n",
      "Designation--> []\n",
      "Education--> ['MS']\n",
      "Email--> []\n",
      "Skills--> ['windows', 'software', 'operations management', 'databases', 'box', 'rest api', 'server', 'business process', 'microsoft sql server', 'project management', 'azure', 'database', 'documentation', 'support', 'mobile', 'data validation', 'accounting', 'android', 'tableau', 'framework', 'deployment', 'languages', 'design', 'testing', 'analytics', 'business', 'confluence', 'data visualization', 'functional testing', 'mysql', 'release', 'schedule', 'system integration', 'issue tracking', 'user interface', 'java', 'data mining', 'amazon web services', 'data analysis', 'g suite', 'microsoft azure', 'operating systems', 'postman', 'workflow', 'specification']\n",
      "Phone number--> \n",
      "First name--> Manager\n"
     ]
    },
    {
     "name": "stderr",
     "output_type": "stream",
     "text": [
      "ERROR:root:correct_year() missing 1 required positional argument: 'text'\n"
     ]
    },
    {
     "name": "stdout",
     "output_type": "stream",
     "text": [
      "Full name--> 9 years\n",
      "Experience --> 0\n",
      "Designation--> []\n",
      "Education--> None\n",
      "Email--> ['mikeevans0426@gmail.com']\n",
      "Skills--> ['windows', 'operating system', 'communications', 'software', 'oracle', 'mode', 'server', 'project management', 'database', 'support', 'mobile', 'wireless', 'monitoring', 'deployment', 'design', 'testing', 'storm', 'business', 'ecommerce', 'certificate', 'access control', 'schedule', 'business intelligence', 'library', 'security', 'help desk', 'business administration', 'monitoring tools', 'segmentation', 'analytics', 'workflow']\n",
      "Phone number--> (586) 770-1031\n",
      "First name--> Mike Evans Resume\n"
     ]
    },
    {
     "name": "stderr",
     "output_type": "stream",
     "text": [
      "ERROR:root:correct_year() missing 1 required positional argument: 'text'\n"
     ]
    },
    {
     "name": "stdout",
     "output_type": "stream",
     "text": [
      "Full name--> Mike Evans Resume\n",
      "Experience --> 0\n",
      "Designation--> []\n",
      "Education--> []\n",
      "Email--> ['rajanthagiri.2121@gmail.com', 'rajanthagiri.2121@gmail.com']\n",
      "Skills--> ['windows', 'workload', 'high availability', 'authentication', 'oracle', 'databases', 'server', 'microsoft sql server', 'database', 'azure', 'support', 'monitoring', 'deployment', 'visual studio', 'languages', 'business', 'data integration', 'data extraction', 'synchronization', 'schedule', 'business intelligence', 'sorting', 'encryption', 'security', 'business administration', 'data center', 'data warehouse', 'monitoring tools', 'data analysis', 'operating systems']\n",
      "Phone number--> 201-987-1398\n",
      "First name--> Raj\n"
     ]
    },
    {
     "name": "stderr",
     "output_type": "stream",
     "text": [
      "ERROR:root:'NoneType' object has no attribute 'group'\n"
     ]
    },
    {
     "name": "stdout",
     "output_type": "stream",
     "text": [
      "Full name--> Raj Anthagiri/SQL\n",
      "Experience --> 0\n",
      "Designation--> []\n",
      "Education--> ['MS']\n",
      "Email--> ['fazlur.kaleel@gmail.com']\n",
      "Skills--> ['python', 'engineering', 'release', 'deployment', 'software', 'server', 'medium', 'project management', 'business', 'database', 'support', 'collaboration', 'ai']\n",
      "Phone number--> \n",
      "First name--> Certified\n"
     ]
    },
    {
     "name": "stderr",
     "output_type": "stream",
     "text": [
      "ERROR:root:correct_year() missing 1 required positional argument: 'text'\n"
     ]
    },
    {
     "name": "stdout",
     "output_type": "stream",
     "text": [
      "Full name--> Franklin Park\n",
      "Experience --> 0\n",
      "Designation--> []\n",
      "Education--> ['ms']\n",
      "Email--> ['ChazFort@ymail.com', 'ChazFort@ymail.com', 'ChazFort@ymail.com']\n",
      "Skills--> ['engineering', 'software', 'design', 'testing', 'ethernet', 'documentation', 'business', 'support']\n",
      "Phone number--> 513.823.0318\n",
      "First name--> Plan\n"
     ]
    },
    {
     "name": "stderr",
     "output_type": "stream",
     "text": [
      "ERROR:root:correct_year() missing 1 required positional argument: 'text'\n"
     ]
    },
    {
     "name": "stdout",
     "output_type": "stream",
     "text": [
      "Full name--> 513.823.0318\n",
      "Experience --> 0\n",
      "Designation--> []\n",
      "Education--> []\n",
      "Email--> ['ladanmhussein@gmail.com']\n",
      "Skills--> ['terraform', 'windows', 'amazon rds', 'software', 'oracle', 'network security', 'databases', 'server', 'database', 'support', 'accounting', 'monitoring', 'tableau', 'framework', 'new relic', 'deployment', 'fault tolerance', 'wordpress', 'design', 'rotation', 'nginx', 'confluence', 'devops', 'business', 'linux', 'mysql', 'certificate', 'git', 'access control', 'ubuntu', 'drupal', 'centos', 'encryption', 'security', 'ansible', 'amazon web services', 'finance', 'monitoring tools', 'payments', 'data analysis', 'performance monitoring', 'operating systems']\n",
      "Phone number--> 703-677-6346\n"
     ]
    },
    {
     "name": "stderr",
     "output_type": "stream",
     "text": [
      "ERROR:root:'NoneType' object has no attribute 'group'\n"
     ]
    },
    {
     "name": "stdout",
     "output_type": "stream",
     "text": [
      "First name--> Elastic Computing\n",
      "Full name--> Lorton\n",
      "Experience --> 0\n",
      "Designation--> []\n",
      "Education--> ['MS', 'BS']\n",
      "Email--> ['sa_sik-2000@yahoo.com']\n",
      "Skills--> ['python', 'operating system', 'bamboo', 'software', 'oracle', 'shared memory', 'mechanical engineering', 'ethernet', 'server', 'documentation', 'project management', 'database', 'system testing', 'support', 'data acquisition', 'mobile', 'gradle', 'intelligent network', 'jenkins', 'languages', 'design', 'testing', 'postgresql', 'confluence', 'web service', 'business', 'bash', 'linux', 'git', 'schedule', 'javascript', 'telecommunications', 'computer science', 'ubuntu', 'utilities', 'spring', 'security', 'user interface', 'java', 'continuous integration', 'local area network', 'router', 'eclipse', 'shell']\n",
      "Phone number--> 1301236905\n",
      "First name--> Sandip\n"
     ]
    },
    {
     "name": "stderr",
     "output_type": "stream",
     "text": [
      "ERROR:root:'NoneType' object has no attribute 'group'\n"
     ]
    },
    {
     "name": "stdout",
     "output_type": "stream",
     "text": [
      "Full name--> Sandip Sikri\n",
      "Experience --> 0\n",
      "Designation--> []\n",
      "Education--> ['MS', 'BS']\n",
      "Email--> []\n",
      "Skills--> ['windows', 'typescript', 'middleware', 'engineering', 'react', 'mongodb', 'software engineering', 'software', 'databases', 'business process', 'server', 'component', 'documentation', 'database', 'project management', 'support', 'collaboration', 'monitoring', 'framework', 'fault tolerance', 'deployment', 'kafka', 'snowflake', 'complex system', 'design', 'testing', 'big data', 'rails', 'business', 'linux', 'openshift', 'ai', 'front end', 'google maps', 'enterprise system', 'application server', 'schedule', 'javascript', 'business intelligence', 'system integration', 'hadoop', 'security', 'help desk', 'issue tracking', 'resource allocation', 'web app', 'java', 'node.js', 'geospatial analysis', 'data warehouse', 'data analysis', 'ruby', 'docker', 'analytics']\n",
      "Phone number--> 988-1997\n",
      "First name--> Michael\n"
     ]
    },
    {
     "name": "stderr",
     "output_type": "stream",
     "text": [
      "ERROR:root:'NoneType' object has no attribute 'group'\n"
     ]
    },
    {
     "name": "stdout",
     "output_type": "stream",
     "text": [
      "Full name--> Michael C. Minadeo\n",
      "Experience --> 0\n",
      "Designation--> []\n",
      "Education--> ['MS']\n",
      "Email--> ['keith.davighi@gmail.com']\n",
      "Skills--> ['data center', 'windows', 'support', 'software', 'oracle', 'schedule', 'design', 'server', 'project management', 'business', 'confluence', 'operating systems', 'wireless', 'business administration', 'advertising']\n",
      "Phone number--> \n",
      "First name--> Keith\n"
     ]
    },
    {
     "name": "stderr",
     "output_type": "stream",
     "text": [
      "ERROR:root:correct_year() missing 1 required positional argument: 'text'\n"
     ]
    },
    {
     "name": "stdout",
     "output_type": "stream",
     "text": [
      "Full name--> Keith Davighi\n",
      "Experience --> 0\n",
      "Designation--> []\n",
      "Education--> None\n",
      "Email--> ['debpeterson2001@hotmail.com']\n",
      "Skills--> ['windows', 'engineering', 'high availability', 'software', 'oracle', 'authentication', 'server', 'database', 'project management', 'support', 'monitoring', 'deployment', 'languages', 'telephony', 'design', 'fabric', 'business', 'linux', 'ecommerce', 'access control', 'business intelligence', 'security', 'data center', 'ambiguity', 'operating systems']\n",
      "Phone number--> \n"
     ]
    },
    {
     "name": "stderr",
     "output_type": "stream",
     "text": [
      "ERROR:root:'NoneType' object has no attribute 'group'\n"
     ]
    },
    {
     "name": "stdout",
     "output_type": "stream",
     "text": [
      "First name--> Peterson Phone\n",
      "Full name--> RESUME\n",
      "\n",
      "  \n",
      "\n",
      "\n",
      "\n",
      "\n",
      "\n",
      "\n",
      "\n",
      "Resume Headline: StructuredProfile-66a06bd5-b01c-449e-875a-3d7b8599b216\n",
      "\n",
      "Resume Value\n",
      "Experience --> 0\n",
      "Designation--> []\n",
      "Education--> None\n",
      "Email--> ['dp5377296@gmail.com']\n",
      "Skills--> ['windows', 'engineering', 'high availability', 'software', 'oracle', 'visual basic', 'databases', 'server', 'microsoft sql server', 'database', 'azure', 'support', 'monitoring', 'database design', 'visual studio', 'design', 'business', 'linux', 'data consistency', 'mysql', 'business intelligence', 'throughput', 'security', 'user interface', 'crystal']\n",
      "Phone number--> 5377296\n"
     ]
    },
    {
     "name": "stderr",
     "output_type": "stream",
     "text": [
      "ERROR:root:'NoneType' object has no attribute 'end'\n"
     ]
    },
    {
     "name": "stdout",
     "output_type": "stream",
     "text": [
      "First name--> Test\n",
      "Full name--> Divya\t\n",
      "dp5377296@gmail.com\n",
      "804-8082-015\n",
      "Experience --> 0\n",
      "Designation--> []\n",
      "Education--> ['MS']\n",
      "Email--> ['Phayes900@gmail.com', 'Phayes900@gmail.com']\n",
      "Skills--> ['data center', 'computer hardware', 'deployment', 'schedule', 'computer science', 'skype', 'server', 'documentation', 'business', 'database', 'security', 'project management', 'support']\n",
      "Phone number--> 860-976-5459\n",
      "First name--> Held\n"
     ]
    },
    {
     "name": "stderr",
     "output_type": "stream",
     "text": [
      "ERROR:root:correct_year() missing 1 required positional argument: 'text'\n"
     ]
    },
    {
     "name": "stdout",
     "output_type": "stream",
     "text": [
      "Full name--> G. HAYES\n",
      "Experience --> 0\n",
      "Designation--> []\n",
      "Education--> ['x']\n",
      "Email--> ['nithildata@gmail.com']\n",
      "Skills--> ['computer vision', 'server', 'random forest', 'documentation', 'libraries', 'data access', 'zookeeper', 'visualization', 'jenkins', 'tensorflow', 'big data', 'principal component analysis', 'data integration', 'web service', 'linux', 'aws lambda', 'application server', 'impala', 'linear regression', 'data processing', 'shell', 'docker', 'algorithms', 'python', 'high availability', 'authentication', 'scala', 'oracle', 'azure', 'design', 'testing', 'business', 'git', 'result set', 'yarn', 'security', 'java', 'opencv', 'eclipse', 'natural language processing', 'cloud storage', 'software', 'databases', 'microsoft sql server', 'data modeling', 'support', 'monitoring', 'cassandra', 'deployment', 'visual studio', 'numpy', 'data consistency', 'mysql', 'data extraction', 'nlp', 'metadata', 'business intelligence', 'logistic regression', 'help desk', 'google', 'data warehouse', 'pandas', 'analytics', 'azure storage', 'mongodb', 'dimensionality reduction', 'database', 'machine learning', 'variables', 'tableau', 'kafka', 'snowflake', 'nosql', 'languages', 'fabric', 'confluence', 'data visualization', 'data quality', 'hadoop', 'data mining', 'data analysis', 'data model', 'data management', 'data stores', 'airflow', 'marketing']\n",
      "Phone number--> 2488253340\n",
      "First name--> Email\n"
     ]
    },
    {
     "name": "stderr",
     "output_type": "stream",
     "text": [
      "ERROR:root:'NoneType' object has no attribute 'group'\n"
     ]
    },
    {
     "name": "stdout",
     "output_type": "stream",
     "text": [
      "Full name--> Nithil\n",
      "Experience --> 0\n",
      "Designation--> []\n",
      "Education--> None\n",
      "Email--> ['jayapratap.de@gmail.com']\n",
      "Skills--> ['server', 'random forest', 'data validation', 'data access', 'visualization', 'big data', 'file format', 'data integration', 'devops', 'google analytics', 'data retrieval', 'command line interface', 'concurrency', 'aws lambda', 'kubernetes', 'apache spark', 'amazon web services', 'data processing', 'shell', 'docker', 'algorithms', 'python', 'high availability', 'authentication', 'scala', 'oracle', 'azure', 'stream processing', 'wordpress', 'design', 'testing', 'business', 'presto', 'git', 'security', 'feature selection', 'microsoft azure', 'software', 'databases', 'debugging', 'relational database', 'support', 'monitoring', 'cassandra', 'framework', 'deployment', 'mysql', 'visual studio team services', 'metadata', 'web servers', 'business intelligence', 'file system', 'azure machine learning', 'google', 'bitbucket', 'pandas', 'source code', 'analytics', 'workflow', 'conductor', 'terraform', 'mongodb', 'database', 'machine learning', 'variables', 'tableau', 'snowflake', 'nosql', 'languages', 'exploratory data analysis', 'batch processing', 'schedule', 'hadoop', 'data mining', 'segmentation', 'data analysis', 'airflow']\n",
      "Phone number--> 5137881530\n",
      "First name--> Python\n"
     ]
    },
    {
     "name": "stderr",
     "output_type": "stream",
     "text": [
      "ERROR:root:correct_year() missing 1 required positional argument: 'text'\n"
     ]
    },
    {
     "name": "stdout",
     "output_type": "stream",
     "text": [
      "Full name--> JAYA PRATAP K\n",
      "Email\n",
      "Experience --> 0\n",
      "Designation--> []\n",
      "Education--> ['MS']\n",
      "Email--> []\n",
      "Skills--> ['server', 'documentation', 'data validation', 'big data', 'postgresql', 'data integration', 'linux', 'kubernetes', 'utilities', 'crystal', 'amazon web services', 'data processing', 'shell', 'docker', 'postman', 'python', 'oracle', 'scala', 'azure', 'database design', 'design', 'testing', 'data structure', 'business', 'front end', 'git', 'security', 'perl', 'continuous integration', 'parsing', 'software', 'databases', 'relational database', 'data modeling', 'big data tools', 'support', 'monitoring', 'cassandra', 'deployment', 'numpy', 'data consistency', 'data extraction', 'mysql', 'metadata', 'business intelligence', 'web servers', 'help desk', 'google', 'data warehouse', 'pandas', 'router', 'analytics', 'workflow', 'azure storage', 'windows', 'operating system', 'communications', 'mongodb', 'code review', 'database', 'machine learning', 'beanstalk', 'terminal', 'tableau', 'kafka', 'snowflake', 'languages', 'fabric', 'confluence', 'data visualization', 'data quality', 'library', 'hadoop', 'hbase', 'data mining', 'data analysis', 'data management', 'data stores', 'airflow', 'specification']\n",
      "Phone number--> \n",
      "First name--> Data\n"
     ]
    },
    {
     "name": "stderr",
     "output_type": "stream",
     "text": [
      "ERROR:root:correct_year() missing 1 required positional argument: 'text'\n"
     ]
    },
    {
     "name": "stdout",
     "output_type": "stream",
     "text": [
      "Full name--> Data Engineer / Big Data\n",
      "Experience --> 0\n",
      "Designation--> []\n",
      "Education--> ['MS']\n",
      "Email--> ['RamonaBJack@gmail.com']\n",
      "Skills--> ['windows', 'python', 'engineering', 'mongodb', 'software', 'oracle', 'data integrity', 'server', 'documentation', 'database', 'project management', 'data modeling', 'support', 'monitoring', 'tableau', 'operating systems', 'framework', 'snowflake', 'languages', 'design', 'testing', 'big data', 'devops', 'business', 'linux', 'schedule', 'business intelligence', 'hadoop', 'security', 'impala', 'google', 'crystal', 'finance', 'data warehouse', 'compass', 'data analysis', 'analytics', 'workflow']\n",
      "Phone number--> 972-754-0591\n"
     ]
    },
    {
     "name": "stderr",
     "output_type": "stream",
     "text": [
      "ERROR:root:'NoneType' object has no attribute 'group'\n"
     ]
    },
    {
     "name": "stdout",
     "output_type": "stream",
     "text": [
      "First name--> Ramona\n",
      "Full name--> Ramona B. Jack\n",
      "Experience --> 0\n",
      "Designation--> []\n",
      "Education--> ['MS']\n",
      "Email--> ['sowmyap0222@gmail.com']\n",
      "Skills--> ['windows', 'python', 'engineering', 'flask', 'query language', 'software', 'jquery', 'databases', 'rest api', 'vault', 'server', 'database', 'sqlite', 'support', 'chrome', 'monitoring', 'lodash', 'framework', 'data structures', 'visual studio', 'visualization', 'languages', 'design', 'testing', 'nginx', 'postgresql', 'business', 'data visualization', 'linux', 'data extraction', 'mysql', 'bootstrap', 'data science', 'sublime text', 'javascript', 'library', 'firefox', 'pandas', 'eclipse', 'selenium', 'tornado', 'operating systems', 'github', 'jupyter notebook', 'marketing']\n",
      "Phone number--> 551-388-2458\n"
     ]
    },
    {
     "name": "stderr",
     "output_type": "stream",
     "text": [
      "ERROR:root:correct_year() missing 1 required positional argument: 'text'\n"
     ]
    },
    {
     "name": "stdout",
     "output_type": "stream",
     "text": [
      "First name--> Sowmya\n",
      "Full name--> Sowmya Kambam\n",
      "Experience --> 0\n",
      "Designation--> []\n",
      "Education--> None\n",
      "Email--> ['ntletski@gmail']\n",
      "Skills--> ['communications', 'engineering', 'software', 'documentation', 'business', 'security', 'support']\n",
      "Phone number--> (330) \t 309-4806\n",
      "First name--> Ohio B\n",
      "Full name--> Quail \t Hil l \t S t\n",
      "Experience --> None\n",
      "Designation--> []\n",
      "Education--> []\n",
      "Email--> ['richardgriffinresume@yahoo.com']\n",
      "Skills--> ['windows', 'operating system', 'communications', 'adobe photoshop', 'software', 'authentication', 'network security', 'visual basic', 'business process', 'server', 'documentation', 'database', 'wireless', 'support', 'collaboration', 'mobile', 'monitoring', 'android', 'deployment', 'languages', 'scanner', 'business', 'linux', 'computer hardware', 'graphical user interface', 'knowledge management', 'computer science', 'encryption', 'security', 'help desk', 'user interface', 'java', 'cataloging', 'customer relationship management', 'operating systems']\n",
      "Phone number--> 1213433830\n",
      "First name--> RICHARD\n"
     ]
    },
    {
     "name": "stderr",
     "output_type": "stream",
     "text": [
      "ERROR:root:correct_year() missing 1 required positional argument: 'text'\n"
     ]
    },
    {
     "name": "stdout",
     "output_type": "stream",
     "text": [
      "Full name--> RESUME\n",
      "\n",
      "  \n",
      "\n",
      "\n",
      "\n",
      "\n",
      "\n",
      "\n",
      "\n",
      "Resume Headline\n",
      "Experience --> 0\n",
      "Designation--> []\n",
      "Education--> ['MS', 'ms']\n",
      "Email--> []\n",
      "Skills--> ['engineering', 'software', 'authentication', 'data integrity', 'box', 'server', 'documentation', 'project management', 'support', 'monitoring', 'deployment', 'languages', 'design', 'testing', 'business', 'data integration', 'linux', 'front end', 'data quality', 'access control', 'javascript', 'system integration', 'security', 'java', 'shell', 'analytics', 'workflow']\n",
      "Phone number--> \n"
     ]
    },
    {
     "name": "stderr",
     "output_type": "stream",
     "text": [
      "ERROR:root:correct_year() missing 1 required positional argument: 'text'\n"
     ]
    },
    {
     "name": "stdout",
     "output_type": "stream",
     "text": [
      "First name--> Technical Skills\n",
      "Full name--> 9+ years\n",
      "Experience --> 0\n",
      "Designation--> []\n",
      "Education--> ['MBA']\n",
      "Email--> ['jainsaras18@gmail.com']\n",
      "Skills--> ['queue', 'segment', 'middleware', 'engineering', 'code review', 'debugging', 'server', 'documentation', 'database', 'support', 'mobile', 'monitoring', 'design', 'testing', 'file format', 'business', 'devops', 'release', 'schedule', 'javascript', 'computer science', 'user profile', 'security', 'material', 'help desk', 'passenger', 'moving average', 'publishing', 'eclipse', 'workflow']\n",
      "Phone number--> 919-744-4492\n",
      "First name--> Certified Professional\n"
     ]
    },
    {
     "name": "stderr",
     "output_type": "stream",
     "text": [
      "ERROR:root:correct_year() missing 1 required positional argument: 'text'\n"
     ]
    },
    {
     "name": "stdout",
     "output_type": "stream",
     "text": [
      "Full name--> 919\n",
      "Experience --> 0\n",
      "Designation--> []\n",
      "Education--> []\n",
      "Email--> ['yaswanth.deait.1@gmail.com']\n",
      "Skills--> ['server', 'documentation', 'data validation', 'libraries', 'zookeeper', 'visualization', 'big data', 'postgresql', 'data integration', 'web service', 'devops', 'google analytics', 'linux', 'bootstrap', 'application server', 'javascript', 'medium', 'impala', 'apache spark', 'composer', 'data processing', 'shell', 'apache tomcat', 'python', 'engineering', 'high availability', 'scala', 'azure', 'regular expression', 'design', 'business', 'information management', 'git', 'security', 'java', 'ml', 'eclipse', 'serverless', 'databases', 'debugging', 'microsoft sql server', 'data modeling', 'support', 'monitoring', 'cassandra', 'framework', 'fault tolerance', 'numpy', 'bash', 'data consistency', 'mysql', 'data extraction', 'visual studio team services', 'metadata', 'business intelligence', 'ubuntu', 'google', 'data warehouse', 'pandas', 'google cloud storage', 'operating systems', 'analytics', 'workflow', 'virtual private cloud', 'azure storage', 'terraform', 'windows', 'mongodb', 'flask', 'vault', 'business process', 'database', 'machine learning', 'snowflake', 'languages', 'nosql', 'control flow', 'storm', 'data visualization', 'batch processing', 'release', 'data quality', 'schedule', 'hadoop', 'query optimization', 'data mining', 'data analysis', 'data model', 'data management', 'airflow', 'django', 'yarn']\n",
      "Phone number--> 828-949-2012\n",
      "First name--> Data Applications\n"
     ]
    },
    {
     "name": "stderr",
     "output_type": "stream",
     "text": [
      "ERROR:root:correct_year() missing 1 required positional argument: 'text'\n"
     ]
    },
    {
     "name": "stdout",
     "output_type": "stream",
     "text": [
      "Full name--> Yashwant K\n",
      "\n",
      "Sr\n",
      "Experience --> 0\n",
      "Designation--> []\n",
      "Education--> []\n",
      "Email--> ['samadeniji@outlook.com']\n",
      "Skills--> ['documentation', 'project management', 'support', 'collaboration', 'variables', 'angularjs', 'deployment', 'testing', 'business', 'bootstrap', 'release', 'knowledge management', 'schedule', 'access control', 'javascript', 'security', 'process management', 'performance monitoring', 'analytics', 'postman']\n",
      "Phone number--> \n"
     ]
    },
    {
     "name": "stderr",
     "output_type": "stream",
     "text": [
      "ERROR:root:'NoneType' object has no attribute 'group'\n"
     ]
    },
    {
     "name": "stdout",
     "output_type": "stream",
     "text": [
      "First name--> Samuel\n",
      "Full name--> Samuel Adeniji\n",
      "Experience --> 0\n",
      "Designation--> []\n",
      "Education--> ['MS']\n",
      "Email--> ['patSeram201@gmail.com']\n",
      "Skills--> ['windows', 'python', 'engineering', 'interaction', 'software', 'shared memory', 'oracle', 'computer vision', 'gitlab', 'business process', 'server', 'relational database', 'documentation', 'project management', 'database', 'support', 'accounting', 'monitoring', 'libraries', 'gradle', 'deployment', 'languages', 'design', 'time series', 'business', 'confluence', 'linux', 'swift', 'computer science', 'system integration', 'utilities', 'medium', 'security', 'perl', 'java', 'payments', 'data processing', 'shell', 'multiprocessing', 'marketing', 'conductor', 'decision tree']\n",
      "Phone number--> 973-714-2554\n",
      "First name--> Mukhopadhyay Ph\n"
     ]
    },
    {
     "name": "stderr",
     "output_type": "stream",
     "text": [
      "ERROR:root:correct_year() missing 1 required positional argument: 'text'\n"
     ]
    },
    {
     "name": "stdout",
     "output_type": "stream",
     "text": [
      "Full name--> 973\n",
      "Experience --> 0\n",
      "Designation--> []\n",
      "Education--> None\n",
      "Email--> ['tina.ekpoke2020@gmail.com']\n",
      "Skills--> ['engineering', 'framework', 'release', 'software', 'process engineering', 'design', 'testing', 'business intelligence', 'business', 'support', 'collaboration', 'marketing']\n",
      "Phone number--> 346-242-9135\n",
      "First name--> Houston\n"
     ]
    },
    {
     "name": "stderr",
     "output_type": "stream",
     "text": [
      "ERROR:root:correct_year() missing 1 required positional argument: 'text'\n"
     ]
    },
    {
     "name": "stdout",
     "output_type": "stream",
     "text": [
      "Full name--> 346\n",
      "Experience --> 0\n",
      "Designation--> []\n",
      "Education--> []\n",
      "Email--> ['pomewah@gmail.com']\n",
      "Skills--> ['release', 'framework', 'deployment', 'software', 'shippable', 'confluence', 'business']\n",
      "Phone number--> 214-289-6383\n",
      "First name--> Omewah SSM\n"
     ]
    },
    {
     "name": "stderr",
     "output_type": "stream",
     "text": [
      "ERROR:root:correct_year() missing 1 required positional argument: 'text'\n"
     ]
    },
    {
     "name": "stdout",
     "output_type": "stream",
     "text": [
      "Full name--> PSM\n",
      "Experience --> 0\n",
      "Designation--> []\n",
      "Education--> []\n",
      "Email--> []\n",
      "Skills--> ['windows', 'interaction', 'code review', 'authentication', 'network security', 'mode', 'vault', 'server', 'database', 'wireless', 'support', 'multicast', 'mobile', 'monitoring', 'deployment', 'design', 'testing', 'business', 'linux', 'certificate', 'computer security', 'web servers', 'access network', 'relay', 'medium', 'encryption', 'security', 'traffic engineering', 'data center', 'amazon web services', 'wireless network', 'router', 'operating systems']\n",
      "Phone number--> \n",
      "First name--> Palo Alto Firewalls\n"
     ]
    },
    {
     "name": "stderr",
     "output_type": "stream",
     "text": [
      "ERROR:root:'NoneType' object has no attribute 'end'\n"
     ]
    },
    {
     "name": "stdout",
     "output_type": "stream",
     "text": [
      "Full name--> ROGAN GOPI\n",
      "Experience --> 0\n",
      "Designation--> []\n",
      "Education--> ['MS']\n",
      "Email--> ['vixit.usa@gmail.com']\n"
     ]
    },
    {
     "name": "stderr",
     "output_type": "stream",
     "text": [
      "ERROR:root:correct_year() missing 1 required positional argument: 'text'\n"
     ]
    },
    {
     "name": "stdout",
     "output_type": "stream",
     "text": [
      "Skills--> ['monitoring', 'java', 'communications', 'framework', 'oracle', 'languages', 'design', 'javascript', 'databases', 'business process', 'server', 'business', 'analytics', 'support', 'collaboration', 'marketing']\n",
      "Phone number--> (678) 510-9351\n",
      "First name--> Vixit\n",
      "Full name--> Vixit Bhardwaj\n",
      "Experience --> 0\n",
      "Designation--> []\n",
      "Education--> None\n",
      "Email--> ['muteropam@gmail.com']\n",
      "Skills--> ['google', 'release', 'framework', 'software', 'schedule', 'confluence', 'project management', 'azure', 'devops', 'support', 'collaboration', 'asana']\n",
      "Phone number--> \n",
      "First name--> Certified\n"
     ]
    },
    {
     "name": "stderr",
     "output_type": "stream",
     "text": [
      "ERROR:root:correct_year() missing 1 required positional argument: 'text'\n"
     ]
    },
    {
     "name": "stdout",
     "output_type": "stream",
     "text": [
      "Full name--> Irving\n",
      "Experience --> 0\n",
      "Designation--> []\n",
      "Education--> ['x']\n",
      "Email--> ['gayathri.varma54@gmail.com']\n",
      "Skills--> ['rest api', 'server', 'random forest', 'documentation', 'data validation', 'hibernate', 'libraries', 'data access', 'data structures', 'zookeeper', 'jenkins', 'visualization', 'big data', 'openstack', 'linux', 'bootstrap', 'kubernetes', 'javascript', 'reinforcement learning', 'impala', 'user interface', 'apache spark', 'amazon web services', 'deep learning', 'data processing', 'docker', 'shell', 'algorithms', 'python', 'scala', 'oracle', 'azure', 'design', 'testing', 'business', 'workflow manager', 'git', 'data science', 'perl', 'continuous integration', 'twitter', 'microsoft azure', 'eclipse', 'unsupervised learning', 'natural language processing', 'workload', 'cloud storage', 'bamboo', 'software', 'databases', 'chef', 'data modeling', 'support', 'monitoring', 'cassandra', 'framework', 'deployment', 'numpy', 'bash', 'mysql', 'data extraction', 'nlp', 'metadata', 'logistic regression', 'ansible', 'google', 'data warehouse', 'pandas', 'router', 'analytics', 'workflow', 'azure storage', 'terraform', 'mongodb', 'flask', 'dimensionality reduction', 'machine learning', 'database', 'data acquisition', 'tableau', 'supervised learning', 'snowflake', 'nosql', 'languages', 'sentiment analysis', 'data visualization', 'exploratory data analysis', 'schedule', 'library', 'hadoop', 'pytorch', 'data mining', 'data analysis', 'data model', 'airflow', 'django', 'specification']\n",
      "Phone number--> 469-923-5567\n",
      "First name--> Gayathri\n"
     ]
    },
    {
     "name": "stderr",
     "output_type": "stream",
     "text": [
      "ERROR:root:correct_year() missing 1 required positional argument: 'text'\n"
     ]
    },
    {
     "name": "stdout",
     "output_type": "stream",
     "text": [
      "Full name--> Gayathri\n",
      "\n",
      "Plano\n",
      "Experience --> 0\n",
      "Designation--> []\n",
      "Education--> None\n",
      "Email--> ['Aashisharyal18@gmail.com']\n",
      "Skills--> ['terraform', 'domain knowledge', 'python', 'windows', 'engineering', 'software engineering', 'workload', 'software', 'network security', 'authentication', 'server', 'database', 'azure', 'support', 'mobile', 'wireless', 'monitoring', 'libraries', 'framework', 'deployment', 'design', 'testing', 'analytics', 'business', 'linux', 'computer hardware', 'access control', 'javascript', 'relay', 'medium', 'encryption', 'security', 'amp', 'ansible', 'google', 'amazon web services', 'knowledge base', 'router', 'microsoft azure', 'docker', 'prisma', 'operating systems', 'github', 'cryptography']\n",
      "Phone number--> (508) 835-8008\n",
      "First name--> Aryal\n"
     ]
    },
    {
     "name": "stderr",
     "output_type": "stream",
     "text": [
      "ERROR:root:correct_year() missing 1 required positional argument: 'text'\n"
     ]
    },
    {
     "name": "stdout",
     "output_type": "stream",
     "text": [
      "Full name--> Aashish Aryal\n",
      "Experience --> 0\n",
      "Designation--> []\n",
      "Education--> ['MS']\n",
      "Email--> ['savyasachi73@gmail.com']\n",
      "Skills--> ['python', 'engineering', 'software', 'databases', 'box', 'database', 'azure', 'support', 'monitoring', 'languages', 'design', 'scanner', 'testing', 'business', 'kubernetes', 'javascript', 'encryption', 'security', 'router', 'ruby', 'docker', 'algorithms', 'analytics', 'postman', 'cryptography']\n",
      "Phone number--> 228-4474\n",
      "First name--> Enterprise\n"
     ]
    },
    {
     "name": "stderr",
     "output_type": "stream",
     "text": [
      "ERROR:root:correct_year() missing 1 required positional argument: 'text'\n"
     ]
    },
    {
     "name": "stdout",
     "output_type": "stream",
     "text": [
      "Full name--> savyasachi73@gmail.com\n",
      "Experience --> 0\n",
      "Designation--> []\n",
      "Education--> []\n",
      "Email--> ['laxmiagarwal45670@gmail.com']\n",
      "Skills--> ['junit', 'middleware', 'engineering', 'interaction', 'high availability', 'serverless', 'software', 'databases', 'rest api', 'component', 'server', 'business process', 'documentation', 'chef', 'database', 'debugging', 'support', 'operating systems', 'framework', 'deployment', 'angular', 'nosql', 'design', 'languages', 'testing', 'devops', 'business', 'linux', 'ai', 'mysql', 'aws opsworks', 'git', 'concurrency', 'schedule', 'javascript', 'computer science', 'user interface', 'java', 'continuous integration', 'node.js', 'ml', 'scalability', 'analytics', 'jquery', 'workflow']\n",
      "Phone number--> \n"
     ]
    },
    {
     "name": "stderr",
     "output_type": "stream",
     "text": [
      "ERROR:root:correct_year() missing 1 required positional argument: 'text'\n"
     ]
    },
    {
     "name": "stdout",
     "output_type": "stream",
     "text": [
      "First name--> Designer\n",
      "Full name--> DevOps\n",
      "Experience --> 0\n",
      "Designation--> []\n",
      "Education--> []\n",
      "Email--> ['vanneramya@gmail.com']\n",
      "Skills--> ['rest api', 'server', 'random forest', 'documentation', 'data validation', 'hibernate', 'libraries', 'data access', 'data structures', 'zookeeper', 'jenkins', 'visualization', 'big data', 'openstack', 'linux', 'bootstrap', 'kubernetes', 'javascript', 'reinforcement learning', 'impala', 'user interface', 'apache spark', 'amazon web services', 'deep learning', 'data processing', 'docker', 'shell', 'algorithms', 'python', 'scala', 'oracle', 'azure', 'design', 'testing', 'business', 'workflow manager', 'git', 'data science', 'computer science', 'perl', 'continuous integration', 'twitter', 'microsoft azure', 'eclipse', 'unsupervised learning', 'natural language processing', 'workload', 'cloud storage', 'bamboo', 'software', 'databases', 'chef', 'data modeling', 'support', 'monitoring', 'cassandra', 'framework', 'deployment', 'numpy', 'bash', 'mysql', 'data extraction', 'nlp', 'metadata', 'logistic regression', 'ansible', 'google', 'data warehouse', 'pandas', 'router', 'analytics', 'workflow', 'azure storage', 'terraform', 'mongodb', 'flask', 'dimensionality reduction', 'machine learning', 'database', 'data acquisition', 'tableau', 'supervised learning', 'snowflake', 'nosql', 'languages', 'sentiment analysis', 'data visualization', 'exploratory data analysis', 'schedule', 'library', 'hadoop', 'pytorch', 'data mining', 'data analysis', 'data model', 'airflow', 'django', 'specification']\n",
      "Phone number--> (603) 785-5542\n",
      "First name--> Data Analysis\n"
     ]
    },
    {
     "name": "stderr",
     "output_type": "stream",
     "text": [
      "ERROR:root:correct_year() missing 1 required positional argument: 'text'\n"
     ]
    },
    {
     "name": "stdout",
     "output_type": "stream",
     "text": [
      "Full name--> VANNE RAMYA\n",
      "\n",
      "Plano\n",
      "Experience --> 0\n",
      "Designation--> []\n",
      "Education--> ['MS']\n",
      "Email--> ['fahadullah786@yahoo.com']\n",
      "Skills--> ['queue', 'windows', 'operating system', 'high availability', 'authentication', 'software', 'mode', 'ethernet', 'server', 'microsoft sql server', 'database', 'azure', 'support', 'terminal', 'monitoring', 'deployment', 'design', 'testing', 'synchronization', 'access control', 'computer science', 'security', 'database security', 'data center', 'router', 'microsoft azure', 'performance monitoring']\n",
      "Phone number--> 425-292-6342\n"
     ]
    },
    {
     "name": "stderr",
     "output_type": "stream",
     "text": [
      "ERROR:root:'NoneType' object has no attribute 'group'\n"
     ]
    },
    {
     "name": "stdout",
     "output_type": "stream",
     "text": [
      "First name--> Fahad Khan Phone\n",
      "Full name--> Fahad Khan\n",
      "\n",
      "Phone\n",
      "Experience --> 0\n",
      "Designation--> []\n",
      "Education--> ['MS']\n",
      "Email--> ['neeraj@severus.uno']\n",
      "Skills--> ['amazon rds', 'rest api', 'server', 'project management', 'system testing', 'libraries', 'data access', 'zookeeper', 'big data', 'postgresql', 'data integration', 'linux', 'command line interface', 'aws lambda', 'application server', 'kubernetes', 'javascript', 'sorting', 'utilities', 'impala', 'diagram', 'apache spark', 'crystal', 'amazon web services', 'moving average', 'data processing', 'shell', 'docker', 'algorithms', 'python', 'engineering', 'oracle', 'scala', 'azure', 'stream processing', 'database design', 'design', 'testing', 'business', 'git', 'java', 'continuous integration', 'jupyter', 'feature selection', 'eclipse', 'jquery', 'queue', 'software', 'databases', 'debugging', 'relational database', 'data modeling', 'support', 'big data tools', 'monitoring', 'cassandra', 'framework', 'visual studio', 'bash', 'openshift', 'mysql', 'business intelligence', 'ubuntu', 'file system', 'google', 'computation', 'data warehouse', 'google cloud storage', 'pandas', 'operating systems', 'analytics', 'workflow', 'azure storage', 'windows', 'mongodb', 'commerce', 'gitlab', 'database', 'machine learning', 'tableau', 'kafka', 'snowflake', 'nosql', 'languages', 'play', 'control flow', 'data quality', 'schedule', 'hadoop', 'centos', 'data mining', 'data analysis', 'data management', 'parse', 'airflow', 'yarn']\n",
      "Phone number--> \n",
      "First name--> Neeraj\n"
     ]
    },
    {
     "name": "stderr",
     "output_type": "stream",
     "text": [
      "ERROR:root:correct_year() missing 1 required positional argument: 'text'\n"
     ]
    },
    {
     "name": "stdout",
     "output_type": "stream",
     "text": [
      "Full name--> Neeraj Kumar\n",
      "Experience --> 0\n",
      "Designation--> []\n",
      "Education--> ['MS']\n",
      "Email--> ['Ronvaidya1@gmail.com']\n",
      "Skills--> ['windows', 'python', 'middleware', 'systems management', 'software', 'authentication', 'network security', 'databases', 'box', 'vault', 'server', 'component', 'documentation', 'database', 'azure', 'support', 'wireless', 'devise', 'accounting', 'monitoring', 'framework', 'deployment', 'languages', 'scanner', 'design', 'testing', 'big data', 'buffer overflow', 'analytics', 'business', 'bash', 'confluence', 'linux', 'certificate', 'git', 'intrusion detection system', 'enterprise system', 'computer security', 'access control', 'ubuntu', 'file system', 'encryption', 'security', 'google', 'computation', 'publishing', 'cypress', 'algorithms', 'operating systems', 'macos', 'smart card']\n",
      "Phone number--> (302) 358-2621\n",
      "First name--> Ronak\n"
     ]
    },
    {
     "name": "stderr",
     "output_type": "stream",
     "text": [
      "ERROR:root:correct_year() missing 1 required positional argument: 'text'\n"
     ]
    },
    {
     "name": "stdout",
     "output_type": "stream",
     "text": [
      "Full name--> US\n",
      "Experience --> 0\n",
      "Designation--> []\n",
      "Education--> ['MS']\n",
      "Email--> ['morbesong@gmail.com']\n",
      "Skills--> ['windows', 'workload', 'high availability', 'oracle', 'databases', 'vault', 'debugging', 'server', 'database', 'azure', 'support', 'variables', 'monitoring', 'tableau', 'framework', 'deployment', 'design', 'rotation', 'business', 'computer science', 'encryption', 'security', 'query optimization', 'data center']\n",
      "Phone number--> 313-7918\n"
     ]
    },
    {
     "name": "stderr",
     "output_type": "stream",
     "text": [
      "ERROR:root:'NoneType' object has no attribute 'group'\n"
     ]
    },
    {
     "name": "stdout",
     "output_type": "stream",
     "text": [
      "First name--> Morou\n",
      "Full name--> Houston\n",
      "Experience --> 0\n",
      "Designation--> []\n",
      "Education--> None\n",
      "Email--> ['SFATOKUN07@gmail.com']\n",
      "Skills--> ['python', 'workload', 'communications', 'software', 'mechanical engineering', 'databases', 'server', 'documentation', 'project management', 'database', 'support', 'collaboration', 'mobile', 'tableau', 'deployment', 'visual studio', 'snowflake', 'design', 'testing', 'confluence', 'business', 'linux', 'mysql', 'release', 'skype', 'business intelligence', 'security', 'query optimization', 'google', 'data warehouse', 'data analysis', 'data model', 'operating systems', 'workflow', 'specification']\n",
      "Phone number--> (972) 774 8628\n"
     ]
    },
    {
     "name": "stderr",
     "output_type": "stream",
     "text": [
      "ERROR:root:correct_year() missing 1 required positional argument: 'text'\n"
     ]
    },
    {
     "name": "stdout",
     "output_type": "stream",
     "text": [
      "First name--> Certified Scrum Master\n",
      "Full name--> Sheriffdeen Fatokun\n",
      "Experience --> 0\n",
      "Designation--> []\n",
      "Education--> ['Me']\n",
      "Email--> []\n",
      "Skills--> ['terraform', 'azure functions', 'python', 'windows', 'engineering', 'operating system', 'cloud storage', 'authentication', 'network security', 'visual basic', 'software', 'log management', 'databases', 'box', 'server', 'documentation', 'database', 'azure', 'support', 'multicast', 'handover', 'monitoring', 'framework', 'deployment', 'languages', 'design', 'data classification', 'testing', 'business', 'linux', 'certificate', 'computer security', 'application server', 'access control', 'javascript', 'library', 'computer science', 'centos', 'security', 'perl', 'encryption', 'parse', 'amazon web services', 'residual', 'monitoring tools', 'router', 'algorithms', 'operating systems']\n",
      "Phone number--> \n",
      "First name--> Network Monitoring\n"
     ]
    },
    {
     "name": "stderr",
     "output_type": "stream",
     "text": [
      "ERROR:root:'NoneType' object has no attribute 'end'\n"
     ]
    },
    {
     "name": "stdout",
     "output_type": "stream",
     "text": [
      "Full name--> 7 +Years\n",
      "Experience --> 0\n",
      "Designation--> []\n",
      "Education--> []\n",
      "Email--> ['siemens.saphr@gmail.com']\n",
      "Skills--> ['typescript', 'groovy', 'rest api', 'server', 'documentation', 'hibernate', 'mobile', 'libraries', 'data access', 'jenkins', 'slack', 'web service', 'linux', 'bootstrap', 'concurrency', 'kubernetes', 'javascript', 'polymer', 'user profile', 'user interface', 'karma', 'shell', 'algorithms', 'docker', 'python', 'junit', 'scala', 'flux', 'component', 'npm', 'azure', 'spring boot', 'sass', 'design', 'testing', 'business', 'front end', 'git', 'amazon kinesis', 'spring', 'java', 'protractor', 'continuous integration', 'node.js', 'jquery', 'react', 'support', 'monitoring', 'cassandra', 'framework', 'deployment', 'stylus', 'github api', 'bash', 'mysql', 'web servers', 'jasmine', 'database security', 'web app', 'vue.js', 'google', 'router', 'material design', 'analytics', 'workflow', 'terraform', 'windows', 'mongodb', 'flask', 'database', 'beanstalk', 'mocha', 'angularjs', 'angular', 'kafka', 'batch processing', 'release', 'library', 'issue tracking', 'parse', 'django']\n",
      "Phone number--> \n",
      "First name--> Saphr Email\n"
     ]
    },
    {
     "name": "stderr",
     "output_type": "stream",
     "text": [
      "ERROR:root:correct_year() missing 1 required positional argument: 'text'\n"
     ]
    },
    {
     "name": "stdout",
     "output_type": "stream",
     "text": [
      "Full name--> 9+ years\n",
      "Experience --> 0\n",
      "Designation--> []\n"
     ]
    },
    {
     "name": "stderr",
     "output_type": "stream",
     "text": [
      "WARNING:PyPDF2._reader:Superfluous whitespace found in object header b'1' b'0'\n",
      "WARNING:PyPDF2._reader:Superfluous whitespace found in object header b'2' b'0'\n",
      "WARNING:PyPDF2._reader:Superfluous whitespace found in object header b'3' b'0'\n",
      "WARNING:PyPDF2._reader:Superfluous whitespace found in object header b'38' b'0'\n",
      "WARNING:PyPDF2._reader:Superfluous whitespace found in object header b'37' b'0'\n",
      "WARNING:PyPDF2._reader:Superfluous whitespace found in object header b'11' b'0'\n",
      "WARNING:PyPDF2._reader:Superfluous whitespace found in object header b'10' b'0'\n",
      "WARNING:PyPDF2._reader:Superfluous whitespace found in object header b'9' b'0'\n",
      "WARNING:PyPDF2._reader:Superfluous whitespace found in object header b'19' b'0'\n",
      "WARNING:PyPDF2._reader:Superfluous whitespace found in object header b'18' b'0'\n",
      "WARNING:PyPDF2._reader:Superfluous whitespace found in object header b'17' b'0'\n",
      "WARNING:PyPDF2._reader:Superfluous whitespace found in object header b'27' b'0'\n",
      "WARNING:PyPDF2._reader:Superfluous whitespace found in object header b'26' b'0'\n",
      "WARNING:PyPDF2._reader:Superfluous whitespace found in object header b'25' b'0'\n",
      "WARNING:PyPDF2._reader:Superfluous whitespace found in object header b'35' b'0'\n",
      "WARNING:PyPDF2._reader:Superfluous whitespace found in object header b'34' b'0'\n",
      "WARNING:PyPDF2._reader:Superfluous whitespace found in object header b'33' b'0'\n",
      "WARNING:PyPDF2._reader:Superfluous whitespace found in object header b'36' b'0'\n",
      "WARNING:PyPDF2._reader:Superfluous whitespace found in object header b'48' b'0'\n",
      "WARNING:PyPDF2._reader:Superfluous whitespace found in object header b'46' b'0'\n",
      "WARNING:PyPDF2._reader:Superfluous whitespace found in object header b'45' b'0'\n",
      "WARNING:PyPDF2._reader:Superfluous whitespace found in object header b'44' b'0'\n",
      "WARNING:PyPDF2._reader:Superfluous whitespace found in object header b'47' b'0'\n"
     ]
    },
    {
     "name": "stdout",
     "output_type": "stream",
     "text": [
      "Education--> []\n",
      "Email--> ['bpoleary09@gmail.com']\n",
      "Skills--> ['windows', 'operating systems', 'engineering', 'deployment', 'software', 'wireless', 'server', 'documentation', 'business', 'computer network', 'ios', 'support', 'mobile']\n",
      "Phone number--> 219-644-6063\n",
      "First name--> Network Administration\n"
     ]
    },
    {
     "name": "stderr",
     "output_type": "stream",
     "text": [
      "ERROR:root:'NoneType' object has no attribute 'group'\n"
     ]
    },
    {
     "name": "stdout",
     "output_type": "stream",
     "text": [
      "Full name--> 219\n",
      "Experience --> 0\n",
      "Designation--> []\n",
      "Education--> []\n",
      "Email--> ['vashilavohra@gmail.com']\n",
      "Skills--> ['python', 'adobe photoshop', 'engineering', 'software', 'commerce', 'databases', 'box', 'debugging', 'server', 'rest api', 'documentation', 'support', 'mobile', 'dash', 'framework', 'deployment', 'visual studio', 'wordpress', 'languages', 'design', 'testing', 'business', 'browser testing', 'jquery ui', 'bootstrap', 'mysql', 'front end', 'javascript', 'computer science', 'java', 'amazon web services', 'jquery']\n",
      "Phone number--> 773-377-5001\n"
     ]
    },
    {
     "name": "stderr",
     "output_type": "stream",
     "text": [
      "ERROR:root:correct_year() missing 1 required positional argument: 'text'\n"
     ]
    },
    {
     "name": "stdout",
     "output_type": "stream",
     "text": [
      "First name--> Vashila\n",
      "Full name--> Vashila Vohra\n",
      "Experience --> 0\n",
      "Designation--> []\n",
      "Education--> []\n",
      "Email--> ['D_hussain@live.com']\n",
      "Skills--> ['python', 'engineering', 'software', 'data exchange', 'business process', 'server', 'workflow', 'markup language', 'database', 'project management', 'azure', 'support', 'libraries', 'tableau', 'framework', 'languages', 'design', 'business', 'bash', 'ai', 'data extraction', 'data quality', 'git', 'data science', 'security', 'data analysis', 'data management', 'shell', 'analytics', 'jupyter notebook', 'specification']\n",
      "Phone number--> 1267242818\n",
      "First name--> Summary Skilled\n"
     ]
    },
    {
     "name": "stderr",
     "output_type": "stream",
     "text": [
      "ERROR:root:correct_year() missing 1 required positional argument: 'text'\n"
     ]
    },
    {
     "name": "stdout",
     "output_type": "stream",
     "text": [
      "Full name--> 5 years\n",
      "Experience --> 0\n",
      "Designation--> []\n",
      "Education--> ['BS']\n",
      "Email--> ['nadum.charles@gmail.com']\n"
     ]
    },
    {
     "name": "stderr",
     "output_type": "stream",
     "text": [
      "ERROR:root:correct_year() missing 1 required positional argument: 'text'\n"
     ]
    },
    {
     "name": "stdout",
     "output_type": "stream",
     "text": [
      "Skills--> ['data quality', 'finance', 'deployment', 'testing', 'telecommunications', 'data management', 'project management', 'business', 'material', 'support']\n",
      "Phone number--> 817-507-5374\n",
      "First name--> Nadum\n",
      "Full name--> Nadum I. Charles\n",
      "Experience --> 0\n",
      "Designation--> []\n",
      "Education--> []\n",
      "Email--> ['cjmena@yahoo.com', 'cjmena@yahoo.com']\n",
      "Skills--> ['windows', 'engineering', 'software', 'network security', 'server', 'azure', 'support', 'design', 'testing', 'linux', 'ai', 'certificate', 'access control', 'web servers', 'security', 'amazon web services', 'business tools', 'router', 'analytics', 'virtual private cloud']\n",
      "Phone number--> 571-322-6396\n"
     ]
    },
    {
     "name": "stderr",
     "output_type": "stream",
     "text": [
      "ERROR:root:'NoneType' object has no attribute 'group'\n"
     ]
    },
    {
     "name": "stdout",
     "output_type": "stream",
     "text": [
      "First name--> Phone\n",
      "Full name--> 571\n",
      "Experience --> 0\n",
      "Designation--> []\n",
      "Education--> []\n",
      "Email--> ['805@gmail.com']\n",
      "Skills--> ['finance', 'software', 'oracle', 'design', 'business process', 'business administration', 'component', 'business', 'support', 'workflow', 'accounting']\n",
      "Phone number--> \n"
     ]
    },
    {
     "name": "stderr",
     "output_type": "stream",
     "text": [
      "ERROR:root:correct_year() missing 1 required positional argument: 'text'\n"
     ]
    },
    {
     "name": "stdout",
     "output_type": "stream",
     "text": [
      "First name--> Dana\n",
      "Full name--> Dana  Taylor  \n",
      "Finance Functional Analyst/Business Analyst   \n",
      " \n",
      "Contact\n",
      "Experience --> 0\n",
      "Designation--> []\n",
      "Education--> []\n",
      "Email--> ['chakarvarti.4618@gmx.com']\n",
      "Skills--> ['windows', 'python', 'software', 'oracle', 'scala', 'databases', 'box', 'business process', 'server', 'documentation', 'database', 'chef', 'azure', 'data modeling', 'support', 'data validation', 'variables', 'monitoring', 'tableau', 'database design', 'framework', 'gradle', 'zookeeper', 'snowflake', 'visualization', 'languages', 'design', 'testing', 'big data', 'postgresql', 'syntax', 'data integration', 'business', 'neo4j', 'web service', 'linux', 'data visualization', 'mysql', 'batch processing', 'git', 'schedule', 'metadata', 'business intelligence', 'utilities', 'hadoop', 'solr', 'hbase', 'deadlock', 'parse', 'impala', 'query optimization', 'apache spark', 'java', 'data warehouse', 'pandas', 'data analysis', 'parsing', 'shell', 'message queue', 'operating systems', 'airflow']\n",
      "Phone number--> 8904864\n",
      "First name--> Unit Testing\n"
     ]
    },
    {
     "name": "stderr",
     "output_type": "stream",
     "text": [
      "ERROR:root:correct_year() missing 1 required positional argument: 'text'\n"
     ]
    },
    {
     "name": "stdout",
     "output_type": "stream",
     "text": [
      "Full name--> DYAL CHAKARVARTI\n",
      "\n",
      "\n",
      "Experience --> 0\n",
      "Designation--> []\n",
      "Education--> ['MS']\n",
      "Email--> ['Rao.kiran0000@gmx.com']\n",
      "Skills--> ['windows', 'python', 'software', 'oracle', 'scala', 'databases', 'box', 'business process', 'server', 'documentation', 'database', 'chef', 'azure', 'data modeling', 'support', 'data validation', 'variables', 'monitoring', 'tableau', 'database design', 'framework', 'gradle', 'zookeeper', 'snowflake', 'visualization', 'languages', 'design', 'testing', 'big data', 'postgresql', 'syntax', 'data integration', 'business', 'neo4j', 'web service', 'linux', 'data visualization', 'mysql', 'batch processing', 'git', 'swift', 'schedule', 'metadata', 'business intelligence', 'utilities', 'hadoop', 'solr', 'hbase', 'deadlock', 'parse', 'impala', 'query optimization', 'apache spark', 'java', 'data warehouse', 'pandas', 'data analysis', 'parsing', 'shell', 'message queue', 'operating systems', 'airflow']\n",
      "Phone number--> 8904864\n",
      "First name--> Kiran\n"
     ]
    },
    {
     "name": "stderr",
     "output_type": "stream",
     "text": [
      "ERROR:root:correct_year() missing 1 required positional argument: 'text'\n"
     ]
    },
    {
     "name": "stdout",
     "output_type": "stream",
     "text": [
      "Full name--> Kiran Rao\n",
      "Experience --> 0\n",
      "Designation--> []\n",
      "Education--> ['MS']\n",
      "Email--> ['Josh164512@gmail.com']\n",
      "Skills--> ['engineering', 'software', 'design', 'schedule', 'project management', 'business', 'material', 'support', 'marketing', 'power management', 'front end']\n",
      "Phone number--> \n"
     ]
    },
    {
     "name": "stderr",
     "output_type": "stream",
     "text": [
      "ERROR:root:'NoneType' object has no attribute 'group'\n"
     ]
    },
    {
     "name": "stdout",
     "output_type": "stream",
     "text": [
      "First name--> Joshua\n",
      "Full name--> Joshua Erickson\n",
      "Experience --> 0\n",
      "Designation--> []\n",
      "Education--> []\n",
      "Email--> ['Preethi.java45@gmail.com']\n",
      "Skills--> ['windows', 'interaction', 'engineering', 'high availability', 'oracle', 'jquery', 'databases', 'debugging', 'server', 'database', 'hibernate', 'support', 'spring boot', 'sonar', 'cloud foundry', 'cassandra', 'framework', 'spring cloud', 'angular', 'deployment', 'jenkins', 'design', 'testing', 'devops', 'web service', 'code quality', 'business', 'linux', 'mysql', 'bootstrap', 'front end', 'aws lambda', 'kubernetes', 'computer science', 'eureka', 'spring', 'java', 'eclipse', 'docker', 'operating systems', 'github']\n",
      "Phone number--> \n"
     ]
    },
    {
     "name": "stderr",
     "output_type": "stream",
     "text": [
      "ERROR:root:correct_year() missing 1 required positional argument: 'text'\n"
     ]
    },
    {
     "name": "stdout",
     "output_type": "stream",
     "text": [
      "First name--> Core Java\n",
      "Full name--> Senior Full Stack Java\n",
      "Experience --> 0\n",
      "Designation--> []\n",
      "Education--> []\n",
      "Email--> ['Ajay12.c@yandex.com']\n",
      "Skills--> ['rest api', 'server', 'documentation', 'mobile', 'data structures', 'zookeeper', 'big data', 'postgresql', 'devops', 'data integration', 'linux', 'kubernetes', 'utilities', 'relay', 'amazon web services', 'visual studio code', 'elasticsearch', 'docker', 'shell', 'algorithms', 'github', 'python', 'junit', 'engineering', 'high availability', 'oracle', 'scala', 'azure', 'spring boot', 'database design', 'design', 'testing', 'business', 'workflow manager', 'presto', 'git', 'computer science', 'perl', 'security', 'java', 'twitter', 'microsoft azure', 'eclipse', 'bamboo', 'software', 'databases', 'debugging', 'data modeling', 'big data tools', 'support', 'monitoring', 'cassandra', 'framework', 'bash', 'mysql', 'metadata', 'business intelligence', 'ubuntu', 'throughput', 'file system', 'bitbucket', 'computation', 'data warehouse', 'router', 'operating systems', 'analytics', 'workflow', 'virtual private cloud', 'windows', 'mongodb', 'rabbitmq', 'database', 'beanstalk', 'kafka', 'snowflake', 'nosql', 'languages', 'storm', 'hadoop', 'query optimization', 'data management', 'airflow', 'specification']\n",
      "Phone number--> 9802690848\n",
      "First name--> Ajay\n"
     ]
    },
    {
     "name": "stderr",
     "output_type": "stream",
     "text": [
      "ERROR:root:'NoneType' object has no attribute 'group'\n"
     ]
    },
    {
     "name": "stdout",
     "output_type": "stream",
     "text": [
      "Full name--> Ajay\n",
      "\n",
      "Phone\n",
      "Experience --> 0\n",
      "Designation--> []\n",
      "Education--> ['MS']\n",
      "Email--> ['Al.askaSalesforce@gmail.com']\n"
     ]
    },
    {
     "name": "stderr",
     "output_type": "stream",
     "text": [
      "ERROR:root:'NoneType' object has no attribute 'group'\n"
     ]
    },
    {
     "name": "stdout",
     "output_type": "stream",
     "text": [
      "Skills--> ['engineering', 'framework', 'oracle', 'content management', 'computer science', 'server', 'business', 'database', 'github', 'tracking system', 'marketing', 'mysql']\n",
      "Phone number--> (907) 202 4354\n",
      "First name--> Inc Salesforce\n",
      "Full name--> Brian Thornton\n",
      "Experience --> 0\n",
      "Designation--> []\n",
      "Education--> []\n",
      "Email--> ['Avinashsnow1@gmail.com']\n",
      "Skills--> ['windows', 'datadog', 'software', 'operations management', 'databases', 'server', 'documentation', 'database', 'hibernate', 'mobile', 'libraries', 'angularjs', 'angular', 'languages', 'design', 'business', 'linux', 'mysql', 'release', 'javascript', 'content management', 'computer science', 'eureka', 'amp', 'security', 'user interface', 'java', 'ansible', 'shell', 'operating systems', 'jquery', 'workflow', 'specification']\n",
      "Phone number--> 917-309-2411\n",
      "First name--> Avinash\n"
     ]
    },
    {
     "name": "stderr",
     "output_type": "stream",
     "text": [
      "ERROR:root:correct_year() missing 1 required positional argument: 'text'\n"
     ]
    },
    {
     "name": "stdout",
     "output_type": "stream",
     "text": [
      "Full name--> 917\n",
      "Experience --> 0\n",
      "Designation--> []\n",
      "Education--> ['MS']\n",
      "Email--> ['vic@hotmail.c']\n",
      "Skills--> ['engineering', 'schedule', 'design', 'fabric', 'support']\n",
      "Phone number--> (720) 601-6805\n",
      "First name--> Thomas\n",
      "Full name--> Thomas D\n",
      "Experience --> None\n",
      "Designation--> []\n",
      "Education--> []\n",
      "Email--> ['saipranavveera@gmail.com']\n",
      "Skills--> ['windows', 'python', 'software', 'oracle', 'operations management', 'databases', 'box', 'server', 'documentation', 'project management', 'database', 'information retrieval', 'support', 'monitoring', 'libraries', 'framework', 'languages', 'design', 'testing', 'business', 'bash', 'openstack', 'stripe', 'linux', 'web service', 'ajax', 'mysql', 'front end', 'release', 'git', 'knowledge management', 'schedule', 'javascript', 'content management', 'library', 'system integration', 'correctness', 'continuous integration', 'crystal', 'knowledge base', 'pandas', 'shell', 'operating systems', 'jquery', 'workflow']\n",
      "Phone number--> 510-936-0256\n",
      "First name--> Pranav\n"
     ]
    },
    {
     "name": "stderr",
     "output_type": "stream",
     "text": [
      "ERROR:root:'NoneType' object has no attribute 'group'\n"
     ]
    },
    {
     "name": "stdout",
     "output_type": "stream",
     "text": [
      "Full name--> Sai Pranav \n",
      "\n",
      "Sr\n",
      "Experience --> 0\n",
      "Designation--> []\n",
      "Education--> ['MS']\n",
      "Email--> ['karl_b_robertson@yahoo.com']\n",
      "Skills--> ['windows', 'communications', 'engineering', 'software', 'testing', 'system integration', 'data management', 'box', 'business', 'database', 'project management', 'support', 'business administration', 'industrial engineering', 'material']\n",
      "Phone number--> 719-623-9132\n",
      "First name--> Project\n"
     ]
    },
    {
     "name": "stderr",
     "output_type": "stream",
     "text": [
      "ERROR:root:correct_year() missing 1 required positional argument: 'text'\n"
     ]
    },
    {
     "name": "stdout",
     "output_type": "stream",
     "text": [
      "Full name--> KARL B. ROBERTSON\n",
      "Experience --> 0\n",
      "Designation--> []\n",
      "Education--> ['ME', 'MS']\n",
      "Email--> ['himabindu1046@gmail.com']\n",
      "Skills--> ['server', 'data structures', 'visualization', 'tensorflow', 'big data', 'postgresql', 'data integration', 'web service', 'linux', 'reverse engineering', 'kubernetes', 'utilities', 'impala', 'apache spark', 'linear regression', 'shell', 'docker', 'datadog', 'apache tomcat', 'python', 'engineering', 'oracle', 'scala', 'visual basic', 'component', 'programming language', 'azure', 'stream processing', 'dash', 'design', 'testing', 'business', 'git', 'yarn', 'text mining', 'java', 'ml', 'keras', 'eclipse', 'software', 'databases', 'big data tools', 'data modeling', 'support', 'monitoring', 'cassandra', 'framework', 'deployment', 'numpy', 'mysql', 'business intelligence', 'logistic regression', 'ansible', 'bitbucket', 'google', 'data warehouse', 'pandas', 'terraform', 'windows', 'operating system', 'mongodb', 'database', 'machine learning', 'variables', 'tableau', 'kafka', 'snowflake', 'nosql', 'languages', 'storm', 'confluence', 'data visualization', 'library', 'hadoop', 'hbase', 'query optimization', 'cluster management', 'data analysis', 'data model', 'data management', 'data stores', 'parse', 'airflow', 'specification']\n",
      "Phone number--> 302-365-0713\n",
      "First name--> Data Engineer\n"
     ]
    },
    {
     "name": "stderr",
     "output_type": "stream",
     "text": [
      "ERROR:root:correct_year() missing 1 required positional argument: 'text'\n"
     ]
    },
    {
     "name": "stdout",
     "output_type": "stream",
     "text": [
      "Full name--> 302\n",
      "Experience --> 0\n",
      "Designation--> []\n",
      "Education--> ['MS']\n",
      "Email--> ['Snow.sid849@gmail.com']\n",
      "Skills--> ['adobe photoshop', 'engineering', 'software', 'jquery', 'authentication', 'commerce', 'databases', 'rest api', 'debugging', 'server', 'documentation', 'machine learning', 'azure', 'project management', 'data validation', 'support', 'database', 'chrome', 'variables', 'monitoring', 'data access', 'gauges', 'angular', 'visual studio', 'deployment', 'font', 'languages', 'design', 'testing', 'analytics', 'business', 'linux', 'ajax', 'bootstrap', 'front end', 'release', 'git', 'paypal', 'dynamic data', 'knowledge management', 'schedule', 'javascript', 'access control', 'perl', 'security', 'parse', 'help desk', 'user interface', 'java', 'google', 'amazon web services', 'finance', 'firefox', 'knowledge base', 'search engine', 'shell', 'operating systems', 'github', 'workflow']\n",
      "Phone number--> 571-345-5198\n",
      "First name--> Sidhartha\n"
     ]
    },
    {
     "name": "stderr",
     "output_type": "stream",
     "text": [
      "ERROR:root:correct_year() missing 1 required positional argument: 'text'\n"
     ]
    },
    {
     "name": "stdout",
     "output_type": "stream",
     "text": [
      "Full name--> Sidhartha Ananthula \n",
      "\n",
      "Snow.sid849@gmail.com\n",
      "Experience --> 0\n",
      "Designation--> []\n",
      "Education--> ['MS']\n",
      "Email--> []\n",
      "Skills--> ['windows', 'python', 'operating system', 'engineering', 'software engineering', 'software', 'network security', 'authentication', 'log management', 'databases', 'server', 'documentation', 'database', 'azure', 'chef', 'multicast', 'mobile', 'support', 'virtual machine', 'sonar', 'monitoring', 'libraries', 'framework', 'deployment', 'visualization', 'scanner', 'testing', 'business', 'linux', 'scripting language', 'computer security', 'access control', 'javascript', 'web servers', 'utilities', 'encryption', 'security', 'parsing', 'router']\n",
      "Phone number--> 903-366-7773\n",
      "First name--> Blue Coat\n"
     ]
    },
    {
     "name": "stderr",
     "output_type": "stream",
     "text": [
      "ERROR:root:correct_year() missing 1 required positional argument: 'text'\n"
     ]
    },
    {
     "name": "stdout",
     "output_type": "stream",
     "text": [
      "Full name--> Chetan Preet\n",
      "Experience --> 0\n",
      "Designation--> []\n",
      "Education--> ['Me']\n",
      "Email--> ['mohanservice82@gmail.com']\n",
      "Skills--> ['software', 'authentication', 'databases', 'rest api', 'business process', 'server', 'debugging', 'documentation', 'database', 'support', 'framework', 'angular', 'deployment', 'languages', 'design', 'testing', 'business', 'web service', 'mysql', 'release', 'knowledge management', 'javascript', 'content management', 'computer science', 'security', 'amazon web services', 'shell', 'analytics', 'jquery', 'data flow diagram']\n",
      "Phone number--> 818-1809\n"
     ]
    },
    {
     "name": "stderr",
     "output_type": "stream",
     "text": [
      "ERROR:root:correct_year() missing 1 required positional argument: 'text'\n"
     ]
    },
    {
     "name": "stdout",
     "output_type": "stream",
     "text": [
      "First name--> Mohan\n",
      "Full name--> Mohan Chaitanya\n",
      "\n",
      "Phone\n",
      "Experience --> 0\n",
      "Designation--> []\n",
      "Education--> []\n",
      "Email--> []\n",
      "Skills--> ['terraform', 'windows', 'python', 'middleware', 'engineering', 'apache tomcat', 'data transmission', 'bamboo', 'software', 'oracle', 'groovy', 'databases', 'vault', 'gitlab', 'server', 'debugging', 'chef', 'azure', 'database', 'data modeling', 'support', 'mobile', 'monitoring', 'android', 'operating systems', 'gradle', 'tower', 'framework', 'deployment', 'design', 'testing', 'nginx', 'rotation', 'devops', 'business', 'bash', 'code quality', 'linux', 'ios', 'certificate', 'release', 'microsoft iis', 'git', 'reverse engineering', 'aws lambda', 'computer security', 'application server', 'kubernetes', 'access control', 'javascript', 'web servers', 'medium', 'amazon ec2', 'encryption', 'security', 'spring', 'perl', 'ansible', 'continuous integration', 'java', 'amazon web services', 'microsoft azure', 'docker', 'source code', 'jquery', 'virtual private cloud', 'azure storage']\n",
      "Phone number--> \n",
      "First name--> Karthik\n"
     ]
    },
    {
     "name": "stderr",
     "output_type": "stream",
     "text": [
      "ERROR:root:'NoneType' object has no attribute 'group'\n"
     ]
    },
    {
     "name": "stdout",
     "output_type": "stream",
     "text": [
      "Full name--> New York University NYU\n",
      "Experience --> 0\n",
      "Designation--> []\n"
     ]
    },
    {
     "name": "stderr",
     "output_type": "stream",
     "text": [
      "WARNING:PyPDF2._reader:Xref table not zero-indexed. ID numbers for objects will be corrected.\n",
      "WARNING:PyPDF2._reader:Previous trailer can not be read (\"'NumberObject' object is not subscriptable\",)\n",
      "WARNING:PyPDF2._reader:Superfluous whitespace found in object header b'j' b'<<'\n",
      "WARNING:PyPDF2._reader:Object ID 8,0 ref repaired\n",
      "WARNING:PyPDF2._reader:Object 5 0 found\n",
      "WARNING:PyPDF2._reader:Superfluous whitespace found in object header b'bj' b'<<'\n",
      "WARNING:PyPDF2._reader:Object ID 10,0 ref repaired\n",
      "WARNING:PyPDF2._reader:Object 1 0 found\n",
      "WARNING:PyPDF2._reader:Superfluous whitespace found in object header b'bj' b'<<'\n",
      "WARNING:PyPDF2._reader:Object ID 23,0 ref repaired\n",
      "WARNING:PyPDF2._reader:Superfluous whitespace found in object header b'bj' b'<<'\n",
      "WARNING:PyPDF2._reader:Object ID 28,0 ref repaired\n",
      "WARNING:PyPDF2._reader:Superfluous whitespace found in object header b'bj' b'<<'\n",
      "WARNING:PyPDF2._reader:Object ID 13,0 ref repaired\n",
      "WARNING:PyPDF2._reader:Superfluous whitespace found in object header b'bj' b'<<'\n",
      "WARNING:PyPDF2._reader:Object ID 29,0 ref repaired\n",
      "WARNING:PyPDF2._reader:Superfluous whitespace found in object header b'bj' b'<<'\n",
      "WARNING:PyPDF2._reader:Object ID 12,0 ref repaired\n",
      "WARNING:PyPDF2._reader:Superfluous whitespace found in object header b'bj' b'<<'\n",
      "WARNING:PyPDF2._reader:Object ID 16,0 ref repaired\n",
      "WARNING:PyPDF2._reader:Superfluous whitespace found in object header b'bj' b'<<'\n",
      "WARNING:PyPDF2._reader:Object ID 15,0 ref repaired\n",
      "WARNING:PyPDF2._reader:Superfluous whitespace found in object header b'bj' b'<<'\n",
      "WARNING:PyPDF2._reader:Object ID 19,0 ref repaired\n",
      "WARNING:PyPDF2._reader:Superfluous whitespace found in object header b'bj' b'<<'\n",
      "WARNING:PyPDF2._reader:Object ID 18,0 ref repaired\n",
      "WARNING:PyPDF2._reader:Superfluous whitespace found in object header b'bj' b'<<'\n",
      "WARNING:PyPDF2._reader:Object ID 22,0 ref repaired\n",
      "WARNING:PyPDF2._reader:Superfluous whitespace found in object header b'bj' b'<<'\n",
      "WARNING:PyPDF2._reader:Object ID 30,0 ref repaired\n",
      "WARNING:PyPDF2._reader:Superfluous whitespace found in object header b'bj' b'<<'\n",
      "WARNING:PyPDF2._reader:Object ID 21,0 ref repaired\n",
      "WARNING:PyPDF2._reader:Object 2 0 found\n",
      "WARNING:PyPDF2._reader:Object 3 0 found\n"
     ]
    },
    {
     "name": "stdout",
     "output_type": "stream",
     "text": [
      "Education--> None\n",
      "Email--> ['bbogert87@Gmail.com']\n"
     ]
    },
    {
     "name": "stderr",
     "output_type": "stream",
     "text": [
      "ERROR:root:correct_year() missing 1 required positional argument: 'text'\n"
     ]
    },
    {
     "name": "stdout",
     "output_type": "stream",
     "text": [
      "Skills--> ['windows', 'engineering', 'software', 'business', 'security', 'operating systems', 'support', 'help desk']\n",
      "Phone number--> 704-256-0506\n",
      "First name--> Phoenix\n",
      "Full name--> 1311\n",
      "Experience --> 0\n",
      "Designation--> []\n",
      "Education--> []\n",
      "Email--> ['McCorkle.Denis@outlook.com']\n"
     ]
    },
    {
     "name": "stderr",
     "output_type": "stream",
     "text": [
      "ERROR:root:'NoneType' object has no attribute 'group'\n"
     ]
    },
    {
     "name": "stdout",
     "output_type": "stream",
     "text": [
      "Skills--> ['windows', 'systems management', 'software', 'macos', 'linux', 'server', 'business administration', 'support', 'help desk']\n",
      "Phone number--> 602-587-8900\n",
      "First name--> Network Administration\n",
      "Full name--> DENIS\n",
      "Experience --> 0\n",
      "Designation--> []\n",
      "Education--> ['MS']\n",
      "Email--> ['y@gmail.c']\n",
      "Skills--> ['windows', 'python', 'mongodb', 'flask', 'software', 'oracle', 'scala', 'jquery', 'databases', 'programming language', 'server', 'relational database', 'documentation', 'machine learning', 'database', 'business process', 'data modeling', 'libraries', 'tableau', 'cassandra', 'angularjs', 'framework', 'appium', 'angular', 'snowflake', 'design', 'testing', 'big data', 'atom', 'numpy', 'tensorflow', 'business', 'adaboost', 'neo4j', 'google analytics', 'data visualization', 'confluence', 'mysql', 'front end', 'nlp', 'bootstrap', 'notepad++', 'git', 'sublime text', 'metadata', 'kubernetes', 'javascript', 'pycharm', 'pytorch', 'security', 'ansible', 'bitbucket', 'data mining', 'dropbox', 'data warehouse', 'pandas', 'scalability', 'data analysis', 'django rest framework', 'eclipse', 'docker', 'selenium', 'plotly', 'analytics', 'django']\n",
      "Phone number--> 5864306697\n",
      "First name--> Revathi\n"
     ]
    },
    {
     "name": "stderr",
     "output_type": "stream",
     "text": [
      "ERROR:root:correct_year() missing 1 required positional argument: 'text'\n"
     ]
    },
    {
     "name": "stdout",
     "output_type": "stream",
     "text": [
      "Full name--> Nandini Penumarthy\n",
      "Experience --> 0\n",
      "Designation--> []\n",
      "Education--> ['MS']\n",
      "Email--> ['aayushiagrawal336@gmail.com']\n",
      "Skills--> ['apache tomcat', 'windows', 'communications', 'engineering', 'software', 'oracle', 'databases', 'business process', 'server', 'documentation', 'project management', 'database', 'data modeling', 'support', 'monitoring', 'framework', 'deployment', 'languages', 'design', 'stars', 'testing', 'business', 'web service', 'linux', 'mysql', 'front end', 'release', 'reverse engineering', 'schedule', 'javascript', 'library', 'computer science', 'security', 'database tools', 'java', 'data warehouse', 'scalability', 'data analysis', 'data management', 'eclipse', 'shell', 'analytics', 'jquery', 'workflow']\n",
      "Phone number--> (903) 289 1374\n",
      "First name--> Aayushi\n"
     ]
    },
    {
     "name": "stderr",
     "output_type": "stream",
     "text": [
      "ERROR:root:correct_year() missing 1 required positional argument: 'text'\n"
     ]
    },
    {
     "name": "stdout",
     "output_type": "stream",
     "text": [
      "Full name--> Aayushi  Agarawal\n",
      "\n",
      "                                                                                                                                                   Service Now\n",
      "Experience --> 0\n",
      "Designation--> []\n",
      "Education--> ['MS']\n",
      "Email--> []\n",
      "Skills--> ['windows', 'operating system', 'engineering', 'software', 'oracle', 'authentication', 'server', 'documentation', 'database', 'project management', 'support', 'variables', 'monitoring', 'angular', 'languages', 'design', 'testing', 'rotation', 'quality of service', 'business', 'linux', 'release', 'knowledge management', 'javascript', 'computer science', 'security', 'crystal', 'shell', 'operating systems', 'workflow']\n",
      "Phone number--> (469)3290763\n"
     ]
    },
    {
     "name": "stderr",
     "output_type": "stream",
     "text": [
      "ERROR:root:correct_year() missing 1 required positional argument: 'text'\n"
     ]
    },
    {
     "name": "stdout",
     "output_type": "stream",
     "text": [
      "First name--> Prinesh\n",
      "Full name--> ServiceNow Developer/Admin\n",
      "Experience --> 0\n",
      "Designation--> []\n",
      "Education--> ['MS']\n",
      "Email--> ['ramitgupta05@gmail.com']\n",
      "Skills--> ['engineering', 'deep learning', 'mechanical engineering', 'design', 'testing', 'utilities', 'material', 'systems engineering', 'manufacturing engineering', 'ai']\n",
      "Phone number--> 480-252-3230\n",
      "First name--> Yakima Way\n"
     ]
    },
    {
     "name": "stderr",
     "output_type": "stream",
     "text": [
      "ERROR:root:correct_year() missing 1 required positional argument: 'text'\n"
     ]
    },
    {
     "name": "stdout",
     "output_type": "stream",
     "text": [
      "Full name--> Aurora\n",
      "Experience --> 0\n",
      "Designation--> []\n",
      "Education--> []\n",
      "Email--> ['kishoretallurim1@gmail.com']\n",
      "Skills--> ['engineering', 'electrical engineering', 'software', 'oracle', 'databases', 'server', 'documentation', 'web server', 'database', 'support', 'variables', 'framework', 'deployment', 'trello', 'languages', 'design', 'testing', 'business', 'web service', 'ajax', 'mysql', 'release', 'knowledge management', 'access control', 'javascript', 'content management', 'schedule', 'application server', 'business intelligence', 'time tracking', 'security', 'java', 'eclipse', 'jquery', 'workflow']\n",
      "Phone number--> 669-245-6616\n",
      "First name--> Kishore\n",
      "Full name--> 669\n"
     ]
    },
    {
     "name": "stderr",
     "output_type": "stream",
     "text": [
      "ERROR:root:correct_year() missing 1 required positional argument: 'text'\n"
     ]
    },
    {
     "name": "stdout",
     "output_type": "stream",
     "text": [
      "Experience --> 0\n",
      "Designation--> []\n",
      "Education--> ['MS']\n",
      "Email--> ['vijay@metateksystems.com']\n",
      "Skills--> ['apache tomcat', 'windows', 'junit', 'software', 'authentication', 'databases', 'debugging', 'server', 'documentation', 'project management', 'database', 'system testing', 'support', 'hibernate', 'variables', 'monitoring', 'libraries', 'database design', 'framework', 'deployment', 'design', 'testing', 'business', 'front end', 'release', 'knowledge management', 'application server', 'javascript', 'content management', 'java', 'eclipse', 'jquery', 'workflow', 'specification']\n",
      "Phone number--> 234-4115\n"
     ]
    },
    {
     "name": "stderr",
     "output_type": "stream",
     "text": [
      "ERROR:root:correct_year() missing 1 required positional argument: 'text'\n"
     ]
    },
    {
     "name": "stdout",
     "output_type": "stream",
     "text": [
      "First name--> Shilpa\n",
      "Full name--> ServiceNow\n",
      "Experience --> 0\n",
      "Designation--> []\n",
      "Education--> []\n",
      "Email--> ['dmkanesh@hotmail.com']\n",
      "Skills--> ['windows', 'operating system', 'computer programming', 'deployment', 'software', 'languages', 'design', 'databases', 'documentation', 'business', 'encryption', 'security', 'operating systems', 'support']\n",
      "Phone number--> 4803750128\n"
     ]
    },
    {
     "name": "stderr",
     "output_type": "stream",
     "text": [
      "ERROR:root:correct_year() missing 1 required positional argument: 'text'\n"
     ]
    },
    {
     "name": "stdout",
     "output_type": "stream",
     "text": [
      "First name--> Chandler\n",
      "Full name--> 215\n",
      "Experience --> 0\n",
      "Designation--> []\n",
      "Education--> ['MS']\n",
      "Email--> ['vinodk@workstam.com']\n",
      "Skills--> ['adobe photoshop', 'junit', 'interaction', 'react', 'webpack', 'software', 'visual basic', 'oracle', 'flux', 'databases', 'debugging', 'server', 'documentation', 'project management', 'database', 'support', 'variables', 'libraries', 'angularjs', 'framework', 'gauges', 'angular', 'deployment', 'languages', 'design', 'testing', 'data structure', 'play', 'create react app', 'business', 'ajax', 'bootstrap', 'command line interface', 'release', 'access control', 'schedule', 'content management', 'javascript', 'security', 'redux', 'enzyme', 'java', 'operating systems', 'jquery', 'workflow', 'marketing']\n",
      "Phone number--> \n",
      "First name--> Change\n"
     ]
    },
    {
     "name": "stderr",
     "output_type": "stream",
     "text": [
      "ERROR:root:correct_year() missing 1 required positional argument: 'text'\n"
     ]
    },
    {
     "name": "stdout",
     "output_type": "stream",
     "text": [
      "Full name--> 9+ years\n",
      "Experience --> 0\n",
      "Designation--> []\n",
      "Education--> ['MS']\n",
      "Email--> ['Peter@LongPeter.com']\n",
      "Skills--> ['monitoring', 'engineering', 'deployment', 'software', 'knowledge base', 'project management', 'business', 'support']\n",
      "Phone number--> (480) 784-7457\n",
      "First name--> Peter\n"
     ]
    },
    {
     "name": "stderr",
     "output_type": "stream",
     "text": [
      "ERROR:root:correct_year() missing 1 required positional argument: 'text'\n"
     ]
    },
    {
     "name": "stdout",
     "output_type": "stream",
     "text": [
      "Full name--> Peter Long\n",
      "\n",
      "Chandler\n",
      "Experience --> 0\n",
      "Designation--> []\n",
      "Education--> []\n",
      "Email--> ['rroykane4@gmail.com']\n",
      "Skills--> ['terraform', 'windows', 'operating system', 'middleware', 'interaction', 'python', 'communications', 'high availability', 'queue', 'software', 'oracle', 'junit', 'databases', 'box', 'helm', 'server', 'debugging', 'documentation', 'database', 'azure', 'project management', 'source code', 'support', 'hibernate', 'variables', 'monitoring', 'web components', 'framework', 'tower', 'deployment', 'jenkins', 'design', 'testing', 'analytics', 'business', 'web service', 'linux', 'data retrieval', 'electronic engineering', 'ajax', 'mysql', 'front end', 'release', 'git', 'aws lambda', 'synchronization', 'knowledge management', 'kubernetes', 'javascript', 'access control', 'web servers', 'schedule', 'application server', 'utilities', 'amazon ec2', 'centos', 'security', 'file system', 'database security', 'user interface', 'java', 'ansible', 'bitbucket', 'finance', 'monitoring tools', 'publishing', 'process management', 'shell', 'docker', 'parse', 'jquery', 'workflow', 'specification']\n",
      "Phone number--> (804) 213-2512\n",
      "First name--> Kane US Citizen\n"
     ]
    },
    {
     "name": "stderr",
     "output_type": "stream",
     "text": [
      "ERROR:root:'NoneType' object has no attribute 'end'\n"
     ]
    },
    {
     "name": "stdout",
     "output_type": "stream",
     "text": [
      "Full name--> Kane\n",
      "Experience --> 0\n",
      "Designation--> []\n",
      "Education--> []\n",
      "Email--> ['RogerBass85@yahoo.com']\n",
      "Skills--> ['android', 'windows', 'certificate', 'operating system', 'framework', 'deployment', 'software', 'task management', 'testing', 'mobile', 'documentation', 'security', 'operating systems', 'support', 'ios', 'electronic engineering']\n",
      "Phone number--> 480 285 6218\n",
      "First name--> Contact\n"
     ]
    },
    {
     "name": "stderr",
     "output_type": "stream",
     "text": [
      "ERROR:root:correct_year() missing 1 required positional argument: 'text'\n"
     ]
    },
    {
     "name": "stdout",
     "output_type": "stream",
     "text": [
      "Full name--> Roger Bass\n",
      "\n",
      " \n",
      "\n",
      "\n",
      "\n",
      "\n",
      "\n",
      "Address:\n",
      "\n",
      "Glendale\n",
      "Experience --> 0\n",
      "Designation--> []\n",
      "Education--> ['MS']\n",
      "Email--> ['garyshreffler@hotmail.com']\n",
      "Skills--> ['windows', 'communications', 'workload', 'software', 'vault', 'project management', 'support', 'mobile', 'wireless', 'android', 'fusion', 'business', 'ios', 'computer hardware', 'encryption', 'security', 'help desk', 'data center', 'data mining', 'knowledge base', 'operating systems']\n",
      "Phone number--> 602.592.5925\n"
     ]
    },
    {
     "name": "stderr",
     "output_type": "stream",
     "text": [
      "ERROR:root:'NoneType' object has no attribute 'group'\n"
     ]
    },
    {
     "name": "stdout",
     "output_type": "stream",
     "text": [
      "First name--> Gary\n",
      "Full name--> Gary L Shreffler\n",
      "\n",
      "Onsite\n",
      "Experience --> 0\n",
      "Designation--> []\n",
      "Education--> ['MS']\n",
      "Email--> []\n",
      "Skills--> ['windows', 'network performance', 'deployment', 'software', 'wireless', 'databases', 'ethernet', 'router', 'server', 'business', 'database', 'security', 'remote control', 'support']\n",
      "Phone number--> 480-228-1590\n"
     ]
    },
    {
     "name": "stderr",
     "output_type": "stream",
     "text": [
      "ERROR:root:correct_year() missing 1 required positional argument: 'text'\n"
     ]
    },
    {
     "name": "stdout",
     "output_type": "stream",
     "text": [
      "First name--> Chris\n",
      "Full name--> Chris Durschmidt\n",
      "Experience --> 0\n",
      "Designation--> []\n",
      "Education--> ['MS']\n",
      "Email--> ['chelv1416@yahoo.com']\n",
      "Skills--> ['windows', 'operating system', 'software', 'oracle', 'server', 'relational database', 'simulation', 'support', 'mobile', 'monitoring', 'deployment', 'telephony', 'design', 'testing', 'telecommunications', 'medium', 'security', 'help desk', 'operating systems']\n",
      "Phone number--> (623) 229-6680\n"
     ]
    },
    {
     "name": "stderr",
     "output_type": "stream",
     "text": [
      "ERROR:root:'NoneType' object has no attribute 'group'\n"
     ]
    },
    {
     "name": "stdout",
     "output_type": "stream",
     "text": [
      "First name--> Pocholo\n",
      "Full name--> Arizona\n",
      "Experience --> 0\n",
      "Designation--> []\n",
      "Education--> ['MS']\n",
      "Email--> ['syed786uk@yahoo.com']\n",
      "Skills--> ['monitoring', 'windows', 'operating system', 'software', 'wireless', 'computer science', 'box', 'documentation', 'business', 'security', 'operating systems', 'support', 'mobile', 'help desk']\n",
      "Phone number--> 480-531-3303\n",
      "First name--> Syed\n"
     ]
    },
    {
     "name": "stderr",
     "output_type": "stream",
     "text": [
      "ERROR:root:correct_year() missing 1 required positional argument: 'text'\n"
     ]
    },
    {
     "name": "stdout",
     "output_type": "stream",
     "text": [
      "Full name--> 480\n",
      "Experience --> 0\n",
      "Designation--> []\n",
      "Education--> ['MS']\n",
      "Email--> ['adela.martell@gmail.com']\n"
     ]
    },
    {
     "name": "stderr",
     "output_type": "stream",
     "text": [
      "ERROR:root:correct_year() missing 1 required positional argument: 'text'\n"
     ]
    },
    {
     "name": "stdout",
     "output_type": "stream",
     "text": [
      "Skills--> ['windows', 'software', 'documentation', 'security', 'support']\n",
      "Phone number--> (602) 568-7775\n",
      "First name--> Phoenix\n",
      "Full name--> CONTACT \n",
      "Address\n",
      "Experience --> 0\n",
      "Designation--> []\n",
      "Education--> []\n",
      "Email--> ['9@OUTLOOK.COM']\n",
      "Skills--> ['queue', 'data center', 'windows', 'android', 'deployment', 'software', 'wireless', 'schedule', 'testing', 'server', 'documentation', 'database', 'encryption', 'security', 'ios', 'support', 'mobile', 'marketing']\n",
      "Phone number--> 480.757.4134\n"
     ]
    },
    {
     "name": "stderr",
     "output_type": "stream",
     "text": [
      "ERROR:root:correct_year() missing 1 required positional argument: 'text'\n"
     ]
    },
    {
     "name": "stdout",
     "output_type": "stream",
     "text": [
      "First name--> DAVID\n",
      "Full name--> 2018\n",
      "Experience --> 0\n",
      "Designation--> []\n",
      "Education--> ['MS']\n",
      "Email--> ['anjali.mehra111@inbox.lv']\n",
      "Skills--> ['windows', 'junit', 'workload', 'middleware', 'software', 'oracle', 'databases', 'rest api', 'debugging', 'server', 'component', 'documentation', 'database', 'system testing', 'business process', 'support', 'accounting', 'monitoring', 'data access', 'framework', 'hybrid system', 'languages', 'design', 'testing', 'big data', 'business', 'data extraction', 'front end', 'release', 'code coverage', 'javascript', 'throughput', 'utilities', 'hadoop', 'encryption', 'compiler', 'user interface', 'diagram', 'database tools', 'data warehouse', 'analytics', 'postman', 'workflow', 'specification']\n",
      "Phone number--> \n",
      "First name--> Anjali Mehra Mail\n"
     ]
    },
    {
     "name": "stderr",
     "output_type": "stream",
     "text": [
      "ERROR:root:correct_year() missing 1 required positional argument: 'text'\n"
     ]
    },
    {
     "name": "stdout",
     "output_type": "stream",
     "text": [
      "Full name--> Anjali Mehra\n",
      "Experience --> 0\n",
      "Designation--> []\n",
      "Education--> ['MS']\n",
      "Email--> ['jsonmisty@gmail.com']\n",
      "Skills--> ['software', 'server', 'documentation', 'schedule']\n",
      "Phone number--> (602) 561-5931\n",
      "First name--> Misty\n"
     ]
    },
    {
     "name": "stderr",
     "output_type": "stream",
     "text": [
      "ERROR:root:correct_year() missing 1 required positional argument: 'text'\n"
     ]
    },
    {
     "name": "stdout",
     "output_type": "stream",
     "text": [
      "Full name--> Misty Johnson\n",
      "Experience --> 0\n",
      "Designation--> []\n",
      "Education--> []\n",
      "Email--> ['bengalipratik@gmail.com']\n",
      "Skills--> ['junit', 'engineering', 'software', 'server', 'support', 'hibernate', 'framework', 'deployment', 'design', 'devops', 'business', 'ecommerce', 'release', 'application server', 'javascript', 'security', 'systems engineering', 'data center', 'continuous integration', 'java', 'knowledge base', 'customer relationship management', 'composer', 'docker', 'github']\n",
      "Phone number--> (732) 763-2025\n",
      "First name--> Agile Planning\n"
     ]
    },
    {
     "name": "stderr",
     "output_type": "stream",
     "text": [
      "ERROR:root:'NoneType' object has no attribute 'group'\n"
     ]
    },
    {
     "name": "stdout",
     "output_type": "stream",
     "text": [
      "Full name--> 732\n",
      "Experience --> 0\n",
      "Designation--> []\n",
      "Education--> ['MS']\n",
      "Email--> ['mtonix@hotmail.com', 'mtonix@hotmail.com']\n",
      "Skills--> ['windows', 'workload', 'software', 'documentation', 'project management', 'data modeling', 'wireless', 'support', 'mobile', 'accounting', 'fusion', 'languages', 'design', 'testing', 'business', 'notepad++', 'schedule', 'skype', 'computer science', 'material', 'finance', 'payments', 'data analysis', 'analytics']\n",
      "Phone number--> (205) 602-3926\n",
      "First name--> Mauricio\n"
     ]
    },
    {
     "name": "stderr",
     "output_type": "stream",
     "text": [
      "ERROR:root:correct_year() missing 1 required positional argument: 'text'\n"
     ]
    },
    {
     "name": "stdout",
     "output_type": "stream",
     "text": [
      "Full name--> Mauricio Tonix\n",
      "Experience --> 0\n",
      "Designation--> []\n",
      "Education--> ['MS']\n",
      "Email--> ['tanuradha0203@gmail.com']\n",
      "Skills--> ['windows', 'python', 'communications', 'software', 'oracle', 'databases', 'server', 'documentation', 'project management', 'support', 'monitoring', 'libraries', 'data access', 'framework', 'gauges', 'angular', 'languages', 'design', 'testing', 'business', 'knowledge management', 'schedule', 'javascript', 'user interface', 'knowledge base', 'jquery', 'workflow']\n",
      "Phone number--> 904-480-5582\n"
     ]
    },
    {
     "name": "stderr",
     "output_type": "stream",
     "text": [
      "ERROR:root:correct_year() missing 1 required positional argument: 'text'\n"
     ]
    },
    {
     "name": "stdout",
     "output_type": "stream",
     "text": [
      "First name--> Anuradha\n",
      "Full name--> Anuradha Thammineni\n",
      "Experience --> 0\n",
      "Designation--> []\n",
      "Education--> ['MS']\n",
      "Email--> ['fahadmohd.snowdev@gmail.com']\n",
      "Skills--> ['windows', 'operating system', 'junit', 'interaction', 'software', 'authentication', 'operations management', 'oracle', 'debugging', 'server', 'documentation', 'project management', 'database', 'data validation', 'support', 'mobile', 'libraries', 'angularjs', 'framework', 'github', 'deployment', 'angular', 'languages', 'design', 'testing', 'file format', 'business', 'web service', 'linux', 'ajax', 'bootstrap', 'release', 'notepad++', 'git', 'knowledge management', 'schedule', 'javascript', 'content management', 'access control', 'library', 'medium', 'time to market', 'security', 'user interface', 'diagram', 'database tools', 'java', 'node.js', 'version control system', 'eclipse', 'analytics', 'jquery', 'workflow']\n",
      "Phone number--> (815) 782-2088\n",
      "First name--> Fahad\n"
     ]
    },
    {
     "name": "stderr",
     "output_type": "stream",
     "text": [
      "ERROR:root:'NoneType' object has no attribute 'group'\n"
     ]
    },
    {
     "name": "stdout",
     "output_type": "stream",
     "text": [
      "Full name--> Fahad Mohammed \n",
      "\n",
      "Sr\n",
      "Experience --> 0\n",
      "Designation--> []\n",
      "Education--> ['MS', 'BTech']\n",
      "Email--> []\n",
      "Skills--> []\n",
      "Phone number--> \n",
      "First name--> D F\n",
      "Full name--> •\n",
      "Experience --> None\n",
      "Designation--> []\n",
      "Education--> ['x', 'X']\n",
      "Email--> ['michaelshenderson@live.com']\n",
      "Skills--> ['windows', 'authentication', 'software', 'network security', 'oracle', 'databases', 'server', 'documentation', 'project management', 'azure', 'web server', 'database', 'support', 'mobile', 'tracking system', 'accounting', 'artificial intelligence', 'tableau', 'deployment', 'visual studio', 'design', 'testing', 'business', 'confluence', 'linux', 'release', 'web servers', 'back office', 'ubuntu', 'utilities', 'security', 'user interface', 'google', 'finance', 'payments', 'data analysis', 'karma', 'source code', 'workflow']\n",
      "Phone number--> 512.599.7484\n",
      "First name--> Michael\n"
     ]
    },
    {
     "name": "stderr",
     "output_type": "stream",
     "text": [
      "ERROR:root:'NoneType' object has no attribute 'group'\n"
     ]
    },
    {
     "name": "stdout",
     "output_type": "stream",
     "text": [
      "Full name--> Michael Scott Henderson\n",
      "Experience --> 0\n",
      "Designation--> []\n",
      "Education--> ['MS']\n",
      "Email--> []\n",
      "Skills--> ['windows', 'authentication', 'password management', 'oracle', 'business process', 'server', 'debugging', 'documentation', 'project management', 'azure', 'support', 'mobile', 'deployment', 'design', 'testing', 'digital signature', 'business', 'access control', 'metadata', 'library', 'security', 'data analysis', 'docker', 'analytics', 'workflow']\n",
      "Phone number--> \n",
      "First name--> Nawang\n"
     ]
    },
    {
     "name": "stderr",
     "output_type": "stream",
     "text": [
      "ERROR:root:correct_year() missing 1 required positional argument: 'text'\n"
     ]
    },
    {
     "name": "stdout",
     "output_type": "stream",
     "text": [
      "Full name--> Nawang Sherpa\n",
      "Experience --> 0\n",
      "Designation--> []\n",
      "Education--> ['BE', 'MS']\n",
      "Email--> ['nikilservicenow@gmail.com']\n",
      "Skills--> ['windows', 'junit', 'middleware', 'engineering', 'software', 'oracle', 'server', 'documentation', 'database', 'project management', 'support', 'hibernate', 'variables', 'monitoring', 'data access', 'angularjs', 'dash', 'framework', 'angular', 'deployment', 'languages', 'design', 'testing', 'business', 'data integration', 'web service', 'linux', 'ajax', 'mysql', 'bootstrap', 'front end', 'release', 'knowledge management', 'access control', 'javascript', 'content management', 'schedule', 'medium', 'encryption', 'security', 'user interface', 'database tools', 'java', 'finance', 'knowledge base', 'publishing', 'eclipse', 'shell', 'analytics', 'jquery', 'workflow']\n",
      "Phone number--> 9017011734\n",
      "First name--> Client Scripts\n"
     ]
    },
    {
     "name": "stderr",
     "output_type": "stream",
     "text": [
      "ERROR:root:correct_year() missing 1 required positional argument: 'text'\n"
     ]
    },
    {
     "name": "stdout",
     "output_type": "stream",
     "text": [
      "Full name--> 8+ Years\n",
      "Experience --> 0\n",
      "Designation--> []\n",
      "Education--> ['MS']\n",
      "Email--> ['batobajeun@gmail.com']\n",
      "Skills--> ['windows', 'engineering', 'software', 'business process', 'documentation', 'project management', 'database', 'remote control', 'support', 'terminal', 'mobile', 'wireless', 'framework', 'deployment', 'design', 'testing', 'business', 'confluence', 'release', 'system integration', 'business administration', 'shell', 'workflow']\n",
      "Phone number--> 832-236-5228\n",
      "First name--> Holds\n"
     ]
    },
    {
     "name": "stderr",
     "output_type": "stream",
     "text": [
      "ERROR:root:correct_year() missing 1 required positional argument: 'text'\n"
     ]
    },
    {
     "name": "stdout",
     "output_type": "stream",
     "text": [
      "Full name--> 1\n",
      "Experience --> 0\n",
      "Designation--> []\n",
      "Education--> None\n",
      "Email--> []\n",
      "Skills--> ['junit', 'engineering', 'software', 'oracle', 'authentication', 'databases', 'server', 'documentation', 'database', 'system testing', 'support', 'variables', 'angular', 'deployment', 'languages', 'design', 'testing', 'business', 'data integration', 'stripe', 'ajax', 'mysql', 'bootstrap', 'release', 'graphical user interface', 'application server', 'schedule', 'javascript', 'computer science', 'eureka', 'spring', 'user interface', 'java', 'database tools', 'crystal', 'parsing', 'shell', 'jquery', 'workflow']\n",
      "Phone number--> \n",
      "First name--> Raju\n"
     ]
    },
    {
     "name": "stderr",
     "output_type": "stream",
     "text": [
      "ERROR:root:correct_year() missing 1 required positional argument: 'text'\n"
     ]
    },
    {
     "name": "stdout",
     "output_type": "stream",
     "text": [
      "Full name--> ServiceNow Admin / Developer\n",
      "Experience --> 0\n",
      "Designation--> []\n",
      "Education--> ['MS']\n",
      "Email--> None\n",
      "Skills--> None\n",
      "Phone number--> \n",
      "First name--> None\n",
      "Full name--> None\n",
      "Experience --> None\n",
      "Designation--> None\n",
      "Education--> None\n",
      "Email--> ['paulbudwal517@gmail.com']\n",
      "Skills--> ['junit', 'communications', 'interaction', 'software', 'data integrity', 'rest api', 'business process', 'server', 'debugging', 'documentation', 'project management', 'database', 'component', 'simulation', 'support', 'hibernate', 'variables', 'monitoring', 'data access', 'libraries', 'angularjs', 'data type', 'framework', 'gauges', 'angular', 'deployment', 'design', 'testing', 'business', 'linux', 'data retrieval', 'bootstrap', 'front end', 'batch processing', 'release', 'synchronization', 'knowledge management', 'schedule', 'javascript', 'content management', 'utilities', 'medium', 'security', 'spring', 'help desk', 'user interface', 'mercurial', 'java', 'finance', 'knowledge base', 'ruby', 'eclipse', 'shell', 'source code', 'workflow', 'specification']\n",
      "Phone number--> (732) 440-9481\n",
      "First name--> PAUL\n"
     ]
    },
    {
     "name": "stderr",
     "output_type": "stream",
     "text": [
      "ERROR:root:correct_year() missing 1 required positional argument: 'text'\n"
     ]
    },
    {
     "name": "stdout",
     "output_type": "stream",
     "text": [
      "Full name--> paulbudwal517@gmail.com\n",
      "Experience --> 0\n",
      "Designation--> []\n",
      "Education--> []\n",
      "Email--> ['vipinagarwal.net84@gmail.com']\n",
      "Skills--> ['groovy', 'server', 'hibernate', 'mobile', 'libraries', 'tower', 'zookeeper', 'jenkins', 'nginx', 'postgresql', 'devops', 'web service', 'openstack', 'linux', 'ajax', 'bootstrap', 'concurrency', 'aws lambda', 'application server', 'kubernetes', 'javascript', 'utilities', 'web forms', 'apache spark', 'visual studio code', 'selenium', 'shell', 'docker', 'algorithms', 'github', 'datadog', 'apache tomcat', 'junit', 'python', 'engineering', 'high availability', 'authentication', 'scala', 'azure', 'spring boot', 'gradle', 'design', 'scanner', 'testing', 'business', 'neo4j', 'maven', 'git', 'computer science', 'solr', 'spring', 'security', 'perl', 'java', 'continuous integration', 'node.js', 'network management', 'monitoring tools', 'prometheus', 'ruby', 'microsoft azure', 'akka', 'performance monitoring', 'jquery', 'azure functions', 'grails', 'serverless', 'software', 'mode', 'video processing', 'databases', 'chef', 'web server', 'support', 'sonar', 'monitoring', 'cassandra', 'framework', 'deployment', 'visual studio', 'bash', 'code quality', 'continuous deployment', 'openshift', 'functional testing', 'mysql', 'visual studio team services', 'teamcity', 'web servers', 'ubuntu', 'ansible', 'bitbucket', 'docker swarm', 'source code', 'operating systems', 'analytics', 'workflow', 'conductor', 'terraform', 'windows', 'mongodb', 'flask', 'vault', 'database', 'terminal', 'collaboration', 'compose', 'cloud foundry', 'languages', 'nosql', 'content delivery network', 'redis', 'release', 'dynamic data', 'scalability', 'sqlalchemy', 'sonarqube', 'cucumber']\n",
      "Phone number--> (317) 300-4303\n",
      "First name--> Agarwal\n"
     ]
    },
    {
     "name": "stderr",
     "output_type": "stream",
     "text": [
      "ERROR:root:'NoneType' object has no attribute 'end'\n"
     ]
    },
    {
     "name": "stdout",
     "output_type": "stream",
     "text": [
      "Full name--> Vipin\n",
      "Experience --> 0\n",
      "Designation--> []\n",
      "Education--> None\n",
      "Email--> ['red.pati918@gmail.com']\n",
      "Skills--> ['windows', 'engineering', 'software', 'oracle', 'groovy', 'data integrity', 'component', 'server', 'documentation', 'azure', 'support', 'monitoring', 'design', 'postgresql', 'api tools', 'confluence', 'business', 'linux', 'mysql', 'front end', 'javascript', 'web servers', 'business intelligence', 'utilities', 'centos', 'material', 'user interface', 'data center', 'bitbucket', 'java', 'finance', 'jquery', 'workflow', 'marketing']\n",
      "Phone number--> 510 289 4844\n"
     ]
    },
    {
     "name": "stderr",
     "output_type": "stream",
     "text": [
      "ERROR:root:'NoneType' object has no attribute 'group'\n"
     ]
    },
    {
     "name": "stdout",
     "output_type": "stream",
     "text": [
      "First name--> Prathi\n",
      "Full name--> Atlassian\n",
      "Experience --> 0\n",
      "Designation--> []\n",
      "Education--> ['ms']\n",
      "Email--> ['david.clarke.j33@gmail.com']\n",
      "Skills--> ['windows', 'operating system', 'python', 'engineering', 'middleware', 'software engineering', 'electrical engineering', 'software', 'box', 'flash memory', 'debugging', 'source code', 'documentation', 'system testing', 'database', 'simulation', 'support', 'monitoring', 'libraries', 'visual studio', 'languages', 'design', 'testing', 'opengl', 'microprocessor', 'arduino', 'linux', 'git', 'reverse engineering', 'raspberry pi', 'library', 'computer science', 'centos', 'perl', 'fingerprint', 'systems engineering', 'eclipse', 'operating systems', 'specification']\n",
      "Phone number--> (561) 254-9550\n",
      "First name--> David\n"
     ]
    },
    {
     "name": "stderr",
     "output_type": "stream",
     "text": [
      "ERROR:root:'NoneType' object has no attribute 'group'\n"
     ]
    },
    {
     "name": "stdout",
     "output_type": "stream",
     "text": [
      "Full name--> David B. Clarke\n",
      "Experience --> 0\n",
      "Designation--> []\n",
      "Education--> ['BS']\n",
      "Email--> []\n",
      "Skills--> ['apache tomcat', 'windows', 'engineering', 'password management', 'software', 'authentication', 'oracle', 'databases', 'box', 'business process', 'server', 'component', 'documentation', 'database', 'debugging', 'project management', 'wireless', 'support', 'monitoring', 'framework', 'deployment', 'visual studio', 'languages', 'design', 'testing', 'business', 'mysql', 'front end', 'synchronization', 'schedule', 'javascript', 'access control', 'system integration', 'security', 'ranking', 'java', 'finance', 'eclipse', 'shell', 'jquery', 'workflow']\n",
      "Phone number--> \n",
      "First name--> Tamang\n"
     ]
    },
    {
     "name": "stderr",
     "output_type": "stream",
     "text": [
      "ERROR:root:'NoneType' object has no attribute 'end'\n"
     ]
    },
    {
     "name": "stdout",
     "output_type": "stream",
     "text": [
      "Full name--> Tamang Robin\n",
      "Experience --> 0\n",
      "Designation--> []\n",
      "Education--> ['MS']\n",
      "Email--> ['morypadilla@gmail.com']\n"
     ]
    },
    {
     "name": "stderr",
     "output_type": "stream",
     "text": [
      "ERROR:root:'NoneType' object has no attribute 'group'\n"
     ]
    },
    {
     "name": "stdout",
     "output_type": "stream",
     "text": [
      "Skills--> ['python', 'engineering', 'git', 'software', 'computer engineering', 'schedule', 'design', 'testing', 'box', 'gitlab', 'linux', 'modular design', 'database', 'bash', 'business', 'support']\n",
      "Phone number--> 920-750-2778\n",
      "First name--> Maurizio\n",
      "Full name--> Maurizio Paidlla\n",
      "Cedar Rapids\n",
      "Experience --> 0\n",
      "Designation--> []\n",
      "Education--> []\n",
      "Email--> ['nasir3k4@gmail.com']\n",
      "Skills--> ['windows', 'engineering', 'bot', 'software', 'oracle', 'authentication', 'application and data', 'databases', 'box', 'business process', 'server', 'documentation', 'database', 'machine learning', 'support', 'mobile', 'collaboration', 'tracking system', 'hibernate', 'variables', 'monitoring', 'framework', 'angular', 'deployment', 'design', 'testing', 'business', 'web service', 'bootstrap', 'front end', 'mysql', 'release', 'synchronization', 'knowledge management', 'schedule', 'javascript', 'content management', 'natural language understanding', 'access control', 'application server', 'eureka', 'computer science', 'material', 'security', 'data compression', 'web app', 'java', 'google', 'node.js', 'monitoring tools', 'knowledge base', 'data processing', 'shell', 'eclipse', 'analytics', 'jquery', 'workflow']\n",
      "Phone number--> \n",
      "First name--> Ali Mehdi\n"
     ]
    },
    {
     "name": "stderr",
     "output_type": "stream",
     "text": [
      "ERROR:root:correct_year() missing 1 required positional argument: 'text'\n"
     ]
    },
    {
     "name": "stdout",
     "output_type": "stream",
     "text": [
      "Full name--> Ali  Mehdi               \n",
      "Experience --> 0\n",
      "Designation--> []\n",
      "Education--> ['MS']\n",
      "Email--> []\n",
      "Skills--> ['windows', 'software', 'box', 'rest api', 'server', 'debugging', 'documentation', 'project management', 'database', 'support', 'chrome', 'variables', 'libraries', 'angularjs', 'framework', 'deployment', 'angular', 'visualization', 'languages', 'design', 'testing', 'business', 'web service', 'linux', 'release', 'knowledge management', 'access control', 'javascript', 'node js', 'schedule', 'content management', 'encryption', 'security', 'java', 'google', 'amazon web services', 'eclipse', 'shell', 'parse', 'jquery', 'workflow']\n",
      "Phone number--> \n",
      "First name--> Nick\n"
     ]
    },
    {
     "name": "stderr",
     "output_type": "stream",
     "text": [
      "ERROR:root:correct_year() missing 1 required positional argument: 'text'\n"
     ]
    },
    {
     "name": "stdout",
     "output_type": "stream",
     "text": [
      "Full name--> Nick Karageorgos\n",
      "Experience --> 0\n",
      "Designation--> []\n",
      "Education--> ['MS']\n",
      "Email--> ['0212praveen@gmail.com']\n",
      "Skills--> ['groovy', 'server', 'documentation', 'project management', 'tower', 'jenkins', 'big data', 'devops', 'openstack', 'linux', 'command line interface', 'application server', 'kubernetes', 'amazon web services', 'docker', 'shell', 'github', 'apache tomcat', 'python', 'junit', 'engineering', 'high availability', 'authentication', 'oracle', 'azure', 'gradle', 'design', 'testing', 'business', 'git', 'security', 'perl', 'java', 'continuous integration', 'ruby', 'microsoft azure', 'azure functions', 'bamboo', 'software', 'databases', 'box', 'chef', 'support', 'monitoring', 'cassandra', 'framework', 'fault tolerance', 'deployment', 'bash', 'continuous deployment', 'openshift', 'mysql', 'packer', 'web servers', 'ubuntu', 'ansible', 'bitbucket', 'phabricator', 'source code', 'workflow', 'azure storage', 'terraform', 'windows', 'operating system', 'middleware', 'mongodb', 'code review', 'gitlab', 'vault', 'database', 'virtual machine', 'collaboration', 'compose', 'cloud foundry', 'languages', 'storm', 'release', 'library', 'centos', 'scalability']\n",
      "Phone number--> 609-212-1055\n",
      "First name--> Praveen\n"
     ]
    },
    {
     "name": "stderr",
     "output_type": "stream",
     "text": [
      "ERROR:root:correct_year() missing 1 required positional argument: 'text'\n"
     ]
    },
    {
     "name": "stdout",
     "output_type": "stream",
     "text": [
      "Full name--> Praveen Kumar\n",
      "0212praveen@gmail.com\n",
      "\n",
      "\n",
      "Experience --> 0\n",
      "Designation--> []\n",
      "Education--> ['MS']\n",
      "Email--> ['klmullin71@gmail.com']\n",
      "Skills--> ['software', 'oracle', 'sketch', 'business process', 'server', 'project management', 'system testing', 'azure', 'support', 'devise', 'mobile', 'accounting', 'monitoring', 'broadcasting', 'complex system', 'task management', 'design', 'testing', 'business', 'information management', 'computer science', 'time tracking', 'file storage', 'crystal', 'knowledge base', 'monitoring tools', 'data analysis']\n",
      "Phone number--> 404-545-0419\n"
     ]
    },
    {
     "name": "stderr",
     "output_type": "stream",
     "text": [
      "ERROR:root:'NoneType' object has no attribute 'group'\n"
     ]
    },
    {
     "name": "stdout",
     "output_type": "stream",
     "text": [
      "First name--> Keena\n",
      "Full name--> Keena Mullins-Smith\n",
      "Experience --> 0\n",
      "Designation--> []\n",
      "Education--> ['MS']\n",
      "Email--> ['quavorriusfaust@ymail.com']\n",
      "Skills--> ['windows', 'engineering', 'deployment', 'software', 'wireless', 'oracle', 'design', 'stars', 'testing', 'telecommunications', 'debugging', 'component', 'documentation', 'business', 'support', 'mobile', 'telecommunications service']\n",
      "Phone number--> 678.789.0671\n",
      "First name--> Quavorrius Faust Certified Electronics Assembler\n"
     ]
    },
    {
     "name": "stderr",
     "output_type": "stream",
     "text": [
      "ERROR:root:'NoneType' object has no attribute 'group'\n"
     ]
    },
    {
     "name": "stdout",
     "output_type": "stream",
     "text": [
      "Full name--> 678.789.0671\n",
      "Experience --> 0\n",
      "Designation--> []\n",
      "Education--> None\n",
      "Email--> ['amruthraj0121@gmail.com']\n",
      "Skills--> ['groovy', 'rest api', 'server', 'system testing', 'visualization', 'jenkins', 'devops', 'linux', 'ajax', 'bootstrap', 'kubernetes', 'javascript', 'utilities', 'dependency management', 'diagram', 'amazon web services', 'shell', 'docker', 'github', 'datadog', 'apache tomcat', 'python', 'high availability', 'authentication', 'oracle', 'azure', 'spring boot', 'design', 'testing', 'business', 'front end', 'maven', 'git', 'security', 'perl', 'spring', 'octopus deploy', 'java', 'continuous integration', 'node.js', 'monitoring tools', 'parsing', 'eclipse', 'jquery', 'azure functions', 'adobe photoshop', 'react', 'bamboo', 'software', 'network security', 'video processing', 'databases', 'box', 'debugging', 'chef', 'support', 'sonar', 'monitoring', 'cassandra', 'framework', 'deployment', 'bash', 'code quality', 'backbone.js', 'continuous deployment', 'openshift', 'mysql', 'vagrant', 'node js', 'metadata', 'ubuntu', 'throughput', 'material', 'ansible', 'google', 'bitbucket', 'version control system', 'docker swarm', 'pandas', 'publishing', 'source code', 'analytics', 'operating systems', 'workflow', 'azure storage', 'terraform', 'windows', 'middleware', 'mongodb', 'flask', 'vault', 'database', 'virtual machine', 'angularjs', 'angular', 'kafka', 'snowflake', 'nosql', 'fabric', 'redis', 'release', 'multimedia', 'schedule', 'library', 'centos', 'superset', 'issue tracking', 'redux', 'data management', 'sonarqube', 'django']\n",
      "Phone number--> 872-529-7309\n",
      "First name--> Amruth Raj Email\n"
     ]
    },
    {
     "name": "stderr",
     "output_type": "stream",
     "text": [
      "ERROR:root:correct_year() missing 1 required positional argument: 'text'\n"
     ]
    },
    {
     "name": "stdout",
     "output_type": "stream",
     "text": [
      "Full name--> 872\n",
      "Experience --> 0\n",
      "Designation--> []\n",
      "Education--> None\n",
      "Email--> ['sarthak@severus.uno']\n",
      "Skills--> ['segment', 'communications', 'interaction', 'middleware', 'engineering', 'software', 'business process', 'server', 'support', 'mobile', 'deployment', 'broadcasting', 'design', 'testing', 'business', 'data quality', 'schedule', 'utilities', 'security', 'material', 'segmentation', 'data management', 'data processing', 'workflow', 'marketing']\n",
      "Phone number--> \n",
      "First name--> Sarthak\n"
     ]
    },
    {
     "name": "stderr",
     "output_type": "stream",
     "text": [
      "ERROR:root:correct_year() missing 1 required positional argument: 'text'\n"
     ]
    },
    {
     "name": "stdout",
     "output_type": "stream",
     "text": [
      "Full name--> Sarthak Kumar\n",
      "Experience --> 0\n",
      "Designation--> []\n",
      "Education--> []\n",
      "Email--> ['raju.boddula@outlook.com']\n",
      "Skills--> ['windows', 'interaction', 'code review', 'mode', 'debugging', 'business process', 'documentation', 'database', 'data modeling', 'support', 'variables', 'accounting', 'deployment', 'visualization', 'design', 'testing', 'business', 'schedule', 'security', 'finance', 'logic programming', 'publishing', 'operating systems']\n",
      "Phone number--> (928) 265-9111\n",
      "First name--> Raju\n"
     ]
    },
    {
     "name": "stderr",
     "output_type": "stream",
     "text": [
      "ERROR:root:correct_year() missing 1 required positional argument: 'text'\n"
     ]
    },
    {
     "name": "stdout",
     "output_type": "stream",
     "text": [
      "Full name--> Raju Boddula\n",
      "\n",
      "Contact\n",
      "Experience --> 0\n",
      "Designation--> []\n",
      "Education--> ['BE']\n",
      "Email--> ['ahmedm.snow@gmail.com']\n",
      "Skills--> ['queue', 'software', 'rest api', 'debugging', 'server', 'documentation', 'database', 'azure', 'system testing', 'support', 'variables', 'angularjs', 'framework', 'gauges', 'deployment', 'design', 'testing', 'business', 'web service', 'release', 'knowledge management', 'access control', 'javascript', 'content management', 'computer science', 'application server', 'security', 'user interface', 'data center', 'java', 'jquery', 'workflow']\n",
      "Phone number--> 832 586 0778\n"
     ]
    },
    {
     "name": "stderr",
     "output_type": "stream",
     "text": [
      "ERROR:root:correct_year() missing 1 required positional argument: 'text'\n"
     ]
    },
    {
     "name": "stdout",
     "output_type": "stream",
     "text": [
      "First name--> Ahmed\n",
      "Full name--> Ahmed Mohammed\n",
      "\n",
      "Email\n",
      "Experience --> 0\n",
      "Designation--> []\n",
      "Education--> []\n",
      "Email--> ['skusuma1307@gmail.com']\n",
      "Skills--> ['windows', 'operating system', 'communications', 'electrical engineering', 'engineering', 'interaction', 'python', 'adobe photoshop', 'software', 'oracle', 'operations management', 'authentication', 'debugging', 'server', 'business process', 'documentation', 'project management', 'database', 'data modeling', 'support', 'mobile', 'collaboration', 'wireless', 'spring boot', 'variables', 'hibernate', 'monitoring', 'libraries', 'chrome', 'angularjs', 'dash', 'gauges', 'deployment', 'angular', 'languages', 'design', 'testing', 'business', 'linux', 'scripting language', 'release', 'git', 'knowledge management', 'access control', 'javascript', 'medium', 'security', 'systems engineering', 'spring', 'user interface', 'database tools', 'version control system', 'firefox', 'router', 'analytics', 'jquery', 'workflow', 'cryptography']\n",
      "Phone number--> 773-482-3334\n",
      "First name--> Developer\n"
     ]
    },
    {
     "name": "stderr",
     "output_type": "stream",
     "text": [
      "ERROR:root:'NoneType' object has no attribute 'group'\n"
     ]
    },
    {
     "name": "stdout",
     "output_type": "stream",
     "text": [
      "Full name--> 773\n",
      "Experience --> 0\n",
      "Designation--> []\n",
      "Education--> ['MS']\n",
      "Email--> ['narasimhasap2569@gmail.com']\n",
      "Skills--> ['oracle', 'databases', 'debugging', 'server', 'component', 'documentation', 'database', 'business process', 'missing data', 'data modeling', 'support', 'handover', 'variables', 'accounting', 'monitoring', 'tableau', 'dash', 'broadcasting', 'visualization', 'design', 'testing', 'big data', 'business', 'linux', 'data visualization', 'data extraction', 'information management', 'certificate', 'release', 'schedule', 'library', 'computer science', 'utilities', 'hadoop', 'security', 'material', 'crystal', 'finance', 'payments', 'data model', 'data analysis', 'eclipse', 'shell', 'analytics', 'specification']\n",
      "Phone number--> 7324407306\n",
      "First name--> Narasimha\n"
     ]
    },
    {
     "name": "stderr",
     "output_type": "stream",
     "text": [
      "ERROR:root:correct_year() missing 1 required positional argument: 'text'\n"
     ]
    },
    {
     "name": "stdout",
     "output_type": "stream",
     "text": [
      "Full name--> Murthy Vepuri\n",
      "\n",
      "SAP HANA\n",
      "Experience --> 0\n",
      "Designation--> []\n",
      "Education--> ['MS']\n",
      "Email--> ['dc2533@yahoo.com']\n"
     ]
    },
    {
     "name": "stderr",
     "output_type": "stream",
     "text": [
      "ERROR:root:correct_year() missing 1 required positional argument: 'text'\n"
     ]
    },
    {
     "name": "stdout",
     "output_type": "stream",
     "text": [
      "Skills--> ['android', 'monitoring', 'ethereum', 'mongodb', 'framework', 'software', 'oracle', 'schedule', 'databases', 'testing', 'blockchain', 'server', 'documentation', 'react native', 'business', 'database', 'support', 'mobile']\n",
      "Phone number--> \n",
      "First name--> Danny Chin Software Developer\n",
      "Full name--> New York\n",
      "Experience --> 0\n",
      "Designation--> []\n",
      "Education--> []\n",
      "Email--> ['nuelyfe@yahoo.com']\n",
      "Skills--> ['windows', 'software', 'authentication', 'server', 'documentation', 'wireless', 'support', 'mobile', 'monitoring', 'deployment', 'broadcasting', 'testing', 'business', 'utilities', 'encryption', 'security', 'help desk', 'data center', 'payments', 'wireless network', 'shell']\n",
      "Phone number--> 832-208-7577\n",
      "First name--> Texas Associate Degree\n"
     ]
    },
    {
     "name": "stderr",
     "output_type": "stream",
     "text": [
      "ERROR:root:'NoneType' object has no attribute 'group'\n"
     ]
    },
    {
     "name": "stdout",
     "output_type": "stream",
     "text": [
      "Full name--> Houston\n",
      "Experience --> 0\n",
      "Designation--> []\n",
      "Education--> ['MS']\n",
      "Email--> ['chi_james@hotmail.com']\n",
      "Skills--> ['windows', 'segment', 'communications', 'engineering', 'software engineering', 'systems management', 'electrical engineering', 'software', 'oracle', 'authentication', 'visual basic', 'ethernet', 'business process', 'server', 'documentation', 'project management', 'azure', 'database', 'simulation', 'support', 'collaboration', 'wireless', 'mobile', 'web server', 'terminal', 'accounting', 'monitoring', 'deployment', 'visual studio', 'languages', 'design', 'telephony', 'testing', 'business', 'devops', 'confluence', 'data visualization', 'linux', 'ajax', 'information management', 'access control', 'schedule', 'business intelligence', 'computer science', 'javascript', 'library', 'encryption', 'security', 'spring', 'compiler', 'help desk', 'web app', 'user interface', 'data center', 'continuous integration', 'slim', 'data warehouse', 'computer engineering', 'segmentation', 'microsoft azure', 'voice over ip', 'analytics', 'marketing']\n",
      "Phone number--> \n",
      "First name--> Wootton Crest Way Rockville\n"
     ]
    },
    {
     "name": "stderr",
     "output_type": "stream",
     "text": [
      "ERROR:root:correct_year() missing 1 required positional argument: 'text'\n"
     ]
    },
    {
     "name": "stdout",
     "output_type": "stream",
     "text": [
      "Full name--> Ying Chi  \n",
      " \n",
      "\n",
      "Experience --> 0\n",
      "Designation--> []\n",
      "Education--> ['MS', 'BS']\n",
      "Email--> ['exerda@gmail.com', 'exerda@gmail.com']\n",
      "Skills--> ['adobe photoshop', 'engineering', 'software engineering', 'software', 'oracle', 'component', 'microsoft sql server', 'project management', 'database', 'support', 'monitoring', 'database design', 'fusion', 'deployment', 'languages', 'design', 'business', 'schedule', 'solr', 'perl', 'security', 'help desk', 'publishing', 'search engine', 'jquery', 'workflow']\n",
      "Phone number--> 703-938-2785\n"
     ]
    },
    {
     "name": "stderr",
     "output_type": "stream",
     "text": [
      "ERROR:root:'NoneType' object has no attribute 'group'\n"
     ]
    },
    {
     "name": "stdout",
     "output_type": "stream",
     "text": [
      "First name--> John\n",
      "Full name--> John Nolley II\n",
      "Experience --> 0\n",
      "Designation--> []\n",
      "Education--> ['BS']\n",
      "Email--> ['srithm9@gmail.com']\n",
      "Skills--> ['groovy', 'server', 'tracking system', 'jenkins', 'nginx', 'postgresql', 'devops', 'openstack', 'linux', 'aws lambda', 'application server', 'kubernetes', 'dependency management', 'amazon web services', 'selenium', 'docker', 'shell', 'elasticsearch', 'postman', 'github', 'apache tomcat', 'python', 'oracle', 'programming language', 'azure', 'web components', 'aws elastic beanstalk', 'gradle', 'new relic', 'design', 'testing', 'maven', 'git', 'perl', 'security', 'logstash', 'data center', 'continuous integration', 'java', 'monitoring tools', 'ruby', 'microsoft azure', 'serverless', 'bamboo', 'software', 'databases', 'box', 'debugging', 'chef', 'web server', 'support', 'sonar', 'monitoring', 'cassandra', 'framework', 'deployment', 'comprehension', 'bash', 'code quality', 'continuous deployment', 'mysql', 'vagrant', 'web servers', 'ubuntu', 'file system', 'ansible', 'google', 'bitbucket', 'process management', 'operating systems', 'source code', 'workflow', 'azure storage', 'terraform', 'windows', 'operating system', 'middleware', 'mongodb', 'flask', 'rabbitmq', 'vault', 'database', 'compose', 'tableau', 'kafka', 'nosql', 'languages', 'release', 'schedule', 'debian', 'hadoop', 'centos', 'data stores', 'sonarqube']\n",
      "Phone number--> 614-344-6174\n",
      "First name--> Sri\n"
     ]
    },
    {
     "name": "stderr",
     "output_type": "stream",
     "text": [
      "ERROR:root:correct_year() missing 1 required positional argument: 'text'\n"
     ]
    },
    {
     "name": "stdout",
     "output_type": "stream",
     "text": [
      "Full name--> 614\n",
      "Experience --> 0\n",
      "Designation--> []\n",
      "Education--> []\n",
      "Email--> ['arvind.ghag@gmail.com']\n",
      "Skills--> ['communications', 'workload', 'interaction', 'engineering', 'high availability', 'software', 'oracle', 'visual basic', 'commerce', 'softlayer', 'programming language', 'server', 'business process', 'documentation', 'project management', 'database', 'support', 'collaboration', 'sonar', 'monitoring', 'database design', 'framework', 'deployment', 'design', 'testing', 'rotation', 'business', 'confluence', 'web service', 'release', 'git', 'ember', 'knowledge management', 'schedule', 'javascript', 'relay', 'material', 'security', 'spring', 'resource allocation', 'java', 'amazon web services', 'finance', 'scalability', 'jquery']\n",
      "Phone number--> 470.658.0471\n",
      "First name--> Master\n"
     ]
    },
    {
     "name": "stderr",
     "output_type": "stream",
     "text": [
      "ERROR:root:'NoneType' object has no attribute 'group'\n"
     ]
    },
    {
     "name": "stdout",
     "output_type": "stream",
     "text": [
      "Full name--> 1\n",
      "Experience --> 0\n",
      "Designation--> []\n",
      "Education--> ['MS']\n",
      "Email--> ['lalitpatil5854@gmail.com']\n",
      "Skills--> ['python', 'middleware', 'high availability', 'software', 'oracle', 'authentication', 'box', 'business process', 'server', 'debugging', 'documentation', 'database', 'azure', 'vault', 'support', 'hibernate', 'monitoring', 'framework', 'fusion', 'deployment', 'design', 'testing', 'business', 'devops', 'linux', 'jquery ui', 'mysql', 'maven', 'release', 'application server', 'access control', 'javascript', 'utilities', 'security', 'spring', 'user interface', 'java', 'google', 'payments', 'eclipse', 'shell', 'jquery', 'workflow']\n",
      "Phone number--> 002-2006\n",
      "First name--> Lalit\n"
     ]
    },
    {
     "name": "stderr",
     "output_type": "stream",
     "text": [
      "ERROR:root:correct_year() missing 1 required positional argument: 'text'\n"
     ]
    },
    {
     "name": "stdout",
     "output_type": "stream",
     "text": [
      "Full name--> Lalit Patil\n",
      "lalitpatil5854@gmail.com\n",
      "Experience --> 0\n",
      "Designation--> []\n",
      "Education--> []\n",
      "Email--> []\n",
      "Skills--> ['windows', 'deployment', 'software', 'commerce', 'testing', 'computer science', 'server', 'storm', 'support', 'help desk']\n",
      "Phone number--> 832-746-5619\n"
     ]
    },
    {
     "name": "stderr",
     "output_type": "stream",
     "text": [
      "ERROR:root:correct_year() missing 1 required positional argument: 'text'\n"
     ]
    },
    {
     "name": "stdout",
     "output_type": "stream",
     "text": [
      "First name--> David\n",
      "Full name--> David McGraw\n",
      "Experience --> 0\n",
      "Designation--> []\n",
      "Education--> ['MS']\n",
      "Email--> ['colinlewis92@gmail.com']\n"
     ]
    },
    {
     "name": "stderr",
     "output_type": "stream",
     "text": [
      "ERROR:root:'NoneType' object has no attribute 'group'\n"
     ]
    },
    {
     "name": "stdout",
     "output_type": "stream",
     "text": [
      "Skills--> ['support', 'operating system', 'cypress']\n",
      "Phone number--> \n",
      "First name--> Colin\n",
      "Full name--> Colin Lewis\n",
      "Experience --> 0\n",
      "Designation--> []\n",
      "Education--> []\n",
      "Email--> ['tmac62@me.comNov']\n",
      "Skills--> ['python', 'engineering', 'software', 'source code', 'motion analysis', 'wireless', 'support', 'mobile', 'libraries', 'design', 'microprocessor', 'business', 'arduino', 'swift', 'qt', 'ruby', 'internet of things', 'operating systems', 'marketing']\n",
      "Phone number--> (586) 489-5792\n",
      "First name--> Python\n"
     ]
    },
    {
     "name": "stderr",
     "output_type": "stream",
     "text": [
      "ERROR:root:correct_year() missing 1 required positional argument: 'text'\n"
     ]
    },
    {
     "name": "stdout",
     "output_type": "stream",
     "text": [
      "Full name--> SkillsWell\n",
      "Experience --> 0\n",
      "Designation--> []\n",
      "Education--> []\n",
      "Email--> ['vishalsudan.43@gmail.com']\n",
      "Skills--> ['windows', 'python', 'react', 'code review', 'uikit', 'software', 'firebase', 'mode', 'memory management', 'databases', 'debugging', 'google app engine', 'phonegap', 'relational database', 'server', 'azure', 'sqlite', 'database', 'support', 'mobile', 'xamarin', 'monitoring', 'android', 'data access', 'database design', 'operating systems', 'framework', 'angular', 'visual studio', 'data structures', 'languages', 'design', 'testing', 'atom', 'storm', 'analytics', 'react native', 'business', 'confluence', 'google analytics', 'flurry', 'ios', 'linux', 'web service', 'mysql', 'front end', 'bootstrap', 'teamcity', 'git', 'swift', 'ionic', 'javascript', 'library', 'xcode', 'user profile', 'web forms', 'perl', 'compiler', 'user interface', 'redux', 'rest api', 'node.js', 'crystal', 'twitter', 'parsing', 'ruby', 'visual studio code', 'eclipse', 'android studio', 'code coverage', 'jquery', 'cucumber', 'objective c']\n",
      "Phone number--> 4424648\n",
      "First name--> Vishal Sudan\n"
     ]
    },
    {
     "name": "stderr",
     "output_type": "stream",
     "text": [
      "ERROR:root:'NoneType' object has no attribute 'group'\n"
     ]
    },
    {
     "name": "stdout",
     "output_type": "stream",
     "text": [
      "Full name--> Vishal Sudan\n",
      "\n",
      "Sr\n",
      "Experience --> 0\n",
      "Designation--> []\n",
      "Education--> ['MS']\n",
      "Email--> ['Tpop17@yahoo.com']\n",
      "Skills--> ['windows', 'engineering', 'interaction', 'software', 'oracle', 'commerce', 'server', 'documentation', 'project management', 'database', 'support', 'collaboration', 'deployment', 'testing', 'business', 'computer security', 'schedule', 'back office', 'security', 'help desk', 'resource allocation', 'data management', 'operating systems']\n",
      "Phone number--> 703-409-2511\n",
      "First name--> Teresa Poplinger\n"
     ]
    },
    {
     "name": "stderr",
     "output_type": "stream",
     "text": [
      "ERROR:root:correct_year() missing 1 required positional argument: 'text'\n"
     ]
    },
    {
     "name": "stdout",
     "output_type": "stream",
     "text": [
      "Full name--> PMP\n",
      "Experience --> 0\n",
      "Designation--> []\n",
      "Education--> ['Ms', 'BS']\n",
      "Email--> []\n",
      "Skills--> ['terraform', 'windows', 'python', 'operating system', 'software engineering', 'mongodb', 'serverless', 'flask', 'software', 'authentication', 'google drive', 'oracle', 'virtualbox', 'gitlab', 'ethernet', 'server', 'relational database', 'documentation', 'database', 'sqlite', 'terminal', 'mobile', 'chrome', 'monitoring', 'sass', 'android', 'framework', 'github', 'deployment', 'data structures', 'languages', 'design', 'testing', 'nginx', 'play', 'atom', 'postgresql', 'devops', 'bash', 'mysql', 'front end', 'certificate', 'packer', 'git', 'digitalocean', 'collision', 'vagrant', 'kubernetes', 'javascript', 'content management', 'debian', 'ubuntu', 'skype', 'file system', 'encryption', 'security', 'file storage', 'fedora', 'centos', 'linux mint', 'java', 'google', 'bitbucket', 'django', 'dropbox', 'data system', 'router', 'ruby', 'algorithms', 'operating systems', 'jquery', 'emacs']\n",
      "Phone number--> 018-2019\n",
      "First name--> Alan\n"
     ]
    },
    {
     "name": "stderr",
     "output_type": "stream",
     "text": [
      "ERROR:root:'NoneType' object has no attribute 'group'\n"
     ]
    },
    {
     "name": "stdout",
     "output_type": "stream",
     "text": [
      "Full name--> Alan J Cugler\n",
      "Experience --> 0\n",
      "Designation--> []\n",
      "Education--> ['X', 'x']\n",
      "Email--> ['jafri1988h@gmail.com']\n",
      "Skills--> ['groovy', 'server', 'documentation', 'hibernate', 'jenkins', 'syntax', 'nginx', 'devops', 'openstack', 'linux', 'command line interface', 'aws lambda', 'application server', 'kubernetes', 'javascript', 'amazon web services', 'internet of things', 'selenium', 'shell', 'docker', 'elasticsearch', 'datadog', 'github', 'apache tomcat', 'python', 'junit', 'engineering', 'oracle', 'programming language', 'azure', 'design', 'testing', 'business', 'maven', 'git', 'swift', 'rancher', 'spring', 'security', 'perl', 'logstash', 'java', 'continuous integration', 'monitoring tools', 'ruby', 'eclipse', 'query languages', 'serverless', 'bamboo', 'software', 'databases', 'box', 'debugging', 'chef', 'web server', 'support', 'sonar', 'monitoring', 'cassandra', 'framework', 'deployment', 'continuous deployment', 'openshift', 'mysql', 'sonatype nexus', 'teamcity', 'vagrant', 'metadata', 'web servers', 'ubuntu', 'ansible', 'google', 'bitbucket', 'docker swarm', 'source code', 'azure storage', 'terraform', 'windows', 'operating system', 'middleware', 'mongodb', 'gitlab', 'business process', 'database', 'variables', 'kafka', 'languages', 'nosql', 'confluence', 'scripting language', 'release', 'schedule', 'debian', 'hadoop', 'centos', 'django']\n",
      "Phone number--> \n",
      "First name--> Humayoon Jafri Email\n"
     ]
    },
    {
     "name": "stderr",
     "output_type": "stream",
     "text": [
      "ERROR:root:'NoneType' object has no attribute 'end'\n"
     ]
    },
    {
     "name": "stdout",
     "output_type": "stream",
     "text": [
      "Full name--> 719\n",
      "Experience --> 0\n",
      "Designation--> []\n",
      "Education--> ['MS']\n",
      "Email--> ['walterwideman@student.purdueglobal.edu']\n"
     ]
    },
    {
     "name": "stderr",
     "output_type": "stream",
     "text": [
      "ERROR:root:correct_year() missing 1 required positional argument: 'text'\n"
     ]
    },
    {
     "name": "stdout",
     "output_type": "stream",
     "text": [
      "Skills--> ['certificate', 'software', 'languages', 'linux', 'echo', 'storm', 'security', 'analytics', 'support', 'collaboration']\n",
      "Phone number--> (910) 853-4115\n",
      "First name--> Walter\n",
      "Full name--> Walter Wideman\n",
      "\n",
      "Dumfries\n",
      "Experience --> 0\n",
      "Designation--> []\n",
      "Education--> []\n",
      "Email--> ['SalZeePM5@gmail.com']\n",
      "Skills--> ['communications', 'engineering', 'software', 'oracle', 'documentation', 'project management', 'database', 'azure', 'support', 'accounting', 'monitoring', 'tableau', 'dash', 'framework', 'complex system', 'design', 'slack', 'testing', 'business', 'confluence', 'devops', 'ecommerce', 'certificate', 'telecommunications', 'system integration', 'security', 'diagram', 'ansible', 'google', 'finance', 'data warehouse']\n",
      "Phone number--> 737-701-0802\n",
      "First name--> Sal\n"
     ]
    },
    {
     "name": "stderr",
     "output_type": "stream",
     "text": [
      "ERROR:root:correct_year() missing 1 required positional argument: 'text'\n"
     ]
    },
    {
     "name": "stdout",
     "output_type": "stream",
     "text": [
      "Full name--> Sal Zafar                               Email\n",
      "Experience --> 0\n",
      "Designation--> []\n",
      "Education--> ['MS', 'MBA']\n",
      "Email--> ['santos43@yahoo.com']\n",
      "Skills--> ['trend analysis', 'communications', 'engineering', 'authentication', 'software', 'project management', 'simulation', 'support', 'computer network', 'framework', 'design', 'testing', 'business', 'confluence', 'release', 'schedule', 'telecommunications', 'system integration', 'security', 'wireless network', 'specification']\n",
      "Phone number--> (210) 478-7537\n",
      "First name--> Network Support\n"
     ]
    },
    {
     "name": "stderr",
     "output_type": "stream",
     "text": [
      "ERROR:root:'NoneType' object has no attribute 'group'\n"
     ]
    },
    {
     "name": "stdout",
     "output_type": "stream",
     "text": [
      "Full name--> EE\n",
      "Experience --> 0\n",
      "Designation--> []\n",
      "Education--> None\n",
      "Email--> []\n",
      "Skills--> ['rest api', 'server', 'hibernate', 'jenkins', 'nginx', 'devops', 'openstack', 'platform as a service', 'linux', 'application server', 'kubernetes', 'diagram', 'amazon web services', 'elasticsearch', 'docker', 'shell', 'github', 'apache tomcat', 'python', 'engineering', 'high availability', 'oracle', 'component', 'azure', 'gradle', 'design', 'testing', 'amazon api gateway', 'business', 'maven', 'object model', 'git', 'computer science', 'amp', 'security', 'perl', 'spring', 'logstash', 'java', 'continuous integration', 'monitoring tools', 'ruby', 'microsoft azure', 'bamboo', 'software', 'container tools', 'databases', 'data integrity', 'chef', 'web server', 'support', 'monitoring', 'cassandra', 'framework', 'deployment', 'bash', 'continuous deployment', 'mysql', 'teamcity', 'vagrant', 'ubuntu', 'ansible', 'bitbucket', 'source code', 'terraform', 'windows', 'operating system', 'middleware', 'mongodb', 'vault', 'database', 'beanstalk', 'compose', 'tableau', 'angularjs', 'languages', 'release', 'amazon ec2', 'centos', 'issue tracking', 'sonarqube']\n",
      "Phone number--> \n",
      "First name--> Paul\n"
     ]
    },
    {
     "name": "stderr",
     "output_type": "stream",
     "text": [
      "ERROR:root:correct_year() missing 1 required positional argument: 'text'\n"
     ]
    },
    {
     "name": "stdout",
     "output_type": "stream",
     "text": [
      "Full name--> Paul Andrew\n",
      "Experience --> 0\n",
      "Designation--> []\n",
      "Education--> ['MS']\n",
      "Email--> ['pramodchandra29@gmail.com']\n",
      "Skills--> ['python', 'communications', 'engineering', 'electrical engineering', 'high availability', 'software', 'oracle', 'commerce', 'databases', 'algorithm', 'business process', 'component', 'project management', 'azure', 'database', 'support', 'mobile', 'wireless', 'collaboration', 'hibernate', 'seasonality', 'android', 'monitoring', 'libraries', 'framework', 'gauges', 'deployment', 'complex system', 'design', 'telephony', 'testing', 'big data', 'business', 'ios', 'release', 'robot', 'business intelligence', 'throughput', 'encryption', 'security', 'time to market', 'java', 'continuous integration', 'network management', 'finance', 'data analysis', 'analytics', 'emulator', 'workflow', 'marketing']\n",
      "Phone number--> 714-9291\n",
      "First name--> Pramod\n"
     ]
    },
    {
     "name": "stderr",
     "output_type": "stream",
     "text": [
      "ERROR:root:correct_year() missing 1 required positional argument: 'text'\n"
     ]
    },
    {
     "name": "stdout",
     "output_type": "stream",
     "text": [
      "Full name--> Pramod Chandra\n",
      "Experience --> 0\n",
      "Designation--> []\n",
      "Education--> None\n",
      "Email--> ['tekn392@gmail.com']\n",
      "Skills--> ['windows', 'engineering', 'software', 'durability', 'oracle', 'databases', 'data exchange', 'business process', 'server', 'debugging', 'documentation', 'database', 'azure', 'component', 'box', 'support', 'collaboration', 'mobile', 'marketing', 'project management', 'accounting', 'monitoring', 'mobile computing', 'deployment', 'languages', 'design', 'testing', 'rotation', 'business', 'release', 'multimedia', 'document management system', 'synchronization', 'swift', 'schedule', 'computer science', 'material', 'security', 'peer to peer', 'java', 'data sharing', 'finance', 'monitoring tools', 'analytics', 'workflow', 'specification']\n",
      "Phone number--> 832.235.3714\n",
      "First name--> Terrisa\n"
     ]
    },
    {
     "name": "stderr",
     "output_type": "stream",
     "text": [
      "ERROR:root:correct_year() missing 1 required positional argument: 'text'\n"
     ]
    },
    {
     "name": "stdout",
     "output_type": "stream",
     "text": [
      "Full name--> Terrisa Knight\n",
      "Experience --> 0\n",
      "Designation--> []\n",
      "Education--> ['MS']\n",
      "Email--> ['ak.agilecoach@gmail.com']\n",
      "Skills--> ['communications', 'release', 'publishing', 'design', 'data management', 'throughput', 'mobile', 'business', 'material', 'support', 'collaboration']\n",
      "Phone number--> 281-939-7625\n",
      "First name--> Kumar\n",
      "Full name--> A. Kumar\n"
     ]
    },
    {
     "name": "stderr",
     "output_type": "stream",
     "text": [
      "ERROR:root:correct_year() missing 1 required positional argument: 'text'\n"
     ]
    },
    {
     "name": "stdout",
     "output_type": "stream",
     "text": [
      "Experience --> 0\n",
      "Designation--> []\n",
      "Education--> []\n",
      "Email--> ['mohannure154@gmail.com']\n",
      "Skills--> ['windows', 'authentication', 'oracle', 'box', 'vault', 'server', 'documentation', 'project management', 'azure', 'data validation', 'support', 'monitoring', 'deployment', 'design', 'testing', 'devops', 'business', 'linux', 'mysql', 'access control', 'javascript', 'schedule', 'system integration', 'spring', 'security', 'java', 'shell', 'workflow', 'specification']\n",
      "Phone number--> \n",
      "First name--> Mohan\n"
     ]
    },
    {
     "name": "stderr",
     "output_type": "stream",
     "text": [
      "ERROR:root:correct_year() missing 1 required positional argument: 'text'\n"
     ]
    },
    {
     "name": "stdout",
     "output_type": "stream",
     "text": [
      "Full name--> Mohan Nure\n",
      "Experience --> 0\n",
      "Designation--> []\n",
      "Education--> ['MBA', 'BS', 'MS']\n",
      "Email--> ['manormasharma625@gmail.com']\n",
      "Skills--> ['windows', 'operating system', 'segment', 'engineering', 'software', 'oracle', 'databases', 'data integrity', 'business process', 'programming language', 'documentation', 'project management', 'data modeling', 'support', 'marketing', 'monitoring', 'framework', 'deployment', 'languages', 'design', 'testing', 'business', 'web service', 'functional testing', 'data extraction', 'front end', 'release', 'data quality', 'library', 'computer science', 'security', 'material', 'user interface', 'finance', 'data model', 'data management', 'analytics', 'workflow', 'specification']\n",
      "Phone number--> 4695188030\n",
      "First name--> Manorma\n"
     ]
    },
    {
     "name": "stderr",
     "output_type": "stream",
     "text": [
      "ERROR:root:correct_year() missing 1 required positional argument: 'text'\n"
     ]
    },
    {
     "name": "stdout",
     "output_type": "stream",
     "text": [
      "Full name--> Manorma\n",
      "Experience --> 0\n",
      "Designation--> []\n",
      "Education--> []\n",
      "Email--> ['mrmandala.dataengineer@gmail.com']\n",
      "Skills--> ['windows', 'python', 'middleware', 'communications', 'code review', 'query language', 'software', 'oracle', 'authentication', 'databases', 'component', 'server', 'database', 'data modeling', 'support', 'data validation', 'network topology', 'accounting', 'tableau', 'broadcasting', 'languages', 'nosql', 'design', 'lumen', 'big data', 'postgresql', 'testing', 'storm', 'business', 'linux', 'data extraction', 'mysql', 'front end', 'git', 'metadata', 'telecommunications', 'utilities', 'security', 'impala', 'java', 'network management', 'finance', 'data warehouse', 'publishing', 'payments', 'data analysis', 'data model', 'data management', 'shell', 'operating systems']\n",
      "Phone number--> 732-340-8436\n",
      "First name--> Punna\n"
     ]
    },
    {
     "name": "stderr",
     "output_type": "stream",
     "text": [
      "ERROR:root:correct_year() missing 1 required positional argument: 'text'\n"
     ]
    },
    {
     "name": "stdout",
     "output_type": "stream",
     "text": [
      "Full name--> 732-340-8436\n",
      "\n",
      "Summary\n",
      "Experience --> 0\n",
      "Designation--> []\n",
      "Education--> ['MS']\n",
      "Email--> ['emmanuel.t.brown@outlook.com']\n",
      "Skills--> ['domain knowledge', 'python', 'pattern recognition', 'engineering', 'databases', 'server', 'payment services', 'support', 'monitoring', 'tableau', 'deployment', 'languages', 'design', 'testing', 'business', 'data visualization', 'deco', 'data quality', 'data science', 'business intelligence', 'medium', 'bitbucket', 'data management', 'analytics', 'workflow']\n",
      "Phone number--> (614) 570-2232\n"
     ]
    },
    {
     "name": "stderr",
     "output_type": "stream",
     "text": [
      "ERROR:root:correct_year() missing 1 required positional argument: 'text'\n"
     ]
    },
    {
     "name": "stdout",
     "output_type": "stream",
     "text": [
      "First name--> Brown\n",
      "Full name--> Brown  \n",
      " \n",
      " \n",
      " \n",
      " \n",
      " \n",
      " \n",
      " \n",
      " \n",
      " \n",
      " \n",
      " \n",
      " \n",
      " \n",
      " \n",
      " \n",
      " \n",
      " \n",
      " \n",
      " \n",
      " \n",
      " \n",
      " \n",
      " \n",
      " \n",
      " \n",
      " \n",
      " \n",
      " \n",
      " \n",
      " \n",
      "\n",
      "Experience --> 0\n",
      "Designation--> []\n",
      "Education--> []\n",
      "Email--> ['benedict.agoha1@gmail.com']\n",
      "Skills--> ['windows', 'workload', 'mongodb', 'high availability', 'oracle', 'databases', 'vault', 'debugging', 'server', 'database', 'azure', 'support', 'monitoring', 'database design', 'deployment', 'design', 'rotation', 'play', 'business', 'computer science', 'encryption', 'security', 'query optimization', 'data center']\n",
      "Phone number--> \n"
     ]
    },
    {
     "name": "stderr",
     "output_type": "stream",
     "text": [
      "ERROR:root:'NoneType' object has no attribute 'group'\n"
     ]
    },
    {
     "name": "stdout",
     "output_type": "stream",
     "text": [
      "First name--> Database Design Development\n",
      "Full name--> 281\n",
      "Experience --> 0\n",
      "Designation--> []\n",
      "Education--> None\n",
      "Email--> []\n",
      "Skills--> []\n",
      "Phone number--> \n",
      "First name--> F\n",
      "Full name--> 3 3 6\n",
      "Experience --> None\n",
      "Designation--> []\n",
      "Education--> ['x', 'X']\n",
      "Email--> ['snmoon19@smumn.edu']\n",
      "Skills--> ['collaboration', 'documentation', 'framework', 'content management']\n",
      "Phone number--> 6129866285\n",
      "First name--> Scrum Master\n",
      "Full name--> 6129866285\n",
      "Experience --> None\n",
      "Designation--> []\n",
      "Education--> ['X']\n",
      "Email--> None\n",
      "Skills--> None\n",
      "Phone number--> \n",
      "First name--> None\n",
      "Full name--> None\n",
      "Experience --> None\n",
      "Designation--> None\n",
      "Education--> None\n",
      "Email--> ['adiomiranda1@gmail.com']\n",
      "Skills--> ['windows', 'interaction', 'software', 'oracle', 'databases', 'server', 'database', 'support', 'collaboration', 'monitoring', 'framework', 'testing', 'business', 'linux', 'release', 'encryption', 'security', 'java', 'scalability', 'shell', 'workflow']\n",
      "Phone number--> (763) 657-9743\n",
      "First name--> Certified Scrum Master\n"
     ]
    },
    {
     "name": "stderr",
     "output_type": "stream",
     "text": [
      "ERROR:root:correct_year() missing 1 required positional argument: 'text'\n"
     ]
    },
    {
     "name": "stdout",
     "output_type": "stream",
     "text": [
      "Full name--> 763\n",
      "Experience --> 0\n",
      "Designation--> []\n",
      "Education--> []\n",
      "Email--> ['adenikeafinni@gmail.com']\n",
      "Skills--> ['interaction', 'engineering', 'software engineering', 'software', 'business process', 'documentation', 'project management', 'system testing', 'azure', 'support', 'mobile', 'collaboration', 'framework', 'design', 'testing', 'business', 'confluence', 'devops', 'release']\n",
      "Phone number--> 6126956942\n",
      "First name--> Afinni Scrum Master\n"
     ]
    },
    {
     "name": "stderr",
     "output_type": "stream",
     "text": [
      "ERROR:root:correct_year() missing 1 required positional argument: 'text'\n"
     ]
    },
    {
     "name": "stdout",
     "output_type": "stream",
     "text": [
      "Full name--> Scrum Master\n",
      "Experience --> 0\n",
      "Designation--> []\n",
      "Education--> []\n",
      "Email--> ['smithnegu@gmail.com', 'smithnegu@gmail.com', 'smithnegu@gmail.com', 'smithnegu@gmail.com']\n",
      "Skills--> ['monitoring', 'windows', 'high availability', 'authentication', 'design', 'databases', 'server', 'source code', 'database', 'sentry', 'security', 'azure', 'support', 'specification', 'query optimization']\n",
      "Phone number--> 571-449-7305\n"
     ]
    },
    {
     "name": "stderr",
     "output_type": "stream",
     "text": [
      "ERROR:root:'NoneType' object has no attribute 'group'\n"
     ]
    },
    {
     "name": "stdout",
     "output_type": "stream",
     "text": [
      "First name--> Sima Negash Email\n",
      "Full name--> Sima Negash\n",
      "Experience --> 0\n",
      "Designation--> []\n",
      "Education--> ['MS']\n",
      "Email--> ['santoshsubedi8800@gmail.com']\n",
      "Skills--> ['apache tomcat', 'windows', 'python', 'junit', 'engineering', 'terraform', 'network interface', 'software', 'oracle', 'network security', 'groovy', 'gitlab', 'box', 'debugging', 'server', 'source code', 'chef', 'database', 'support', 'spring boot', 'sonar', 'monitoring', 'deployment', 'jenkins', 'languages', 'design', 'devops', 'confluence', 'bash', 'business', 'linux', 'mysql', 'release', 'git', 'aws lambda', 'vagrant', 'kubernetes', 'ubuntu', 'utilities', 'centos', 'security', 'logstash', 'ansible', 'continuous integration', 'java', 'bitbucket', 'amazon web services', 'ruby', 'shell', 'docker', 'operating systems', 'github', 'virtual private cloud']\n",
      "Phone number--> (703) 637-9845\n",
      "First name--> Santosh\n"
     ]
    },
    {
     "name": "stderr",
     "output_type": "stream",
     "text": [
      "ERROR:root:correct_year() missing 1 required positional argument: 'text'\n"
     ]
    },
    {
     "name": "stdout",
     "output_type": "stream",
     "text": [
      "Full name--> Santosh Subedi\n",
      "Experience --> 0\n",
      "Designation--> []\n",
      "Education--> []\n",
      "Email--> ['spavwan@gmail.com']\n",
      "Skills--> ['server', 'hibernate', 'jenkins', 'slack', 'nginx', 'rails', 'devops', 'linux', 'aws lambda', 'kubernetes', 'javascript', 'amazon web services', 'internet of things', 'shell', 'docker', 'github', 'helm', 'apache tomcat', 'python', 'junit', 'engineering', 'high availability', 'authentication', 'oracle', 'component', 'azure', 'spring boot', 'design', 'testing', 'business', 'ecommerce', 'git', 'security', 'perl', 'spring', 'java', 'continuous integration', 'network management', 'monitoring tools', 'ruby', 'microsoft azure', 'performance monitoring', 'software', 'databases', 'box', 'web server', 'support', 'sonar', 'apache ant', 'monitoring', 'framework', 'deployment', 'bash', 'code quality', 'continuous deployment', 'mysql', 'teamcity', 'vagrant', 'web servers', 'ubuntu', 'database security', 'ansible', 'passenger', 'version control system', 'docker swarm', 'source code', 'multiprocessing', 'terraform', 'middleware', 'code review', 'commerce', 'vault', 'database', 'beanstalk', 'compose', 'languages', 'nosql', 'content delivery network', 'play', 'confluence', 'pingdom', 'release', 'library', 'sonarqube', 'django']\n",
      "Phone number--> (530) 395-2112\n",
      "First name--> Pavwan Email\n"
     ]
    },
    {
     "name": "stderr",
     "output_type": "stream",
     "text": [
      "ERROR:root:correct_year() missing 1 required positional argument: 'text'\n"
     ]
    },
    {
     "name": "stdout",
     "output_type": "stream",
     "text": [
      "Full name--> 530\n",
      "Experience --> 0\n",
      "Designation--> []\n",
      "Education--> []\n",
      "Email--> []\n",
      "Skills--> ['interaction', 'groovy', 'rest api', 'server', 'project management', 'system testing', 'hibernate', 'jenkins', 'postgresql', 'react native', 'linux', 'ajax', 'bootstrap', 'aws lambda', 'application server', 'kubernetes', 'javascript', 'selenium', 'docker', 'karma', 'postman', 'github', 'apache tomcat', 'junit', 'python', 'react router', 'scala', 'oracle', 'flux', 'component', 'azure', 'spring boot', 'gradle', 'design', 'testing', 'business', 'git', 'spring', 'security', 'java', 'continuous integration', 'node.js', 'graphql', 'eclipse', 'jquery', 'queue', 'cloud storage', 'react', 'bamboo', 'serverless', 'software', 'databases', 'response time', 'support', 'monitoring', 'framework', 'deployment', 'visual studio', 'backbone.js', 'functional testing', 'openshift', 'mysql', 'node js', 'material', 'jasmine', 'google', 'terraform', 'mongodb', 'vault', 'azure cosmos db', 'business process', 'database', 'cloud foundry', 'angularjs', 'angular', 'kafka', 'nosql', 'languages', 'apache maven', 'mongoose', 'redux', 'data analysis', 'cucumber']\n",
      "Phone number--> 433-5556\n",
      "First name--> Java\n"
     ]
    },
    {
     "name": "stderr",
     "output_type": "stream",
     "text": [
      "ERROR:root:'NoneType' object has no attribute 'group'\n"
     ]
    },
    {
     "name": "stdout",
     "output_type": "stream",
     "text": [
      "Full name--> Java  Developer                                                                                                     \n",
      "Contact\n",
      "Experience --> 0\n",
      "Designation--> []\n",
      "Education--> ['MS']\n",
      "Email--> ['Jayfemal23@yahoo.com']\n"
     ]
    },
    {
     "name": "stderr",
     "output_type": "stream",
     "text": [
      "ERROR:root:'NoneType' object has no attribute 'group'\n"
     ]
    },
    {
     "name": "stdout",
     "output_type": "stream",
     "text": [
      "Skills--> ['communications', 'dart', 'visual basic', 'wireless', 'scanner', 'testing', 'business', 'database', 'security', 'support', 'business administration']\n",
      "Phone number--> (469) 583-2966\n",
      "First name--> Freda\n",
      "Full name--> Freda Ballard\n",
      "\n",
      "7179\n",
      "Experience --> 0\n",
      "Designation--> []\n",
      "Education--> []\n",
      "Email--> ['s.leeiam01@gmail.com']\n",
      "Skills--> ['apache tomcat', 'windows', 'junit', 'authentication', 'oracle', 'groovy', 'box', 'business process', 'server', 'component', 'support', 'hibernate', 'libraries', 'operating systems', 'framework', 'deployment', 'languages', 'design', 'testing', 'business', 'linux', 'mysql', 'access control', 'javascript', 'schedule', 'system integration', 'security', 'java', 'eclipse', 'shell', 'analytics', 'workflow']\n",
      "Phone number--> \n"
     ]
    },
    {
     "name": "stderr",
     "output_type": "stream",
     "text": [
      "ERROR:root:correct_year() missing 1 required positional argument: 'text'\n"
     ]
    },
    {
     "name": "stdout",
     "output_type": "stream",
     "text": [
      "First name--> Sujung\n",
      "Full name--> Sujung Lee\n",
      "\n",
      "Sailpoint Developer\n",
      "\n",
      "s.leeiam01@gmail.com\n",
      "Experience --> 0\n",
      "Designation--> []\n",
      "Education--> ['MS']\n",
      "Email--> ['devip.asb@gmail.com']\n",
      "Skills--> ['apache tomcat', 'windows', 'engineering', 'authentication', 'oracle', 'software', 'password management', 'databases', 'debugging', 'server', 'documentation', 'database', 'azure', 'web server', 'information retrieval', 'mobile', 'monitoring', 'framework', 'deployment', 'languages', 'design', 'testing', 'business', 'linux', 'mysql', 'front end', 'notepad++', 'git', 'access control', 'javascript', 'schedule', 'perl', 'security', 'java', 'eclipse', 'shell', 'operating systems', 'jquery']\n",
      "Phone number--> 3122160358\n"
     ]
    },
    {
     "name": "stderr",
     "output_type": "stream",
     "text": [
      "ERROR:root:correct_year() missing 1 required positional argument: 'text'\n"
     ]
    },
    {
     "name": "stdout",
     "output_type": "stream",
     "text": [
      "First name--> Devi\n",
      "Full name--> 3122160358\n",
      "\n",
      "\n",
      "\n",
      "\n",
      "\n",
      "\n",
      "\n",
      "\t7 years\n",
      "Experience --> 0\n",
      "Designation--> []\n",
      "Education--> ['MS']\n",
      "Email--> ['opeland@gmail.c']\n",
      "Skills--> ['google', 'engineering', 'software', 'slack', 'business', 'confluence', 'support', 'help desk']\n",
      "Phone number--> 757.652.8543\n",
      "First name--> Logic\n"
     ]
    },
    {
     "name": "stderr",
     "output_type": "stream",
     "text": [
      "ERROR:root:correct_year() missing 1 required positional argument: 'text'\n"
     ]
    },
    {
     "name": "stdout",
     "output_type": "stream",
     "text": [
      "Full name--> OPELAND\n",
      "Experience --> 0\n",
      "Designation--> []\n",
      "Education--> []\n",
      "Email--> []\n"
     ]
    },
    {
     "name": "stderr",
     "output_type": "stream",
     "text": [
      "ERROR:root:correct_year() missing 1 required positional argument: 'text'\n"
     ]
    },
    {
     "name": "stdout",
     "output_type": "stream",
     "text": [
      "Skills--> ['queue', 'windows', 'engineering', 'software', 'authentication', 'server', 'system testing', 'support', 'mobile', 'android', 'design', 'business', 'ios', 'skype', 'security', 'help desk', 'dropbox', 'shell', 'operating systems', 'workflow']\n",
      "Phone number--> \n",
      "First name--> Joel Mokak\n",
      "Full name--> Dallas\n",
      "Experience --> 0\n",
      "Designation--> []\n",
      "Education--> []\n",
      "Email--> []\n",
      "Skills--> ['windows', 'software', 'oracle', 'databases', 'component', 'server', 'documentation', 'database', 'simulation', 'wireless', 'hibernate', 'support', 'spring boot', 'libraries', 'framework', 'fusion', 'deployment', 'kafka', 'design', 'testing', 'linux', 'release', 'git', 'javascript', 'computer science', 'file storage', 'perl', 'java', 'eclipse', 'shell', 'performance monitoring', 'postman', 'marketing']\n",
      "Phone number--> 010-2012\n"
     ]
    },
    {
     "name": "stderr",
     "output_type": "stream",
     "text": [
      "ERROR:root:correct_year() missing 1 required positional argument: 'text'\n"
     ]
    },
    {
     "name": "stdout",
     "output_type": "stream",
     "text": [
      "First name--> Michele\n",
      "Full name--> Michele Glover\n",
      "\n",
      "Sr\n",
      "Experience --> 0\n",
      "Designation--> []\n",
      "Education--> []\n",
      "Email--> ['andseliga@gmail.com']\n"
     ]
    },
    {
     "name": "stderr",
     "output_type": "stream",
     "text": [
      "ERROR:root:'NoneType' object has no attribute 'group'\n"
     ]
    },
    {
     "name": "stdout",
     "output_type": "stream",
     "text": [
      "Skills--> ['windows', 'software', 'authentication', 'design', 'ethernet', 'server', 'project management', 'azure', 'security', 'systems engineering', 'support', 'mobile', 'database']\n",
      "Phone number--> (872) 803-7171\n",
      "First name--> Andrzej Seliga\n",
      "Full name--> Andrzej Seliga\n",
      "\n",
      "5849\n",
      "Experience --> 0\n",
      "Designation--> []\n",
      "Education--> []\n",
      "Email--> ['chriskanu227@gmail.com']\n",
      "Skills--> ['windows', 'software', 'documentation', 'cucumber', 'support', 'mobile', 'chrome', 'design', 'testing', 'business', 'browser testing', 'linux', 'mysql', 'certificate', 'javascript', 'java', 'firefox', 'payments', 'selenium', 'eclipse', 'operating systems', 'workflow']\n",
      "Phone number--> \n",
      "First name--> Dallas\n"
     ]
    },
    {
     "name": "stderr",
     "output_type": "stream",
     "text": [
      "ERROR:root:correct_year() missing 1 required positional argument: 'text'\n"
     ]
    },
    {
     "name": "stdout",
     "output_type": "stream",
     "text": [
      "Full name--> CHRIS KANU\n",
      "Experience --> 0\n",
      "Designation--> []\n",
      "Education--> ['MS', 'ms']\n",
      "Email--> ['prash.bojja@gmail.com']\n",
      "Skills--> ['apache tomcat', 'windows', 'code review', 'software', 'password management', 'oracle', 'databases', 'box', 'business process', 'server', 'debugging', 'documentation', 'database', 'data modeling', 'support', 'hibernate', 'spring boot', 'libraries', 'framework', 'data structures', 'deployment', 'languages', 'design', 'testing', 'business', 'linux', 'mysql', 'access control', 'javascript', 'computer science', 'security', 'spring', 'user interface', 'java', 'data mining', 'publishing', 'payments', 'eclipse', 'shell', 'operating systems', 'workflow']\n",
      "Phone number--> 571 396 4454\n"
     ]
    },
    {
     "name": "stderr",
     "output_type": "stream",
     "text": [
      "ERROR:root:correct_year() missing 1 required positional argument: 'text'\n"
     ]
    },
    {
     "name": "stdout",
     "output_type": "stream",
     "text": [
      "First name--> Roles\n",
      "Full name--> SailPoint\n",
      "Experience --> 0\n",
      "Designation--> []\n",
      "Education--> ['MS']\n",
      "Email--> ['mabrahim1991@gmail.com']\n"
     ]
    },
    {
     "name": "stderr",
     "output_type": "stream",
     "text": [
      "ERROR:root:correct_year() missing 1 required positional argument: 'text'\n"
     ]
    },
    {
     "name": "stdout",
     "output_type": "stream",
     "text": [
      "Skills--> ['software', 'engineering', 'design', 'medium']\n",
      "Phone number--> 808-358-8302\n",
      "First name--> Houston\n",
      "Full name--> ABRAHIM\n",
      "Experience --> 0\n",
      "Designation--> []\n",
      "Education--> []\n",
      "Email--> ['0226@gmail.com', '0226@gmail.com']\n",
      "Skills--> ['typescript', 'python', 'windows', 'engineering', 'react', 'mongodb', 'software engineering', 'software', 'pixel', 'firebase', 'commerce', 'gitlab', 'relational database', 'database', 'mobile', 'android', 'libraries', 'angularjs', 'angular', 'wordpress', 'trello', 'languages', 'design', 'testing', 'data structure', 'react native', 'linux', 'ios', 'mysql', 'javascript', 'computer science', 'laravel', 'vue.js', 'java', 'node.js', 'google', 'shopify', 'codeigniter', 'graphql', 'algorithms', 'github', 'macos']\n",
      "Phone number--> 808 619 4488\n",
      "First name--> React Developer Web\n"
     ]
    },
    {
     "name": "stderr",
     "output_type": "stream",
     "text": [
      "ERROR:root:'NoneType' object has no attribute 'group'\n"
     ]
    },
    {
     "name": "stdout",
     "output_type": "stream",
     "text": [
      "Full name--> 25 Jan 2022\n",
      "Experience --> 0\n",
      "Designation--> []\n",
      "Education--> []\n",
      "Email--> ['Sparsh.goel1909@gmail.com']\n",
      "Skills--> ['apache tomcat', 'junit', 'engineering', 'oracle', 'databases', 'box', 'server', 'documentation', 'database', 'hibernate', 'framework', 'deployment', 'design', 'testing', 'business', 'mysql', 'front end', 'release', 'schedule', 'javascript', 'computer science']\n",
      "Phone number--> 352-745-5717\n"
     ]
    },
    {
     "name": "stderr",
     "output_type": "stream",
     "text": [
      "ERROR:root:'NoneType' object has no attribute 'group'\n"
     ]
    },
    {
     "name": "stdout",
     "output_type": "stream",
     "text": [
      "First name--> Logical\n",
      "Full name--> SPARSH GOEL                                            IAM SailPoint\n",
      "Experience --> 0\n",
      "Designation--> []\n",
      "Education--> []\n",
      "Email--> ['odumedelphine@gmail.com']\n",
      "Skills--> ['windows', 'tableau', 'release', 'framework', 'finance', 'support', 'software', 'shippable', 'telecommunications', 'computer science', 'server', 'documentation', 'confluence', 'business', 'unity', 'linux', 'ios', 'chrome']\n",
      "Phone number--> 904-416-8252\n"
     ]
    },
    {
     "name": "stderr",
     "output_type": "stream",
     "text": [
      "ERROR:root:'NoneType' object has no attribute 'end'\n"
     ]
    },
    {
     "name": "stdout",
     "output_type": "stream",
     "text": [
      "First name--> Agile Champion\n",
      "Full name--> 904\n",
      "Experience --> 0\n",
      "Designation--> []\n",
      "Education--> ['MS']\n",
      "Email--> ['kottekumar611@gmail.com']\n"
     ]
    }
   ],
   "source": [
    "import os\n",
    "import itertools\n",
    "import PyPDF2  #library used for converting pdf to text\n",
    "import docx2txt #library used for translating docx to text\n",
    "\n",
    "import joblib\n",
    "from joblib import Parallel, delayed #to make it easy to write readable parallel code and debug it quickly\n",
    "\n",
    "import re #to check if a string contains the specified search pattern\n",
    "\n",
    "import logging #tracking events that happen when some software runs\n",
    "\n",
    "import nltk #it provides text processing libraries\n",
    "\n",
    "\n",
    "nltk.download('punkt')\n",
    "nltk.download('averaged_perceptron_tagger')\n",
    "nltk.download('maxent_ne_chunker')\n",
    "nltk.download('words')\n",
    "\n",
    "import spacy #for information extraction and natural language understanding\n",
    "english_nlp = spacy.load('en_core_web_sm')\n",
    "import en_core_web_sm #en (english), core (vocabulary, syntax, entities), web (written text), sm (size-12MB)\n",
    "from spacy.matcher import Matcher #The Matcher lets you find words and phrases using rules describing their token attributes\n",
    "from spacy.matcher import PhraseMatcher\n",
    "nlp = en_core_web_sm.load()\n",
    "designitionmatcher = PhraseMatcher(nlp.vocab)\n",
    "from nltk.corpus import stopwords #To remove stopwords as part of text preprocessing\n",
    "\n",
    "STOPWORDS = set(stopwords.words('english'))\n",
    "EDUCATION = [\n",
    "            'BE','B.E.', 'B.E', 'BS', 'B.S', \n",
    "            'ME', 'M.E', 'M.E.', 'M.B.A', 'MBA', 'MS', 'M.S', \n",
    "            'BTECH', 'B.TECH', 'M.TECH', 'MTECH', \n",
    "            'SSLC', 'SSC' 'HSC', 'CBSE', 'ICSE', 'X', 'XII' , \n",
    "            'Pre-University' , 'Engineering' , 'Central Board of Secondary Education'\n",
    "        ]\n",
    "\n",
    "class resumeparsing():\n",
    "\n",
    "    def sub_control(self,text):\n",
    "        print(\"Email-->\", self.find_email(text))\n",
    "        print(\"Skills-->\", self.find_skills(text))\n",
    "        print(\"Phone number-->\", self.find_phone(text))\n",
    "        print(\"First name-->\", self.find_firstname(text))\n",
    "        print(\"Full name-->\", self.find_fullname(text))\n",
    "        print(\"Experience -->\", self.find_experience(text))\n",
    "        print(\"Designation-->\", self.find_designition(text))\n",
    "        print(\"Education-->\", self.find_education(text))\n",
    "\n",
    "    def iteratingfile(self):\n",
    "        directory = 'C:\\\\Users\\\\admin\\\\Desktop\\\\Ceipal US resume files'\n",
    "        for filename in os.listdir(directory):  \n",
    "            f = os.path.join(directory, filename)\n",
    "            if os.path.isfile(f):\n",
    "                if f.endswith(\".pdf\"):\n",
    "                    text = self.pdf_to_text(f)\n",
    "                    self.sub_control(text)\n",
    "                if f.endswith(\".docx\"):\n",
    "                    text =  self.doc_to_text(f)\n",
    "                    self.sub_control(text)\n",
    "\n",
    "    def pdf_to_text (self,filepath):\n",
    "        try:\n",
    "            pdfFileObj = open(filepath, 'rb') \n",
    "            pdfReader = PyPDF2.PdfFileReader(pdfFileObj) \n",
    "            x = pdfReader.numPages\n",
    "            text = ''\n",
    "            for i in range(x):\n",
    "                pages = pdfReader.getPage(i)\n",
    "                text += pages.extractText()                    \n",
    "            return text\n",
    "        except:\n",
    "            pass\n",
    "    \n",
    "    def doc_to_text (self,filepath):\n",
    "        try:\n",
    "            text = ''\n",
    "            text += docx2txt.process(filepath)\n",
    "            return text\n",
    "        except:\n",
    "            pass\n",
    "\n",
    "    def find_email(self,text):\n",
    "        try:\n",
    "            r = re.compile(r'[\\w\\.-]+@[\\w\\.-]+')\n",
    "            return r.findall(text)\n",
    "        except:\n",
    "            pass\n",
    "\n",
    "    def get_skills(self,text,nlp_from_joblib):\n",
    "        try:\n",
    "            doc = nlp_from_joblib(text)\n",
    "            myset = []\n",
    "            subset = []\n",
    "            for ent in doc.ents:\n",
    "                if ent.label_ == \"SKILL\":\n",
    "                    subset.append(ent.text)\n",
    "            myset.append(subset)\n",
    "            return subset\n",
    "        except:\n",
    "            pass\n",
    "\n",
    "    def find_skills(self,text):\n",
    "        try :\n",
    "            nlp_from_joblib = joblib.load('C:\\\\Users\\\\admin\\\\Desktop\\\\Skills Extraction\\\\resumefinal.pkl')\n",
    "            nlp_from_joblib(text)\n",
    "            resume_skills = list(set(self.get_skills(text.lower(),nlp_from_joblib)))\n",
    "            return resume_skills\n",
    "        except:\n",
    "            pass\n",
    "\n",
    "    def find_phone(self,text):\n",
    "        try:\n",
    "            return list(iter(phonenumbers.PhoneNumberMatcher(text, None)))[0].raw_string\n",
    "        except:\n",
    "            try:\n",
    "                return re.search(\n",
    "                    r'(\\d{3}[-\\.\\s]??\\d{3}[-\\.\\s]??\\d{4}|\\(\\d{3}\\)\\s*\\d{3}[-\\.\\s]??\\d{4}|\\d{3}[-\\.\\s]??\\d{4})',\n",
    "                    text).group()\n",
    "            except:\n",
    "                return \"\"\n",
    "\n",
    "    def find_firstname(self,text):\n",
    "        try:\n",
    "            person_names = []\n",
    " \n",
    "            for sent in nltk.sent_tokenize(text):\n",
    "                for chunk in nltk.ne_chunk(nltk.pos_tag(nltk.word_tokenize(sent))):\n",
    "                    if hasattr(chunk, 'label') and chunk.label() == 'PERSON':\n",
    "                        person_names.append(\n",
    "                        ' '.join(chunk_leave[0] for chunk_leave in chunk.leaves())\n",
    "                        )\n",
    " \n",
    "            return person_names[0]\n",
    "        except:\n",
    "            pass\n",
    "\n",
    "    def find_fullname(self,text):\n",
    "        try:\n",
    "            spacy_parser = english_nlp(text)\n",
    "            return(spacy_parser.ents[0])\n",
    "        except:\n",
    "            pass\n",
    "    \n",
    "    def find_experience(self,text):\n",
    "        try:\n",
    "            def correct_year(self,text):\n",
    "                if len(text) < 2:\n",
    "                    if int(text) > int(str(date.today().year)[-2:]):\n",
    "                        text = str(int(str(date.today().year)[:-2]) - 1) + text\n",
    "                    else:\n",
    "                        text = str(date.today().year)[:-2] + text\n",
    "                return text\n",
    "\n",
    "  \n",
    "            experience = 0\n",
    "            start_month = -1\n",
    "            start_year = -1\n",
    "            end_month = -1\n",
    "            end_year = -1\n",
    "\n",
    "            not_alpha_numeric = r'[^a-zA-Z\\d]'\n",
    "            number = r'(\\d{2})'\n",
    "\n",
    "            months_num = r'(01)|(02)|(03)|(04)|(05)|(06)|(07)|(08)|(09)|(10)|(11)|(12)'\n",
    "            months_short = r'(jan)|(feb)|(mar)|(apr)|(may)|(jun)|(jul)|(aug)|(sep)|(oct)|(nov)|(dec)'\n",
    "            months_long = r'(january)|(february)|(march)|(april)|(may)|(june)|(july)|(august)|(september)|(october)|(november)|(december)'\n",
    "            month = r'(' + months_num + r'|' + months_short + r'|' + months_long + r')'\n",
    "            regex_year = r'((20|19)(\\d{2})|(\\d{2}))'\n",
    "            year = regex_year\n",
    "            start_date = month + not_alpha_numeric + r\"?\" + year\n",
    "        \n",
    "            end_date = r'((' + number + r'?' + not_alpha_numeric + r\"?\" + month + not_alpha_numeric + r\"?\" + year + r')|(present|current|till date|today))'\n",
    "            longer_year = r\"((20|19)(\\d{2}))\"\n",
    "            year_range = longer_year + r\"(\" + not_alpha_numeric + r\"{1,4}|(\\s*to\\s*))\" + r'(' + longer_year + r'|(present|current|till date|today))'\n",
    "            date_range = r\"(\" + start_date + r\"(\" + not_alpha_numeric + r\"{1,4}|(\\s*to\\s*))\" + end_date + r\")|(\" + year_range + r\")\"\n",
    "\n",
    "        \n",
    "            regular_expression = re.compile(date_range, re.IGNORECASE)\n",
    "        \n",
    "            regex_result = re.search(regular_expression, text)\n",
    "\n",
    "            while regex_result:\n",
    "          \n",
    "                try:\n",
    "                    date_range = regex_result.group()\n",
    "                    try:\n",
    "              \n",
    "                        year_range_find = re.compile(year_range, re.IGNORECASE)\n",
    "                        year_range_find = re.search(year_range_find, date_range)\n",
    "               \n",
    "                        replace = re.compile(r\"((\\s*to\\s*)|\" + not_alpha_numeric + r\"{1,4})\", re.IGNORECASE)\n",
    "                        replace = re.search(replace, year_range_find.group().strip())\n",
    "         \n",
    "                        start_year_result, end_year_result = year_range_find.group().strip().split(replace.group())\n",
    "       \n",
    "                        start_year_result = int(correct_year(start_year_result))\n",
    "                        if (end_year_result.lower().find('present') != -1 or \n",
    "                            end_year_result.lower().find('current') != -1 or \n",
    "                            end_year_result.lower().find('till date') != -1 or \n",
    "                            end_year_result.lower().find('today') != -1): \n",
    "                            end_month = date.today().month  # current month\n",
    "                            end_year_result = date.today().year  \n",
    "                        else:\n",
    "                            end_year_result = int(correct_year(end_year_result))\n",
    "\n",
    "                    except Exception as e:\n",
    "            \n",
    "                        start_date_find = re.compile(start_date, re.IGNORECASE)\n",
    "                        start_date_find = re.search(start_date_find, date_range)\n",
    "\n",
    "                        non_alpha = re.compile(not_alpha_numeric, re.IGNORECASE)\n",
    "                        non_alpha_find = re.search(non_alpha, start_date_find.group().strip())\n",
    "\n",
    "                        replace = re.compile(start_date + r\"(\" + not_alpha_numeric + r\"{1,4}|(\\s*to\\s*))\", re.IGNORECASE)\n",
    "                        replace = re.search(replace, date_range)\n",
    "                        date_range = date_range[replace.end():]\n",
    "        \n",
    "                        start_year_result = start_date_find.group().strip().split(non_alpha_find.group())[-1]\n",
    "\n",
    "           \n",
    "                        start_year_result = int(correct_year(start_year_result))\n",
    "\n",
    "                        if date_range.lower().find('present') != -1 or date_range.lower().find('current') != -1:\n",
    "                            end_month = date.today().month \n",
    "                            end_year_result = date.today().year \n",
    "                        else:\n",
    "                            end_date_find = re.compile(end_date, re.IGNORECASE)\n",
    "                            end_date_find = re.search(end_date_find, date_range)\n",
    "\n",
    "                            end_year_result = end_date_find.group().strip().split(non_alpha_find.group())[-1]\n",
    "\n",
    "                            try:\n",
    "                                end_year_result = int(correct_year(end_year_result))\n",
    "                            except Exception as e:\n",
    "                                logging.error(str(e))\n",
    "                                end_year_result = int(re.search(\"\\d+\",correct_year(end_year_result)).group())\n",
    "\n",
    "                    if (start_year == -1) or (start_year_result <= start_year):\n",
    "                        start_year = start_year_result\n",
    "                    if (end_year == -1) or (end_year_result >= end_year):\n",
    "                        end_year = end_year_result\n",
    "\n",
    "                    text = text[regex_result.end():].strip()\n",
    "                    regex_result = re.search(regular_expression, text)\n",
    "                except Exception as e:\n",
    "                    logging.error(str(e))\n",
    "                    text = text[regex_result.end():].strip()\n",
    "                    regex_result = re.search(regular_expression, text)\n",
    "            \n",
    "                return end_year - start_year\n",
    "        except:\n",
    "            pass\n",
    "                    \n",
    "    def get_experience(self,text):\n",
    "        try:\n",
    "            total_exp = 0\n",
    "            if len(text['work_and_employment'].keys()):\n",
    "                text = \"\"\n",
    "                for key, values in text['work_and_employment'].items():\n",
    "                    text += \" \".join(values) + \" \"\n",
    "                    total_exp = resumeparse.calculate_experience(text)\n",
    "                    return total_exp, text\n",
    "            else:\n",
    "                text = \"\"\n",
    "                for key in text.keys():\n",
    "                    if key != 'education_and_training':\n",
    "                        if key == 'contact_info':\n",
    "                            text += \" \".join(text[key]) + \" \"\n",
    "                        else:\n",
    "                            for key_inner, value in restextme_segments[key].items():\n",
    "                                text += \" \".join(value) + \" \"\n",
    "                total_exp = resumeparse.calculate_experience(text)\n",
    "                return total_exp, text\n",
    "            return total_exp, \" \"\n",
    "        except:\n",
    "            pass\n",
    "        \n",
    "    # def getExperience(self,text,infoDict,debug=False):\n",
    "    #     experience=[]\n",
    "    #     try:\n",
    "    #         for sentence in self.lines:#find the index of the sentence where the degree is find and then analyse that sentence\n",
    "    #                 sen=\" \".join([words[0].lower() for words in sentence]) #string of words in sentence\n",
    "    #                 if re.search('experience',sen):\n",
    "    #                     sen_tokenised= nltk.word_tokenize(sen)\n",
    "    #                     tagged = nltk.pos_tag(sen_tokenised)\n",
    "    #                     entities = nltk.chunk.ne_chunk(tagged)\n",
    "    #                     for subtree in entities.subtrees():\n",
    "    #                         for leaf in subtree.leaves():\n",
    "    #                             if leaf[1]=='CD':\n",
    "    #                                 experience=leaf[0]\n",
    "    #     except Exception as e:\n",
    "    #         print traceback.format_exc()\n",
    "    #         print e \n",
    "    #     if experience:\n",
    "    #         infoDict['experience'] = experience\n",
    "    #     else:\n",
    "    #         infoDict['experience']=0\n",
    "    #     if debug:\n",
    "    #         print \"\\n\", print(infoDict), \"\\n\"\n",
    "    #         code.interact(local=locals())\n",
    "    #     return experience\n",
    "\n",
    "\n",
    "    def find_designition(self,text):\n",
    "        try:\n",
    "            job_titles = []\n",
    "            nlp = en_core_web_sm.load()\n",
    "        \n",
    "            __nlp = nlp(text.lower())\n",
    "        \n",
    "            matches = designitionmatcher(__nlp)\n",
    "            for match_id, start, end in matches:\n",
    "                span = __nlp[start:end]\n",
    "                job_titles.append(span.text)\n",
    "            return job_titles\n",
    "        except:\n",
    "            pass\n",
    "\n",
    "    def find_education(self,text):\n",
    "        try:\n",
    "            nlp_text = nlp(text)\n",
    "            nlp_text = [sent.text.strip() for sent in nlp_text.sents]\n",
    "\n",
    "            edu = {}\n",
    "            for index, text in enumerate(nlp_text):\n",
    "                for tex in text.split():\n",
    "                    tex = re.sub(r'[?|$|.|!|,]', r'', tex)\n",
    "                    if tex.upper() in EDUCATION and tex not in STOPWORDS:\n",
    "                        edu[tex] = text + nlp_text[index + 1]\n",
    "            education = []\n",
    "            for key in edu.keys():\n",
    "                year = re.search(re.compile(r'(((20|19)(\\d{})))'), edu[key])\n",
    "                if year:\n",
    "                    education.append((key, ''.join(year[0])))\n",
    "                else:\n",
    "                    education.append(key)\n",
    "            return education\n",
    "        except:\n",
    "            pass\n",
    "\n",
    "rp1 = resumeparsing()\n",
    "\n",
    "text = rp1.iteratingfile()\n",
    "print(text)"
   ]
  }
 ],
 "metadata": {
  "kernelspec": {
   "display_name": "Python 3.8.6 64-bit",
   "language": "python",
   "name": "python3"
  },
  "language_info": {
   "codemirror_mode": {
    "name": "ipython",
    "version": 3
   },
   "file_extension": ".py",
   "mimetype": "text/x-python",
   "name": "python",
   "nbconvert_exporter": "python",
   "pygments_lexer": "ipython3",
   "version": "3.8.6"
  },
  "orig_nbformat": 4,
  "vscode": {
   "interpreter": {
    "hash": "570feb405e2e27c949193ac68f46852414290d515b0ba6e5d90d076ed2284471"
   }
  }
 },
 "nbformat": 4,
 "nbformat_minor": 2
}
